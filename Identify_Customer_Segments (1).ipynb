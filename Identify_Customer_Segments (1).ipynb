{
 "cells": [
  {
   "cell_type": "markdown",
   "metadata": {},
   "source": [
    "# Project: Identify Customer Segments\n",
    "\n",
    "In this project, you will apply unsupervised learning techniques to identify segments of the population that form the core customer base for a mail-order sales company in Germany. These segments can then be used to direct marketing campaigns towards audiences that will have the highest expected rate of returns. The data that you will use has been provided by our partners at Bertelsmann Arvato Analytics, and represents a real-life data science task.\n",
    "\n",
    "This notebook will help you complete this task by providing a framework within which you will perform your analysis steps. In each step of the project, you will see some text describing the subtask that you will perform, followed by one or more code cells for you to complete your work. **Feel free to add additional code and markdown cells as you go along so that you can explore everything in precise chunks.** The code cells provided in the base template will outline only the major tasks, and will usually not be enough to cover all of the minor tasks that comprise it.\n",
    "\n",
    "It should be noted that while there will be precise guidelines on how you should handle certain tasks in the project, there will also be places where an exact specification is not provided. **There will be times in the project where you will need to make and justify your own decisions on how to treat the data.** These are places where there may not be only one way to handle the data. In real-life tasks, there may be many valid ways to approach an analysis task. One of the most important things you can do is clearly document your approach so that other scientists can understand the decisions you've made.\n",
    "\n",
    "At the end of most sections, there will be a Markdown cell labeled **Discussion**. In these cells, you will report your findings for the completed section, as well as document the decisions that you made in your approach to each subtask. **Your project will be evaluated not just on the code used to complete the tasks outlined, but also your communication about your observations and conclusions at each stage.**"
   ]
  },
  {
   "cell_type": "code",
   "execution_count": 1,
   "metadata": {},
   "outputs": [
    {
     "data": {
      "text/plain": [
       "'\\nImport note: The classroom currently uses sklearn version 0.19.\\nIf you need to use an imputer, it is available in sklearn.preprocessing.Imputer,\\ninstead of sklearn.impute as in newer versions of sklearn.\\n'"
      ]
     },
     "execution_count": 1,
     "metadata": {},
     "output_type": "execute_result"
    }
   ],
   "source": [
    "# import libraries here; add more as necessary\n",
    "import numpy as np\n",
    "import pandas as pd\n",
    "import matplotlib.pyplot as plt\n",
    "import seaborn as sns\n",
    "from sklearn.preprocessing import Imputer, StandardScaler\n",
    "from sklearn.decomposition import PCA\n",
    "from sklearn.cluster import KMeans\n",
    "\n",
    "# magic word for producing visualizations in notebook\n",
    "%matplotlib inline\n",
    "\n",
    "'''\n",
    "Import note: The classroom currently uses sklearn version 0.19.\n",
    "If you need to use an imputer, it is available in sklearn.preprocessing.Imputer,\n",
    "instead of sklearn.impute as in newer versions of sklearn.\n",
    "'''"
   ]
  },
  {
   "cell_type": "markdown",
   "metadata": {},
   "source": [
    "### Step 0: Load the Data\n",
    "\n",
    "There are four files associated with this project (not including this one):\n",
    "\n",
    "- `Udacity_AZDIAS_Subset.csv`: Demographics data for the general population of Germany; 891211 persons (rows) x 85 features (columns).\n",
    "- `Udacity_CUSTOMERS_Subset.csv`: Demographics data for customers of a mail-order company; 191652 persons (rows) x 85 features (columns).\n",
    "- `Data_Dictionary.md`: Detailed information file about the features in the provided datasets.\n",
    "- `AZDIAS_Feature_Summary.csv`: Summary of feature attributes for demographics data; 85 features (rows) x 4 columns\n",
    "\n",
    "Each row of the demographics files represents a single person, but also includes information outside of individuals, including information about their household, building, and neighborhood. You will use this information to cluster the general population into groups with similar demographic properties. Then, you will see how the people in the customers dataset fit into those created clusters. The hope here is that certain clusters are over-represented in the customers data, as compared to the general population; those over-represented clusters will be assumed to be part of the core userbase. This information can then be used for further applications, such as targeting for a marketing campaign.\n",
    "\n",
    "To start off with, load in the demographics data for the general population into a pandas DataFrame, and do the same for the feature attributes summary. Note for all of the `.csv` data files in this project: they're semicolon (`;`) delimited, so you'll need an additional argument in your [`read_csv()`](https://pandas.pydata.org/pandas-docs/stable/generated/pandas.read_csv.html) call to read in the data properly. Also, considering the size of the main dataset, it may take some time for it to load completely.\n",
    "\n",
    "Once the dataset is loaded, it's recommended that you take a little bit of time just browsing the general structure of the dataset and feature summary file. You'll be getting deep into the innards of the cleaning in the first major step of the project, so gaining some general familiarity can help you get your bearings."
   ]
  },
  {
   "cell_type": "code",
   "execution_count": 2,
   "metadata": {},
   "outputs": [],
   "source": [
    "# Load in the general demographics data.\n",
    "azdias = pd.read_csv('Udacity_AZDIAS_Subset.csv', sep=';')\n",
    "\n",
    "# Load in the feature summary file.\n",
    "feat_info = pd.read_csv('AZDIAS_Feature_Summary.csv', sep=';')"
   ]
  },
  {
   "cell_type": "code",
   "execution_count": 3,
   "metadata": {},
   "outputs": [
    {
     "data": {
      "text/plain": [
       "((891221, 85), (85, 4))"
      ]
     },
     "execution_count": 3,
     "metadata": {},
     "output_type": "execute_result"
    }
   ],
   "source": [
    "# Output shape of files to see number of rows and columns\n",
    "azdias.shape, feat_info.shape"
   ]
  },
  {
   "cell_type": "code",
   "execution_count": 4,
   "metadata": {},
   "outputs": [
    {
     "data": {
      "text/html": [
       "<div>\n",
       "<style scoped>\n",
       "    .dataframe tbody tr th:only-of-type {\n",
       "        vertical-align: middle;\n",
       "    }\n",
       "\n",
       "    .dataframe tbody tr th {\n",
       "        vertical-align: top;\n",
       "    }\n",
       "\n",
       "    .dataframe thead th {\n",
       "        text-align: right;\n",
       "    }\n",
       "</style>\n",
       "<table border=\"1\" class=\"dataframe\">\n",
       "  <thead>\n",
       "    <tr style=\"text-align: right;\">\n",
       "      <th></th>\n",
       "      <th>AGER_TYP</th>\n",
       "      <th>ALTERSKATEGORIE_GROB</th>\n",
       "      <th>ANREDE_KZ</th>\n",
       "      <th>CJT_GESAMTTYP</th>\n",
       "      <th>FINANZ_MINIMALIST</th>\n",
       "      <th>FINANZ_SPARER</th>\n",
       "      <th>FINANZ_VORSORGER</th>\n",
       "      <th>FINANZ_ANLEGER</th>\n",
       "      <th>FINANZ_UNAUFFAELLIGER</th>\n",
       "      <th>FINANZ_HAUSBAUER</th>\n",
       "      <th>...</th>\n",
       "      <th>PLZ8_ANTG1</th>\n",
       "      <th>PLZ8_ANTG2</th>\n",
       "      <th>PLZ8_ANTG3</th>\n",
       "      <th>PLZ8_ANTG4</th>\n",
       "      <th>PLZ8_BAUMAX</th>\n",
       "      <th>PLZ8_HHZ</th>\n",
       "      <th>PLZ8_GBZ</th>\n",
       "      <th>ARBEIT</th>\n",
       "      <th>ORTSGR_KLS9</th>\n",
       "      <th>RELAT_AB</th>\n",
       "    </tr>\n",
       "  </thead>\n",
       "  <tbody>\n",
       "    <tr>\n",
       "      <th>0</th>\n",
       "      <td>-1</td>\n",
       "      <td>2</td>\n",
       "      <td>1</td>\n",
       "      <td>2.0</td>\n",
       "      <td>3</td>\n",
       "      <td>4</td>\n",
       "      <td>3</td>\n",
       "      <td>5</td>\n",
       "      <td>5</td>\n",
       "      <td>3</td>\n",
       "      <td>...</td>\n",
       "      <td>NaN</td>\n",
       "      <td>NaN</td>\n",
       "      <td>NaN</td>\n",
       "      <td>NaN</td>\n",
       "      <td>NaN</td>\n",
       "      <td>NaN</td>\n",
       "      <td>NaN</td>\n",
       "      <td>NaN</td>\n",
       "      <td>NaN</td>\n",
       "      <td>NaN</td>\n",
       "    </tr>\n",
       "    <tr>\n",
       "      <th>1</th>\n",
       "      <td>-1</td>\n",
       "      <td>1</td>\n",
       "      <td>2</td>\n",
       "      <td>5.0</td>\n",
       "      <td>1</td>\n",
       "      <td>5</td>\n",
       "      <td>2</td>\n",
       "      <td>5</td>\n",
       "      <td>4</td>\n",
       "      <td>5</td>\n",
       "      <td>...</td>\n",
       "      <td>2.0</td>\n",
       "      <td>3.0</td>\n",
       "      <td>2.0</td>\n",
       "      <td>1.0</td>\n",
       "      <td>1.0</td>\n",
       "      <td>5.0</td>\n",
       "      <td>4.0</td>\n",
       "      <td>3.0</td>\n",
       "      <td>5.0</td>\n",
       "      <td>4.0</td>\n",
       "    </tr>\n",
       "    <tr>\n",
       "      <th>2</th>\n",
       "      <td>-1</td>\n",
       "      <td>3</td>\n",
       "      <td>2</td>\n",
       "      <td>3.0</td>\n",
       "      <td>1</td>\n",
       "      <td>4</td>\n",
       "      <td>1</td>\n",
       "      <td>2</td>\n",
       "      <td>3</td>\n",
       "      <td>5</td>\n",
       "      <td>...</td>\n",
       "      <td>3.0</td>\n",
       "      <td>3.0</td>\n",
       "      <td>1.0</td>\n",
       "      <td>0.0</td>\n",
       "      <td>1.0</td>\n",
       "      <td>4.0</td>\n",
       "      <td>4.0</td>\n",
       "      <td>3.0</td>\n",
       "      <td>5.0</td>\n",
       "      <td>2.0</td>\n",
       "    </tr>\n",
       "    <tr>\n",
       "      <th>3</th>\n",
       "      <td>2</td>\n",
       "      <td>4</td>\n",
       "      <td>2</td>\n",
       "      <td>2.0</td>\n",
       "      <td>4</td>\n",
       "      <td>2</td>\n",
       "      <td>5</td>\n",
       "      <td>2</td>\n",
       "      <td>1</td>\n",
       "      <td>2</td>\n",
       "      <td>...</td>\n",
       "      <td>2.0</td>\n",
       "      <td>2.0</td>\n",
       "      <td>2.0</td>\n",
       "      <td>0.0</td>\n",
       "      <td>1.0</td>\n",
       "      <td>3.0</td>\n",
       "      <td>4.0</td>\n",
       "      <td>2.0</td>\n",
       "      <td>3.0</td>\n",
       "      <td>3.0</td>\n",
       "    </tr>\n",
       "    <tr>\n",
       "      <th>4</th>\n",
       "      <td>-1</td>\n",
       "      <td>3</td>\n",
       "      <td>1</td>\n",
       "      <td>5.0</td>\n",
       "      <td>4</td>\n",
       "      <td>3</td>\n",
       "      <td>4</td>\n",
       "      <td>1</td>\n",
       "      <td>3</td>\n",
       "      <td>2</td>\n",
       "      <td>...</td>\n",
       "      <td>2.0</td>\n",
       "      <td>4.0</td>\n",
       "      <td>2.0</td>\n",
       "      <td>1.0</td>\n",
       "      <td>2.0</td>\n",
       "      <td>3.0</td>\n",
       "      <td>3.0</td>\n",
       "      <td>4.0</td>\n",
       "      <td>6.0</td>\n",
       "      <td>5.0</td>\n",
       "    </tr>\n",
       "  </tbody>\n",
       "</table>\n",
       "<p>5 rows × 85 columns</p>\n",
       "</div>"
      ],
      "text/plain": [
       "   AGER_TYP  ALTERSKATEGORIE_GROB  ANREDE_KZ  CJT_GESAMTTYP  \\\n",
       "0        -1                     2          1            2.0   \n",
       "1        -1                     1          2            5.0   \n",
       "2        -1                     3          2            3.0   \n",
       "3         2                     4          2            2.0   \n",
       "4        -1                     3          1            5.0   \n",
       "\n",
       "   FINANZ_MINIMALIST  FINANZ_SPARER  FINANZ_VORSORGER  FINANZ_ANLEGER  \\\n",
       "0                  3              4                 3               5   \n",
       "1                  1              5                 2               5   \n",
       "2                  1              4                 1               2   \n",
       "3                  4              2                 5               2   \n",
       "4                  4              3                 4               1   \n",
       "\n",
       "   FINANZ_UNAUFFAELLIGER  FINANZ_HAUSBAUER    ...     PLZ8_ANTG1  PLZ8_ANTG2  \\\n",
       "0                      5                 3    ...            NaN         NaN   \n",
       "1                      4                 5    ...            2.0         3.0   \n",
       "2                      3                 5    ...            3.0         3.0   \n",
       "3                      1                 2    ...            2.0         2.0   \n",
       "4                      3                 2    ...            2.0         4.0   \n",
       "\n",
       "   PLZ8_ANTG3  PLZ8_ANTG4  PLZ8_BAUMAX  PLZ8_HHZ  PLZ8_GBZ  ARBEIT  \\\n",
       "0         NaN         NaN          NaN       NaN       NaN     NaN   \n",
       "1         2.0         1.0          1.0       5.0       4.0     3.0   \n",
       "2         1.0         0.0          1.0       4.0       4.0     3.0   \n",
       "3         2.0         0.0          1.0       3.0       4.0     2.0   \n",
       "4         2.0         1.0          2.0       3.0       3.0     4.0   \n",
       "\n",
       "   ORTSGR_KLS9  RELAT_AB  \n",
       "0          NaN       NaN  \n",
       "1          5.0       4.0  \n",
       "2          5.0       2.0  \n",
       "3          3.0       3.0  \n",
       "4          6.0       5.0  \n",
       "\n",
       "[5 rows x 85 columns]"
      ]
     },
     "execution_count": 4,
     "metadata": {},
     "output_type": "execute_result"
    }
   ],
   "source": [
    "# Output the first few lines to get a feel for the data\n",
    "azdias.head()"
   ]
  },
  {
   "cell_type": "code",
   "execution_count": 5,
   "metadata": {},
   "outputs": [
    {
     "data": {
      "text/html": [
       "<div>\n",
       "<style scoped>\n",
       "    .dataframe tbody tr th:only-of-type {\n",
       "        vertical-align: middle;\n",
       "    }\n",
       "\n",
       "    .dataframe tbody tr th {\n",
       "        vertical-align: top;\n",
       "    }\n",
       "\n",
       "    .dataframe thead th {\n",
       "        text-align: right;\n",
       "    }\n",
       "</style>\n",
       "<table border=\"1\" class=\"dataframe\">\n",
       "  <thead>\n",
       "    <tr style=\"text-align: right;\">\n",
       "      <th></th>\n",
       "      <th>attribute</th>\n",
       "      <th>information_level</th>\n",
       "      <th>type</th>\n",
       "      <th>missing_or_unknown</th>\n",
       "    </tr>\n",
       "  </thead>\n",
       "  <tbody>\n",
       "    <tr>\n",
       "      <th>0</th>\n",
       "      <td>AGER_TYP</td>\n",
       "      <td>person</td>\n",
       "      <td>categorical</td>\n",
       "      <td>[-1,0]</td>\n",
       "    </tr>\n",
       "    <tr>\n",
       "      <th>1</th>\n",
       "      <td>ALTERSKATEGORIE_GROB</td>\n",
       "      <td>person</td>\n",
       "      <td>ordinal</td>\n",
       "      <td>[-1,0,9]</td>\n",
       "    </tr>\n",
       "    <tr>\n",
       "      <th>2</th>\n",
       "      <td>ANREDE_KZ</td>\n",
       "      <td>person</td>\n",
       "      <td>categorical</td>\n",
       "      <td>[-1,0]</td>\n",
       "    </tr>\n",
       "    <tr>\n",
       "      <th>3</th>\n",
       "      <td>CJT_GESAMTTYP</td>\n",
       "      <td>person</td>\n",
       "      <td>categorical</td>\n",
       "      <td>[0]</td>\n",
       "    </tr>\n",
       "    <tr>\n",
       "      <th>4</th>\n",
       "      <td>FINANZ_MINIMALIST</td>\n",
       "      <td>person</td>\n",
       "      <td>ordinal</td>\n",
       "      <td>[-1]</td>\n",
       "    </tr>\n",
       "  </tbody>\n",
       "</table>\n",
       "</div>"
      ],
      "text/plain": [
       "              attribute information_level         type missing_or_unknown\n",
       "0              AGER_TYP            person  categorical             [-1,0]\n",
       "1  ALTERSKATEGORIE_GROB            person      ordinal           [-1,0,9]\n",
       "2             ANREDE_KZ            person  categorical             [-1,0]\n",
       "3         CJT_GESAMTTYP            person  categorical                [0]\n",
       "4     FINANZ_MINIMALIST            person      ordinal               [-1]"
      ]
     },
     "execution_count": 5,
     "metadata": {},
     "output_type": "execute_result"
    }
   ],
   "source": [
    "# Output the first few lines to get a feel for the data\n",
    "feat_info.head()"
   ]
  },
  {
   "cell_type": "code",
   "execution_count": 6,
   "metadata": {},
   "outputs": [
    {
     "name": "stdout",
     "output_type": "stream",
     "text": [
      "<class 'pandas.core.frame.DataFrame'>\n",
      "RangeIndex: 891221 entries, 0 to 891220\n",
      "Data columns (total 85 columns):\n",
      "AGER_TYP                 891221 non-null int64\n",
      "ALTERSKATEGORIE_GROB     891221 non-null int64\n",
      "ANREDE_KZ                891221 non-null int64\n",
      "CJT_GESAMTTYP            886367 non-null float64\n",
      "FINANZ_MINIMALIST        891221 non-null int64\n",
      "FINANZ_SPARER            891221 non-null int64\n",
      "FINANZ_VORSORGER         891221 non-null int64\n",
      "FINANZ_ANLEGER           891221 non-null int64\n",
      "FINANZ_UNAUFFAELLIGER    891221 non-null int64\n",
      "FINANZ_HAUSBAUER         891221 non-null int64\n",
      "FINANZTYP                891221 non-null int64\n",
      "GEBURTSJAHR              891221 non-null int64\n",
      "GFK_URLAUBERTYP          886367 non-null float64\n",
      "GREEN_AVANTGARDE         891221 non-null int64\n",
      "HEALTH_TYP               891221 non-null int64\n",
      "LP_LEBENSPHASE_FEIN      886367 non-null float64\n",
      "LP_LEBENSPHASE_GROB      886367 non-null float64\n",
      "LP_FAMILIE_FEIN          886367 non-null float64\n",
      "LP_FAMILIE_GROB          886367 non-null float64\n",
      "LP_STATUS_FEIN           886367 non-null float64\n",
      "LP_STATUS_GROB           886367 non-null float64\n",
      "NATIONALITAET_KZ         891221 non-null int64\n",
      "PRAEGENDE_JUGENDJAHRE    891221 non-null int64\n",
      "RETOURTYP_BK_S           886367 non-null float64\n",
      "SEMIO_SOZ                891221 non-null int64\n",
      "SEMIO_FAM                891221 non-null int64\n",
      "SEMIO_REL                891221 non-null int64\n",
      "SEMIO_MAT                891221 non-null int64\n",
      "SEMIO_VERT               891221 non-null int64\n",
      "SEMIO_LUST               891221 non-null int64\n",
      "SEMIO_ERL                891221 non-null int64\n",
      "SEMIO_KULT               891221 non-null int64\n",
      "SEMIO_RAT                891221 non-null int64\n",
      "SEMIO_KRIT               891221 non-null int64\n",
      "SEMIO_DOM                891221 non-null int64\n",
      "SEMIO_KAEM               891221 non-null int64\n",
      "SEMIO_PFLICHT            891221 non-null int64\n",
      "SEMIO_TRADV              891221 non-null int64\n",
      "SHOPPER_TYP              891221 non-null int64\n",
      "SOHO_KZ                  817722 non-null float64\n",
      "TITEL_KZ                 817722 non-null float64\n",
      "VERS_TYP                 891221 non-null int64\n",
      "ZABEOTYP                 891221 non-null int64\n",
      "ALTER_HH                 817722 non-null float64\n",
      "ANZ_PERSONEN             817722 non-null float64\n",
      "ANZ_TITEL                817722 non-null float64\n",
      "HH_EINKOMMEN_SCORE       872873 non-null float64\n",
      "KK_KUNDENTYP             306609 non-null float64\n",
      "W_KEIT_KIND_HH           783619 non-null float64\n",
      "WOHNDAUER_2008           817722 non-null float64\n",
      "ANZ_HAUSHALTE_AKTIV      798073 non-null float64\n",
      "ANZ_HH_TITEL             794213 non-null float64\n",
      "GEBAEUDETYP              798073 non-null float64\n",
      "KONSUMNAEHE              817252 non-null float64\n",
      "MIN_GEBAEUDEJAHR         798073 non-null float64\n",
      "OST_WEST_KZ              798073 non-null object\n",
      "WOHNLAGE                 798073 non-null float64\n",
      "CAMEO_DEUG_2015          792242 non-null object\n",
      "CAMEO_DEU_2015           792242 non-null object\n",
      "CAMEO_INTL_2015          792242 non-null object\n",
      "KBA05_ANTG1              757897 non-null float64\n",
      "KBA05_ANTG2              757897 non-null float64\n",
      "KBA05_ANTG3              757897 non-null float64\n",
      "KBA05_ANTG4              757897 non-null float64\n",
      "KBA05_BAUMAX             757897 non-null float64\n",
      "KBA05_GBZ                757897 non-null float64\n",
      "BALLRAUM                 797481 non-null float64\n",
      "EWDICHTE                 797481 non-null float64\n",
      "INNENSTADT               797481 non-null float64\n",
      "GEBAEUDETYP_RASTER       798066 non-null float64\n",
      "KKK                      770025 non-null float64\n",
      "MOBI_REGIO               757897 non-null float64\n",
      "ONLINE_AFFINITAET        886367 non-null float64\n",
      "REGIOTYP                 770025 non-null float64\n",
      "KBA13_ANZAHL_PKW         785421 non-null float64\n",
      "PLZ8_ANTG1               774706 non-null float64\n",
      "PLZ8_ANTG2               774706 non-null float64\n",
      "PLZ8_ANTG3               774706 non-null float64\n",
      "PLZ8_ANTG4               774706 non-null float64\n",
      "PLZ8_BAUMAX              774706 non-null float64\n",
      "PLZ8_HHZ                 774706 non-null float64\n",
      "PLZ8_GBZ                 774706 non-null float64\n",
      "ARBEIT                   794005 non-null float64\n",
      "ORTSGR_KLS9              794005 non-null float64\n",
      "RELAT_AB                 794005 non-null float64\n",
      "dtypes: float64(49), int64(32), object(4)\n",
      "memory usage: 578.0+ MB\n"
     ]
    }
   ],
   "source": [
    "# Outputting dataframe info to see datatypes and you can also see many rows have missing data\n",
    "azdias.info()"
   ]
  },
  {
   "cell_type": "code",
   "execution_count": 7,
   "metadata": {},
   "outputs": [
    {
     "name": "stdout",
     "output_type": "stream",
     "text": [
      "<class 'pandas.core.frame.DataFrame'>\n",
      "RangeIndex: 85 entries, 0 to 84\n",
      "Data columns (total 4 columns):\n",
      "attribute             85 non-null object\n",
      "information_level     85 non-null object\n",
      "type                  85 non-null object\n",
      "missing_or_unknown    85 non-null object\n",
      "dtypes: object(4)\n",
      "memory usage: 2.7+ KB\n"
     ]
    }
   ],
   "source": [
    "# Outputting dataframe info. No missing data in this one which is expected\n",
    "feat_info.info()"
   ]
  },
  {
   "cell_type": "markdown",
   "metadata": {},
   "source": [
    "## Step 1: Preprocessing\n",
    "\n",
    "### Step 1.1: Assess Missing Data\n",
    "\n",
    "The feature summary file contains a summary of properties for each demographics data column. You will use this file to help you make cleaning decisions during this stage of the project. First of all, you should assess the demographics data in terms of missing data. Pay attention to the following points as you perform your analysis, and take notes on what you observe. Make sure that you fill in the **Discussion** cell with your findings and decisions at the end of each step that has one!\n",
    "\n",
    "#### Step 1.1.1: Convert Missing Value Codes to NaNs\n",
    "The fourth column of the feature attributes summary (loaded in above as `feat_info`) documents the codes from the data dictionary that indicate missing or unknown data. While the file encodes this as a list (e.g. `[-1,0]`), this will get read in as a string object. You'll need to do a little bit of parsing to make use of it to identify and clean the data. Convert data that matches a 'missing' or 'unknown' value code into a numpy NaN value. You might want to see how much data takes on a 'missing' or 'unknown' code, and how much data is naturally missing, as a point of interest.\n",
    "\n",
    "**As one more reminder, you are encouraged to add additional cells to break up your analysis into manageable chunks.**"
   ]
  },
  {
   "cell_type": "code",
   "execution_count": 8,
   "metadata": {},
   "outputs": [
    {
     "name": "stdout",
     "output_type": "stream",
     "text": [
      "The sum total of naturally missing values is 4896838\n"
     ]
    }
   ],
   "source": [
    "# Identify missing or unknown data values and convert them to NaNs.\n",
    "print('The sum total of naturally missing values is {}'.format(azdias.isnull().sum().sum()))"
   ]
  },
  {
   "cell_type": "code",
   "execution_count": 9,
   "metadata": {},
   "outputs": [],
   "source": [
    "# Convert missing values into NaNs\n",
    "for i in range(len(feat_info)):\n",
    "    missing_or_unknown = feat_info.iloc[i]['missing_or_unknown']\n",
    "    missing_or_unknown = missing_or_unknown.strip('[')\n",
    "    missing_or_unknown = missing_or_unknown.strip(']')\n",
    "    missing_or_unknown = missing_or_unknown.split(sep=',')\n",
    "    missing_or_unknown = [int(value) if (value!='X' and value!='XX' and value!='') else value for value in missing_or_unknown]\n",
    "    if missing_or_unknown != ['']:\n",
    "        azdias = azdias.replace({feat_info.iloc[i]['attribute']: missing_or_unknown}, np.nan)\n"
   ]
  },
  {
   "cell_type": "code",
   "execution_count": 10,
   "metadata": {},
   "outputs": [
    {
     "name": "stdout",
     "output_type": "stream",
     "text": [
      "The sum total of missing values after conversion is 8373929\n"
     ]
    }
   ],
   "source": [
    "print('The sum total of missing values after conversion is {}'.format(azdias.isnull().sum().sum()))"
   ]
  },
  {
   "cell_type": "markdown",
   "metadata": {},
   "source": [
    "#### Step 1.1.2: Assess Missing Data in Each Column\n",
    "\n",
    "How much missing data is present in each column? There are a few columns that are outliers in terms of the proportion of values that are missing. You will want to use matplotlib's [`hist()`](https://matplotlib.org/api/_as_gen/matplotlib.pyplot.hist.html) function to visualize the distribution of missing value counts to find these columns. Identify and document these columns. While some of these columns might have justifications for keeping or re-encoding the data, for this project you should just remove them from the dataframe. (Feel free to make remarks about these outlier columns in the discussion, however!)\n",
    "\n",
    "For the remaining features, are there any patterns in which columns have, or share, missing data?"
   ]
  },
  {
   "cell_type": "code",
   "execution_count": 11,
   "metadata": {},
   "outputs": [],
   "source": [
    "# Perform an assessment of how much missing data there is in each column of the dataset.\n",
    "missing_data_per_column = (azdias.isnull().sum()/len(azdias))*100"
   ]
  },
  {
   "cell_type": "code",
   "execution_count": 12,
   "metadata": {},
   "outputs": [
    {
     "name": "stdout",
     "output_type": "stream",
     "text": [
      "The sum total of naturally missing values after conversion is 8373929\n"
     ]
    }
   ],
   "source": [
    "print('The sum total of naturally missing values after conversion is {}'.format(azdias.isnull().sum().sum()))"
   ]
  },
  {
   "cell_type": "code",
   "execution_count": 13,
   "metadata": {},
   "outputs": [
    {
     "data": {
      "image/png": "[encoded data removed]",
      "text/plain": [
       "<matplotlib.figure.Figure at 0x7f1c513f55f8>"
      ]
     },
     "metadata": {
      "needs_background": "light"
     },
     "output_type": "display_data"
    }
   ],
   "source": [
    "# Investigate patterns in the amount of missing data in each column by plotting a histogram of missingDataPerColumn variable\n",
    "plt.hist(missing_data_per_column, bins=50)\n",
    "plt.title(\"Percentage of Missing Data Per Column\")\n",
    "plt.ylabel('Number of Columns')\n",
    "plt.xlabel('Percentage of Data Missing')\n",
    "plt.show()"
   ]
  },
  {
   "cell_type": "code",
   "execution_count": 14,
   "metadata": {},
   "outputs": [],
   "source": [
    "# Get list of columns with 20% or more data missing\n",
    "temp = missing_data_per_column[missing_data_per_column>20]\n",
    "drop_columns = temp.index.tolist()"
   ]
  },
  {
   "cell_type": "code",
   "execution_count": 15,
   "metadata": {},
   "outputs": [
    {
     "name": "stdout",
     "output_type": "stream",
     "text": [
      "These columns have 20 percent, or more, missing data, and will be dropped:['AGER_TYP', 'GEBURTSJAHR', 'TITEL_KZ', 'ALTER_HH', 'KK_KUNDENTYP', 'KBA05_BAUMAX']\n"
     ]
    }
   ],
   "source": [
    "# Print list of columns with 20% or more data missing\n",
    "print('These columns have 20 percent, or more, missing data, and will be dropped:{}'.format(drop_columns))"
   ]
  },
  {
   "cell_type": "code",
   "execution_count": 16,
   "metadata": {},
   "outputs": [],
   "source": [
    "# Drop list of columns from original dataframe\n",
    "azdias = azdias.drop(drop_columns, axis=1)"
   ]
  },
  {
   "cell_type": "code",
   "execution_count": 17,
   "metadata": {},
   "outputs": [
    {
     "data": {
      "text/plain": [
       "(891221, 79)"
      ]
     },
     "execution_count": 17,
     "metadata": {},
     "output_type": "execute_result"
    }
   ],
   "source": [
    "# Verify 6 columns were dropped\n",
    "azdias.shape"
   ]
  },
  {
   "cell_type": "code",
   "execution_count": 18,
   "metadata": {},
   "outputs": [
    {
     "data": {
      "text/html": [
       "<div>\n",
       "<style scoped>\n",
       "    .dataframe tbody tr th:only-of-type {\n",
       "        vertical-align: middle;\n",
       "    }\n",
       "\n",
       "    .dataframe tbody tr th {\n",
       "        vertical-align: top;\n",
       "    }\n",
       "\n",
       "    .dataframe thead th {\n",
       "        text-align: right;\n",
       "    }\n",
       "</style>\n",
       "<table border=\"1\" class=\"dataframe\">\n",
       "  <thead>\n",
       "    <tr style=\"text-align: right;\">\n",
       "      <th></th>\n",
       "      <th>ALTERSKATEGORIE_GROB</th>\n",
       "      <th>ANREDE_KZ</th>\n",
       "      <th>CJT_GESAMTTYP</th>\n",
       "      <th>FINANZ_MINIMALIST</th>\n",
       "      <th>FINANZ_SPARER</th>\n",
       "      <th>FINANZ_VORSORGER</th>\n",
       "      <th>FINANZ_ANLEGER</th>\n",
       "      <th>FINANZ_UNAUFFAELLIGER</th>\n",
       "      <th>FINANZ_HAUSBAUER</th>\n",
       "      <th>FINANZTYP</th>\n",
       "      <th>...</th>\n",
       "      <th>PLZ8_ANTG1</th>\n",
       "      <th>PLZ8_ANTG2</th>\n",
       "      <th>PLZ8_ANTG3</th>\n",
       "      <th>PLZ8_ANTG4</th>\n",
       "      <th>PLZ8_BAUMAX</th>\n",
       "      <th>PLZ8_HHZ</th>\n",
       "      <th>PLZ8_GBZ</th>\n",
       "      <th>ARBEIT</th>\n",
       "      <th>ORTSGR_KLS9</th>\n",
       "      <th>RELAT_AB</th>\n",
       "    </tr>\n",
       "  </thead>\n",
       "  <tbody>\n",
       "    <tr>\n",
       "      <th>0</th>\n",
       "      <td>2.0</td>\n",
       "      <td>1</td>\n",
       "      <td>2.0</td>\n",
       "      <td>3</td>\n",
       "      <td>4</td>\n",
       "      <td>3</td>\n",
       "      <td>5</td>\n",
       "      <td>5</td>\n",
       "      <td>3</td>\n",
       "      <td>4</td>\n",
       "      <td>...</td>\n",
       "      <td>NaN</td>\n",
       "      <td>NaN</td>\n",
       "      <td>NaN</td>\n",
       "      <td>NaN</td>\n",
       "      <td>NaN</td>\n",
       "      <td>NaN</td>\n",
       "      <td>NaN</td>\n",
       "      <td>NaN</td>\n",
       "      <td>NaN</td>\n",
       "      <td>NaN</td>\n",
       "    </tr>\n",
       "    <tr>\n",
       "      <th>1</th>\n",
       "      <td>1.0</td>\n",
       "      <td>2</td>\n",
       "      <td>5.0</td>\n",
       "      <td>1</td>\n",
       "      <td>5</td>\n",
       "      <td>2</td>\n",
       "      <td>5</td>\n",
       "      <td>4</td>\n",
       "      <td>5</td>\n",
       "      <td>1</td>\n",
       "      <td>...</td>\n",
       "      <td>2.0</td>\n",
       "      <td>3.0</td>\n",
       "      <td>2.0</td>\n",
       "      <td>1.0</td>\n",
       "      <td>1.0</td>\n",
       "      <td>5.0</td>\n",
       "      <td>4.0</td>\n",
       "      <td>3.0</td>\n",
       "      <td>5.0</td>\n",
       "      <td>4.0</td>\n",
       "    </tr>\n",
       "    <tr>\n",
       "      <th>2</th>\n",
       "      <td>3.0</td>\n",
       "      <td>2</td>\n",
       "      <td>3.0</td>\n",
       "      <td>1</td>\n",
       "      <td>4</td>\n",
       "      <td>1</td>\n",
       "      <td>2</td>\n",
       "      <td>3</td>\n",
       "      <td>5</td>\n",
       "      <td>1</td>\n",
       "      <td>...</td>\n",
       "      <td>3.0</td>\n",
       "      <td>3.0</td>\n",
       "      <td>1.0</td>\n",
       "      <td>0.0</td>\n",
       "      <td>1.0</td>\n",
       "      <td>4.0</td>\n",
       "      <td>4.0</td>\n",
       "      <td>3.0</td>\n",
       "      <td>5.0</td>\n",
       "      <td>2.0</td>\n",
       "    </tr>\n",
       "    <tr>\n",
       "      <th>3</th>\n",
       "      <td>4.0</td>\n",
       "      <td>2</td>\n",
       "      <td>2.0</td>\n",
       "      <td>4</td>\n",
       "      <td>2</td>\n",
       "      <td>5</td>\n",
       "      <td>2</td>\n",
       "      <td>1</td>\n",
       "      <td>2</td>\n",
       "      <td>6</td>\n",
       "      <td>...</td>\n",
       "      <td>2.0</td>\n",
       "      <td>2.0</td>\n",
       "      <td>2.0</td>\n",
       "      <td>0.0</td>\n",
       "      <td>1.0</td>\n",
       "      <td>3.0</td>\n",
       "      <td>4.0</td>\n",
       "      <td>2.0</td>\n",
       "      <td>3.0</td>\n",
       "      <td>3.0</td>\n",
       "    </tr>\n",
       "    <tr>\n",
       "      <th>4</th>\n",
       "      <td>3.0</td>\n",
       "      <td>1</td>\n",
       "      <td>5.0</td>\n",
       "      <td>4</td>\n",
       "      <td>3</td>\n",
       "      <td>4</td>\n",
       "      <td>1</td>\n",
       "      <td>3</td>\n",
       "      <td>2</td>\n",
       "      <td>5</td>\n",
       "      <td>...</td>\n",
       "      <td>2.0</td>\n",
       "      <td>4.0</td>\n",
       "      <td>2.0</td>\n",
       "      <td>1.0</td>\n",
       "      <td>2.0</td>\n",
       "      <td>3.0</td>\n",
       "      <td>3.0</td>\n",
       "      <td>4.0</td>\n",
       "      <td>6.0</td>\n",
       "      <td>5.0</td>\n",
       "    </tr>\n",
       "  </tbody>\n",
       "</table>\n",
       "<p>5 rows × 79 columns</p>\n",
       "</div>"
      ],
      "text/plain": [
       "   ALTERSKATEGORIE_GROB  ANREDE_KZ  CJT_GESAMTTYP  FINANZ_MINIMALIST  \\\n",
       "0                   2.0          1            2.0                  3   \n",
       "1                   1.0          2            5.0                  1   \n",
       "2                   3.0          2            3.0                  1   \n",
       "3                   4.0          2            2.0                  4   \n",
       "4                   3.0          1            5.0                  4   \n",
       "\n",
       "   FINANZ_SPARER  FINANZ_VORSORGER  FINANZ_ANLEGER  FINANZ_UNAUFFAELLIGER  \\\n",
       "0              4                 3               5                      5   \n",
       "1              5                 2               5                      4   \n",
       "2              4                 1               2                      3   \n",
       "3              2                 5               2                      1   \n",
       "4              3                 4               1                      3   \n",
       "\n",
       "   FINANZ_HAUSBAUER  FINANZTYP    ...     PLZ8_ANTG1  PLZ8_ANTG2  PLZ8_ANTG3  \\\n",
       "0                 3          4    ...            NaN         NaN         NaN   \n",
       "1                 5          1    ...            2.0         3.0         2.0   \n",
       "2                 5          1    ...            3.0         3.0         1.0   \n",
       "3                 2          6    ...            2.0         2.0         2.0   \n",
       "4                 2          5    ...            2.0         4.0         2.0   \n",
       "\n",
       "   PLZ8_ANTG4  PLZ8_BAUMAX  PLZ8_HHZ  PLZ8_GBZ  ARBEIT  ORTSGR_KLS9  RELAT_AB  \n",
       "0         NaN          NaN       NaN       NaN     NaN          NaN       NaN  \n",
       "1         1.0          1.0       5.0       4.0     3.0          5.0       4.0  \n",
       "2         0.0          1.0       4.0       4.0     3.0          5.0       2.0  \n",
       "3         0.0          1.0       3.0       4.0     2.0          3.0       3.0  \n",
       "4         1.0          2.0       3.0       3.0     4.0          6.0       5.0  \n",
       "\n",
       "[5 rows x 79 columns]"
      ]
     },
     "execution_count": 18,
     "metadata": {},
     "output_type": "execute_result"
    }
   ],
   "source": [
    "# Verify 6 columns were dropped\n",
    "azdias.head()"
   ]
  },
  {
   "cell_type": "markdown",
   "metadata": {},
   "source": [
    "#### Discussion 1.1.2: Assess Missing Data in Each Column\n",
    "\n",
    "There were 6 columns in this dataset with 20% or more missing data. Their amount of missing data were 99%, 77%, 66%, 54%, 44%, and 35%. This wide array of values suggests there is no pattern discernable to the missing data. While I chose to remove columns that were missing 20% or more data, these columns are missing much larger chunks of data that 20% which makes them good targets to be dropped."
   ]
  },
  {
   "cell_type": "markdown",
   "metadata": {},
   "source": [
    "#### Step 1.1.3: Assess Missing Data in Each Row\n",
    "\n",
    "Now, you'll perform a similar assessment for the rows of the dataset. How much data is missing in each row? As with the columns, you should see some groups of points that have a very different numbers of missing values. Divide the data into two subsets: one for data points that are above some threshold for missing values, and a second subset for points below that threshold.\n",
    "\n",
    "In order to know what to do with the outlier rows, we should see if the distribution of data values on columns that are not missing data (or are missing very little data) are similar or different between the two groups. Select at least five of these columns and compare the distribution of values.\n",
    "- You can use seaborn's [`countplot()`](https://seaborn.pydata.org/generated/seaborn.countplot.html) function to create a bar chart of code frequencies and matplotlib's [`subplot()`](https://matplotlib.org/api/_as_gen/matplotlib.pyplot.subplot.html) function to put bar charts for the two subplots side by side.\n",
    "- To reduce repeated code, you might want to write a function that can perform this comparison, taking as one of its arguments a column to be compared.\n",
    "\n",
    "Depending on what you observe in your comparison, this will have implications on how you approach your conclusions later in the analysis. If the distributions of non-missing features look similar between the data with many missing values and the data with few or no missing values, then we could argue that simply dropping those points from the analysis won't present a major issue. On the other hand, if the data with many missing values looks very different from the data with few or no missing values, then we should make a note on those data as special. We'll revisit these data later on. **Either way, you should continue your analysis for now using just the subset of the data with few or no missing values.**"
   ]
  },
  {
   "cell_type": "code",
   "execution_count": 19,
   "metadata": {},
   "outputs": [],
   "source": [
    "# How much data is missing in each row of the dataset?\n",
    "missing_data_per_row = (azdias.isnull().sum(axis=1))"
   ]
  },
  {
   "cell_type": "code",
   "execution_count": 20,
   "metadata": {},
   "outputs": [
    {
     "data": {
      "image/png": "[encoded data removed]",
      "text/plain": [
       "<matplotlib.figure.Figure at 0x7f1c4ebbf7f0>"
      ]
     },
     "metadata": {
      "needs_background": "light"
     },
     "output_type": "display_data"
    }
   ],
   "source": [
    "# Plot of above variable\n",
    "plt.hist(missing_data_per_row, bins=100)\n",
    "plt.ylabel('Number of Rows')\n",
    "plt.xlabel('Number of Features Missing')\n",
    "plt.show()"
   ]
  },
  {
   "cell_type": "code",
   "execution_count": 21,
   "metadata": {},
   "outputs": [],
   "source": [
    "# Separating data into 2 sets, those missing more than 10 features and those missing 10 or less\n",
    "azdias_high = azdias[azdias.isnull().sum(axis=1) > 3]\n",
    "azdias_low = azdias[azdias.isnull().sum(axis=1) <= 3]\n"
   ]
  },
  {
   "cell_type": "code",
   "execution_count": 22,
   "metadata": {},
   "outputs": [],
   "source": [
    "# Compare the distribution of values for at least five columns where there are\n",
    "# no or few missing values, between the two subsets.\n",
    "full_columns = missing_data_per_column[missing_data_per_column==0].index.tolist()\n",
    "compare_columns = full_columns[:6]"
   ]
  },
  {
   "cell_type": "code",
   "execution_count": 23,
   "metadata": {},
   "outputs": [
    {
     "data": {
      "image/png": "[encoded data removed]",
      "text/plain": [
       "<matplotlib.figure.Figure at 0x7f1c4ea99a20>"
      ]
     },
     "metadata": {
      "needs_background": "light"
     },
     "output_type": "display_data"
    }
   ],
   "source": [
    "# Plot comparing distribution of data \n",
    "figure, axs = plt.subplots(nrows=len(compare_columns), ncols=2, figsize = (15,20))\n",
    "figure.subplots_adjust(hspace = 1, wspace=.3)\n",
    "for i in range(len(compare_columns)):\n",
    "    sns.countplot(azdias_low[compare_columns[i]], ax=axs[i][0])\n",
    "    axs[i][0].set_title('Few or no missing values')\n",
    "    sns.countplot(azdias_high[compare_columns[i]], ax=axs[i][1])\n",
    "    axs[i][1].set_title('Many missing values')"
   ]
  },
  {
   "cell_type": "markdown",
   "metadata": {},
   "source": [
    "#### Discussion 1.1.3: Assess Missing Data in Each Row\n",
    "\n",
    "From the above plots we can see that the financial columns. which use a 5 value system ranging from very low to very high. there is a significant difference in the distribution of the data from those that are missing few values to those that are missing many. For the ANREDE_KZ the distribution is similar between the 2 sets. This is to be excepted as this column represents gender and only has 2 values of male or female."
   ]
  },
  {
   "cell_type": "markdown",
   "metadata": {},
   "source": [
    "### Step 1.2: Select and Re-Encode Features\n",
    "\n",
    "Checking for missing data isn't the only way in which you can prepare a dataset for analysis. Since the unsupervised learning techniques to be used will only work on data that is encoded numerically, you need to make a few encoding changes or additional assumptions to be able to make progress. In addition, while almost all of the values in the dataset are encoded using numbers, not all of them represent numeric values. Check the third column of the feature summary (`feat_info`) for a summary of types of measurement.\n",
    "- For numeric and interval data, these features can be kept without changes.\n",
    "- Most of the variables in the dataset are ordinal in nature. While ordinal values may technically be non-linear in spacing, make the simplifying assumption that the ordinal variables can be treated as being interval in nature (that is, kept without any changes).\n",
    "- Special handling may be necessary for the remaining two variable types: categorical, and 'mixed'.\n",
    "\n",
    "In the first two parts of this sub-step, you will perform an investigation of the categorical and mixed-type features and make a decision on each of them, whether you will keep, drop, or re-encode each. Then, in the last part, you will create a new data frame with only the selected and engineered columns.\n",
    "\n",
    "Data wrangling is often the trickiest part of the data analysis process, and there's a lot of it to be done here. But stick with it: once you're done with this step, you'll be ready to get to the machine learning parts of the project!"
   ]
  },
  {
   "cell_type": "code",
   "execution_count": 24,
   "metadata": {},
   "outputs": [
    {
     "name": "stdout",
     "output_type": "stream",
     "text": [
      "There are 49 ordinal features.\n",
      "There are 18 categorical features.\n",
      "There are 6 numeric features.\n",
      "There are 6 mixed features.\n"
     ]
    }
   ],
   "source": [
    "# How many features are there of each data type?\n",
    "features = list(azdias_low.columns)\n",
    "feat_info_clean = feat_info[feat_info['attribute'].isin(features)]\n",
    "data_type_count = feat_info_clean['type'].value_counts()\n",
    "for i in range(len(data_type_count)):\n",
    "    print('There are {} {} features.'.format(data_type_count[i], data_type_count.index[i]))"
   ]
  },
  {
   "cell_type": "markdown",
   "metadata": {},
   "source": [
    "#### Step 1.2.1: Re-Encode Categorical Features\n",
    "\n",
    "For categorical data, you would ordinarily need to encode the levels as dummy variables. Depending on the number of categories, perform one of the following:\n",
    "- For binary (two-level) categoricals that take numeric values, you can keep them without needing to do anything.\n",
    "- There is one binary variable that takes on non-numeric values. For this one, you need to re-encode the values as numbers or create a dummy variable.\n",
    "- For multi-level categoricals (three or more values), you can choose to encode the values using multiple dummy variables (e.g. via [OneHotEncoder](http://scikit-learn.org/stable/modules/generated/sklearn.preprocessing.OneHotEncoder.html)), or (to keep things straightforward) just drop them from the analysis. As always, document your choices in the Discussion section."
   ]
  },
  {
   "cell_type": "code",
   "execution_count": 25,
   "metadata": {},
   "outputs": [],
   "source": [
    "# Assess categorical variables: which are binary, which are multi-level, and\n",
    "# which one needs to be re-encoded?\n",
    "cat_feat = feat_info_clean[feat_info_clean[\"type\"]==\"categorical\"][\"attribute\"]"
   ]
  },
  {
   "cell_type": "code",
   "execution_count": 26,
   "metadata": {},
   "outputs": [],
   "source": [
    "# Separating features in binary and multi-level categorical lists\n",
    "binary_feat = []\n",
    "multi_feat = []\n",
    "\n",
    "for cat in cat_feat:\n",
    "    if (len(azdias_low[cat].unique())==2):\n",
    "        binary_feat.append(cat)\n",
    "    elif (len(azdias_low[cat].unique())>2):\n",
    "        multi_feat.append(cat)"
   ]
  },
  {
   "cell_type": "code",
   "execution_count": 27,
   "metadata": {},
   "outputs": [
    {
     "name": "stdout",
     "output_type": "stream",
     "text": [
      "Binary features:\n",
      "['ANREDE_KZ', 'GREEN_AVANTGARDE', 'SOHO_KZ', 'VERS_TYP', 'OST_WEST_KZ']\n",
      "\n",
      "Multi level features:\n",
      "['CJT_GESAMTTYP', 'FINANZTYP', 'GFK_URLAUBERTYP', 'LP_FAMILIE_FEIN', 'LP_FAMILIE_GROB', 'LP_STATUS_FEIN', 'LP_STATUS_GROB', 'NATIONALITAET_KZ', 'SHOPPER_TYP', 'ZABEOTYP', 'GEBAEUDETYP', 'CAMEO_DEUG_2015', 'CAMEO_DEU_2015']\n"
     ]
    }
   ],
   "source": [
    "# Print lists\n",
    "print(f\"Binary features:\\n{binary_feat}\\n\\nMulti level features:\\n{multi_feat}\")"
   ]
  },
  {
   "cell_type": "code",
   "execution_count": 28,
   "metadata": {},
   "outputs": [
    {
     "name": "stdout",
     "output_type": "stream",
     "text": [
      "ANREDE_KZ: [2 1]\n",
      "GREEN_AVANTGARDE: [0 1]\n",
      "SOHO_KZ: [ 1.  0.]\n",
      "VERS_TYP: [ 2.  1.]\n",
      "OST_WEST_KZ: ['W' 'O']\n"
     ]
    }
   ],
   "source": [
    "# Re-encode categorical variable(s) to be kept in the analysis.\n",
    "for feat in binary_feat:\n",
    "    print(f'{feat}: {azdias_low[feat].unique()}')\n"
   ]
  },
  {
   "cell_type": "code",
   "execution_count": 29,
   "metadata": {},
   "outputs": [],
   "source": [
    "# Replace char W and O with numerical 0 and 1\n",
    "value_map = {'W':0, 'O':1}\n",
    "azdias_clean = azdias_low.replace({'OST_WEST_KZ':value_map})"
   ]
  },
  {
   "cell_type": "code",
   "execution_count": 30,
   "metadata": {},
   "outputs": [
    {
     "name": "stdout",
     "output_type": "stream",
     "text": [
      "OST_WEST_KZ: [0 1]\n"
     ]
    }
   ],
   "source": [
    "# Verify change\n",
    "print(f\"OST_WEST_KZ: {azdias_clean['OST_WEST_KZ'].unique()}\")"
   ]
  },
  {
   "cell_type": "code",
   "execution_count": 31,
   "metadata": {},
   "outputs": [
    {
     "data": {
      "text/plain": [
       "79"
      ]
     },
     "execution_count": 31,
     "metadata": {},
     "output_type": "execute_result"
    }
   ],
   "source": [
    "# Getting number of columns before dropping columns\n",
    "azdias_clean.shape[1]"
   ]
  },
  {
   "cell_type": "code",
   "execution_count": 32,
   "metadata": {},
   "outputs": [
    {
     "name": "stdout",
     "output_type": "stream",
     "text": [
      "<class 'pandas.core.frame.DataFrame'>\n",
      "Int64Index: 684502 entries, 1 to 891220\n",
      "Data columns (total 79 columns):\n",
      "ALTERSKATEGORIE_GROB     684502 non-null float64\n",
      "ANREDE_KZ                684502 non-null int64\n",
      "CJT_GESAMTTYP            684502 non-null float64\n",
      "FINANZ_MINIMALIST        684502 non-null int64\n",
      "FINANZ_SPARER            684502 non-null int64\n",
      "FINANZ_VORSORGER         684502 non-null int64\n",
      "FINANZ_ANLEGER           684502 non-null int64\n",
      "FINANZ_UNAUFFAELLIGER    684502 non-null int64\n",
      "FINANZ_HAUSBAUER         684502 non-null int64\n",
      "FINANZTYP                684502 non-null int64\n",
      "GFK_URLAUBERTYP          684502 non-null float64\n",
      "GREEN_AVANTGARDE         684502 non-null int64\n",
      "HEALTH_TYP               684502 non-null float64\n",
      "LP_LEBENSPHASE_FEIN      684500 non-null float64\n",
      "LP_LEBENSPHASE_GROB      684501 non-null float64\n",
      "LP_FAMILIE_FEIN          684502 non-null float64\n",
      "LP_FAMILIE_GROB          684502 non-null float64\n",
      "LP_STATUS_FEIN           684502 non-null float64\n",
      "LP_STATUS_GROB           684502 non-null float64\n",
      "NATIONALITAET_KZ         684502 non-null float64\n",
      "PRAEGENDE_JUGENDJAHRE    677706 non-null float64\n",
      "RETOURTYP_BK_S           684502 non-null float64\n",
      "SEMIO_SOZ                684502 non-null int64\n",
      "SEMIO_FAM                684502 non-null int64\n",
      "SEMIO_REL                684502 non-null int64\n",
      "SEMIO_MAT                684502 non-null int64\n",
      "SEMIO_VERT               684502 non-null int64\n",
      "SEMIO_LUST               684502 non-null int64\n",
      "SEMIO_ERL                684502 non-null int64\n",
      "SEMIO_KULT               684502 non-null int64\n",
      "SEMIO_RAT                684502 non-null int64\n",
      "SEMIO_KRIT               684502 non-null int64\n",
      "SEMIO_DOM                684502 non-null int64\n",
      "SEMIO_KAEM               684502 non-null int64\n",
      "SEMIO_PFLICHT            684502 non-null int64\n",
      "SEMIO_TRADV              684502 non-null int64\n",
      "SHOPPER_TYP              684502 non-null float64\n",
      "SOHO_KZ                  684502 non-null float64\n",
      "VERS_TYP                 684502 non-null float64\n",
      "ZABEOTYP                 684502 non-null int64\n",
      "ANZ_PERSONEN             684502 non-null float64\n",
      "ANZ_TITEL                684502 non-null float64\n",
      "HH_EINKOMMEN_SCORE       684502 non-null float64\n",
      "W_KEIT_KIND_HH           666425 non-null float64\n",
      "WOHNDAUER_2008           684502 non-null float64\n",
      "ANZ_HAUSHALTE_AKTIV      682041 non-null float64\n",
      "ANZ_HH_TITEL             683945 non-null float64\n",
      "GEBAEUDETYP              684502 non-null float64\n",
      "KONSUMNAEHE              684466 non-null float64\n",
      "MIN_GEBAEUDEJAHR         684502 non-null float64\n",
      "OST_WEST_KZ              684502 non-null int64\n",
      "WOHNLAGE                 684502 non-null float64\n",
      "CAMEO_DEUG_2015          681863 non-null object\n",
      "CAMEO_DEU_2015           681863 non-null object\n",
      "CAMEO_INTL_2015          681863 non-null object\n",
      "KBA05_ANTG1              684502 non-null float64\n",
      "KBA05_ANTG2              684502 non-null float64\n",
      "KBA05_ANTG3              684502 non-null float64\n",
      "KBA05_ANTG4              684502 non-null float64\n",
      "KBA05_GBZ                684502 non-null float64\n",
      "BALLRAUM                 684099 non-null float64\n",
      "EWDICHTE                 684099 non-null float64\n",
      "INNENSTADT               684099 non-null float64\n",
      "GEBAEUDETYP_RASTER       684500 non-null float64\n",
      "KKK                      646176 non-null float64\n",
      "MOBI_REGIO               684502 non-null float64\n",
      "ONLINE_AFFINITAET        684502 non-null float64\n",
      "REGIOTYP                 646176 non-null float64\n",
      "KBA13_ANZAHL_PKW         683949 non-null float64\n",
      "PLZ8_ANTG1               684502 non-null float64\n",
      "PLZ8_ANTG2               684502 non-null float64\n",
      "PLZ8_ANTG3               684502 non-null float64\n",
      "PLZ8_ANTG4               684502 non-null float64\n",
      "PLZ8_BAUMAX              684502 non-null float64\n",
      "PLZ8_HHZ                 684502 non-null float64\n",
      "PLZ8_GBZ                 684502 non-null float64\n",
      "ARBEIT                   681074 non-null float64\n",
      "ORTSGR_KLS9              681144 non-null float64\n",
      "RELAT_AB                 681074 non-null float64\n",
      "dtypes: float64(51), int64(25), object(3)\n",
      "memory usage: 417.8+ MB\n"
     ]
    }
   ],
   "source": [
    "azdias_clean.info()"
   ]
  },
  {
   "cell_type": "code",
   "execution_count": 33,
   "metadata": {},
   "outputs": [],
   "source": [
    "# Drop multi-level features\n",
    "for feat in multi_feat:\n",
    "    azdias_clean=azdias_clean.drop(feat, axis=1)"
   ]
  },
  {
   "cell_type": "code",
   "execution_count": 34,
   "metadata": {},
   "outputs": [],
   "source": [
    "azdias_clean.drop(columns = 'VERS_TYP', inplace =True)"
   ]
  },
  {
   "cell_type": "code",
   "execution_count": 35,
   "metadata": {},
   "outputs": [
    {
     "data": {
      "text/plain": [
       "65"
      ]
     },
     "execution_count": 35,
     "metadata": {},
     "output_type": "execute_result"
    }
   ],
   "source": [
    "# Getting count of columns after dropping columns\n",
    "azdias_clean.shape[1]"
   ]
  },
  {
   "cell_type": "code",
   "execution_count": 36,
   "metadata": {},
   "outputs": [
    {
     "name": "stdout",
     "output_type": "stream",
     "text": [
      "<class 'pandas.core.frame.DataFrame'>\n",
      "Int64Index: 684502 entries, 1 to 891220\n",
      "Data columns (total 65 columns):\n",
      "ALTERSKATEGORIE_GROB     684502 non-null float64\n",
      "ANREDE_KZ                684502 non-null int64\n",
      "FINANZ_MINIMALIST        684502 non-null int64\n",
      "FINANZ_SPARER            684502 non-null int64\n",
      "FINANZ_VORSORGER         684502 non-null int64\n",
      "FINANZ_ANLEGER           684502 non-null int64\n",
      "FINANZ_UNAUFFAELLIGER    684502 non-null int64\n",
      "FINANZ_HAUSBAUER         684502 non-null int64\n",
      "GREEN_AVANTGARDE         684502 non-null int64\n",
      "HEALTH_TYP               684502 non-null float64\n",
      "LP_LEBENSPHASE_FEIN      684500 non-null float64\n",
      "LP_LEBENSPHASE_GROB      684501 non-null float64\n",
      "PRAEGENDE_JUGENDJAHRE    677706 non-null float64\n",
      "RETOURTYP_BK_S           684502 non-null float64\n",
      "SEMIO_SOZ                684502 non-null int64\n",
      "SEMIO_FAM                684502 non-null int64\n",
      "SEMIO_REL                684502 non-null int64\n",
      "SEMIO_MAT                684502 non-null int64\n",
      "SEMIO_VERT               684502 non-null int64\n",
      "SEMIO_LUST               684502 non-null int64\n",
      "SEMIO_ERL                684502 non-null int64\n",
      "SEMIO_KULT               684502 non-null int64\n",
      "SEMIO_RAT                684502 non-null int64\n",
      "SEMIO_KRIT               684502 non-null int64\n",
      "SEMIO_DOM                684502 non-null int64\n",
      "SEMIO_KAEM               684502 non-null int64\n",
      "SEMIO_PFLICHT            684502 non-null int64\n",
      "SEMIO_TRADV              684502 non-null int64\n",
      "SOHO_KZ                  684502 non-null float64\n",
      "ANZ_PERSONEN             684502 non-null float64\n",
      "ANZ_TITEL                684502 non-null float64\n",
      "HH_EINKOMMEN_SCORE       684502 non-null float64\n",
      "W_KEIT_KIND_HH           666425 non-null float64\n",
      "WOHNDAUER_2008           684502 non-null float64\n",
      "ANZ_HAUSHALTE_AKTIV      682041 non-null float64\n",
      "ANZ_HH_TITEL             683945 non-null float64\n",
      "KONSUMNAEHE              684466 non-null float64\n",
      "MIN_GEBAEUDEJAHR         684502 non-null float64\n",
      "OST_WEST_KZ              684502 non-null int64\n",
      "WOHNLAGE                 684502 non-null float64\n",
      "CAMEO_INTL_2015          681863 non-null object\n",
      "KBA05_ANTG1              684502 non-null float64\n",
      "KBA05_ANTG2              684502 non-null float64\n",
      "KBA05_ANTG3              684502 non-null float64\n",
      "KBA05_ANTG4              684502 non-null float64\n",
      "KBA05_GBZ                684502 non-null float64\n",
      "BALLRAUM                 684099 non-null float64\n",
      "EWDICHTE                 684099 non-null float64\n",
      "INNENSTADT               684099 non-null float64\n",
      "GEBAEUDETYP_RASTER       684500 non-null float64\n",
      "KKK                      646176 non-null float64\n",
      "MOBI_REGIO               684502 non-null float64\n",
      "ONLINE_AFFINITAET        684502 non-null float64\n",
      "REGIOTYP                 646176 non-null float64\n",
      "KBA13_ANZAHL_PKW         683949 non-null float64\n",
      "PLZ8_ANTG1               684502 non-null float64\n",
      "PLZ8_ANTG2               684502 non-null float64\n",
      "PLZ8_ANTG3               684502 non-null float64\n",
      "PLZ8_ANTG4               684502 non-null float64\n",
      "PLZ8_BAUMAX              684502 non-null float64\n",
      "PLZ8_HHZ                 684502 non-null float64\n",
      "PLZ8_GBZ                 684502 non-null float64\n",
      "ARBEIT                   681074 non-null float64\n",
      "ORTSGR_KLS9              681144 non-null float64\n",
      "RELAT_AB                 681074 non-null float64\n",
      "dtypes: float64(41), int64(23), object(1)\n",
      "memory usage: 344.7+ MB\n"
     ]
    }
   ],
   "source": [
    "azdias_clean.info()"
   ]
  },
  {
   "cell_type": "markdown",
   "metadata": {},
   "source": [
    "#### Discussion 1.2.1: Re-Encode Categorical Features\n",
    "\n",
    "I re-encoded OST_WEST_KZ from 'W' and 'O' to 0 and 1 respectively. All other binary featureswere kept in tact. Finally I dropped all multi-level features."
   ]
  },
  {
   "cell_type": "markdown",
   "metadata": {},
   "source": [
    "#### Step 1.2.2: Engineer Mixed-Type Features\n",
    "\n",
    "There are a handful of features that are marked as \"mixed\" in the feature summary that require special treatment in order to be included in the analysis. There are two in particular that deserve attention; the handling of the rest are up to your own choices:\n",
    "- \"PRAEGENDE_JUGENDJAHRE\" combines information on three dimensions: generation by decade, movement (mainstream vs. avantgarde), and nation (east vs. west). While there aren't enough levels to disentangle east from west, you should create two new variables to capture the other two dimensions: an interval-type variable for decade, and a binary variable for movement.\n",
    "- \"CAMEO_INTL_2015\" combines information on two axes: wealth and life stage. Break up the two-digit codes by their 'tens'-place and 'ones'-place digits into two new ordinal variables (which, for the purposes of this project, is equivalent to just treating them as their raw numeric values).\n",
    "- If you decide to keep or engineer new features around the other mixed-type features, make sure you note your steps in the Discussion section.\n",
    "\n",
    "Be sure to check `Data_Dictionary.md` for the details needed to finish these tasks."
   ]
  },
  {
   "cell_type": "markdown",
   "metadata": {},
   "source": [
    "Checking data dictonary to understand feature breakdown\n",
    "\n",
    "Dominating movement of person's youth (avantgarde vs. mainstream; east vs. west)\n",
    "- -1: unknown\n",
    "-  0: unknown\n",
    "-  1: 40s - war years (Mainstream, E+W)\n",
    "-  2: 40s - reconstruction years (Avantgarde, E+W)\n",
    "-  3: 50s - economic miracle (Mainstream, E+W)\n",
    "-  4: 50s - milk bar / Individualisation (Avantgarde, E+W)\n",
    "-  5: 60s - economic miracle (Mainstream, E+W)\n",
    "-  6: 60s - generation 68 / student protestors (Avantgarde, W)\n",
    "-  7: 60s - opponents to the building of the Wall (Avantgarde, E)\n",
    "-  8: 70s - family orientation (Mainstream, E+W)\n",
    "-  9: 70s - peace movement (Avantgarde, E+W)\n",
    "- 10: 80s - Generation Golf (Mainstream, W)\n",
    "- 11: 80s - ecological awareness (Avantgarde, W)\n",
    "- 12: 80s - FDJ / communist party youth organisation (Mainstream, E)\n",
    "- 13: 80s - Swords into ploughshares (Avantgarde, E)\n",
    "- 14: 90s - digital media kids (Mainstream, E+W)\n",
    "- 15: 90s - ecological awareness (Avantgarde, E+W)"
   ]
  },
  {
   "cell_type": "code",
   "execution_count": 37,
   "metadata": {},
   "outputs": [],
   "source": [
    "# Investigate \"PRAEGENDE_JUGENDJAHRE\" and engineer two new variables.\n",
    "azdias_clean['PRAEGENDE_JUGENDJAHRE_DECADE'] = azdias_clean['PRAEGENDE_JUGENDJAHRE']\n",
    "azdias_clean['PRAEGENDE_JUGENDJAHRE_MOVEMENT'] = azdias_clean['PRAEGENDE_JUGENDJAHRE']"
   ]
  },
  {
   "cell_type": "code",
   "execution_count": 38,
   "metadata": {},
   "outputs": [],
   "source": [
    "decade_dict = {1:1, 2:1, 3:2, 4:2, 5:3, 6:3, 7:3, 8:4, 9:4, 10:5, 11:5, 12:5, 13:5, 14:6, 15:6}\n",
    "movement_dict = {1:1, 2:0, 3:1, 4:0, 5:1, 6:0, 7:0, 8:1, 9:0, 10:1, 11:0, 12:1, 13:0, 14:1, 15:0}"
   ]
  },
  {
   "cell_type": "code",
   "execution_count": 39,
   "metadata": {},
   "outputs": [],
   "source": [
    "azdias_clean['PRAEGENDE_JUGENDJAHRE_DECADE'].replace(decade_dict, inplace=True)\n",
    "azdias_clean['PRAEGENDE_JUGENDJAHRE_MOVEMENT'].replace(movement_dict, inplace=True)"
   ]
  },
  {
   "cell_type": "markdown",
   "metadata": {},
   "source": [
    "Checking data dictonary to understand feature breakdown\n",
    "\n",
    "German CAMEO: Wealth / Life Stage Typology, mapped to international code\n",
    "- -1: unknown\n",
    "- 11: Wealthy Households - Pre-Family Couples & Singles\n",
    "- 12: Wealthy Households - Young Couples With Children\n",
    "- 13: Wealthy Households - Families With School Age Children\n",
    "- 14: Wealthy Households - Older Families &  Mature Couples\n",
    "- 15: Wealthy Households - Elders In Retirement\n",
    "- 21: Prosperous Households - Pre-Family Couples & Singles\n",
    "- 22: Prosperous Households - Young Couples With Children\n",
    "- 23: Prosperous Households - Families With School Age Children\n",
    "- 24: Prosperous Households - Older Families & Mature Couples\n",
    "- 25: Prosperous Households - Elders In Retirement\n",
    "- 31: Comfortable Households - Pre-Family Couples & Singles\n",
    "- 32: Comfortable Households - Young Couples With Children\n",
    "- 33: Comfortable Households - Families With School Age Children\n",
    "- 34: Comfortable Households - Older Families & Mature Couples\n",
    "- 35: Comfortable Households - Elders In Retirement\n",
    "- 41: Less Affluent Households - Pre-Family Couples & Singles\n",
    "- 42: Less Affluent Households - Young Couples With Children\n",
    "- 43: Less Affluent Households - Families With School Age Children\n",
    "- 44: Less Affluent Households - Older Families & Mature Couples\n",
    "- 45: Less Affluent Households - Elders In Retirement\n",
    "- 51: Poorer Households - Pre-Family Couples & Singles\n",
    "- 52: Poorer Households - Young Couples With Children\n",
    "- 53: Poorer Households - Families With School Age Children\n",
    "- 54: Poorer Households - Older Families & Mature Couples\n",
    "- 55: Poorer Households - Elders In Retirement\n",
    "- XX: unknown"
   ]
  },
  {
   "cell_type": "code",
   "execution_count": 40,
   "metadata": {},
   "outputs": [],
   "source": [
    "# Investigate \"CAMEO_INTL_2015\" and engineer two new variables.\n",
    "azdias_clean['CAMEO_INTL_2015_WEALTH'] = azdias_clean['CAMEO_INTL_2015']\n",
    "azdias_clean['CAMEO_INTL_2015_LIFE_STAGE'] = azdias_clean['CAMEO_INTL_2015']"
   ]
  },
  {
   "cell_type": "code",
   "execution_count": 41,
   "metadata": {},
   "outputs": [],
   "source": [
    "wealth_dict = {'11':1, '12':1, '13':1, '14':1, '15':1, '21':2, '22':2, '23':2, '24':2, '25':2,\n",
    "               '31':3, '32':3, '33':3, '34':3, '35':3, '41':4, '42':4, '43':4, '44':4, '45':4,\n",
    "               '51':5, '52':5, '53':5, '54':5, '55':5}\n",
    "\n",
    "life_stage_dict = {'11':1, '12':2, '13':3, '14':4, '15':5, '21':1, '22':2, '23':3, '24':4, '25':5,\n",
    "                   '31':1, '32':2, '33':3, '34':4, '35':5, '41':1, '42':2, '43':3, '44':4, '45':5,\n",
    "                   '51':1, '52':2, '53':3, '54':4, '55':5}"
   ]
  },
  {
   "cell_type": "code",
   "execution_count": 42,
   "metadata": {},
   "outputs": [],
   "source": [
    "azdias_clean['CAMEO_INTL_2015_WEALTH'].replace(wealth_dict, inplace=True)\n",
    "azdias_clean['CAMEO_INTL_2015_LIFE_STAGE'].replace(life_stage_dict, inplace=True)"
   ]
  },
  {
   "cell_type": "code",
   "execution_count": 43,
   "metadata": {},
   "outputs": [
    {
     "name": "stdout",
     "output_type": "stream",
     "text": [
      "<class 'pandas.core.frame.DataFrame'>\n",
      "Int64Index: 684502 entries, 1 to 891220\n",
      "Data columns (total 69 columns):\n",
      "ALTERSKATEGORIE_GROB              684502 non-null float64\n",
      "ANREDE_KZ                         684502 non-null int64\n",
      "FINANZ_MINIMALIST                 684502 non-null int64\n",
      "FINANZ_SPARER                     684502 non-null int64\n",
      "FINANZ_VORSORGER                  684502 non-null int64\n",
      "FINANZ_ANLEGER                    684502 non-null int64\n",
      "FINANZ_UNAUFFAELLIGER             684502 non-null int64\n",
      "FINANZ_HAUSBAUER                  684502 non-null int64\n",
      "GREEN_AVANTGARDE                  684502 non-null int64\n",
      "HEALTH_TYP                        684502 non-null float64\n",
      "LP_LEBENSPHASE_FEIN               684500 non-null float64\n",
      "LP_LEBENSPHASE_GROB               684501 non-null float64\n",
      "PRAEGENDE_JUGENDJAHRE             677706 non-null float64\n",
      "RETOURTYP_BK_S                    684502 non-null float64\n",
      "SEMIO_SOZ                         684502 non-null int64\n",
      "SEMIO_FAM                         684502 non-null int64\n",
      "SEMIO_REL                         684502 non-null int64\n",
      "SEMIO_MAT                         684502 non-null int64\n",
      "SEMIO_VERT                        684502 non-null int64\n",
      "SEMIO_LUST                        684502 non-null int64\n",
      "SEMIO_ERL                         684502 non-null int64\n",
      "SEMIO_KULT                        684502 non-null int64\n",
      "SEMIO_RAT                         684502 non-null int64\n",
      "SEMIO_KRIT                        684502 non-null int64\n",
      "SEMIO_DOM                         684502 non-null int64\n",
      "SEMIO_KAEM                        684502 non-null int64\n",
      "SEMIO_PFLICHT                     684502 non-null int64\n",
      "SEMIO_TRADV                       684502 non-null int64\n",
      "SOHO_KZ                           684502 non-null float64\n",
      "ANZ_PERSONEN                      684502 non-null float64\n",
      "ANZ_TITEL                         684502 non-null float64\n",
      "HH_EINKOMMEN_SCORE                684502 non-null float64\n",
      "W_KEIT_KIND_HH                    666425 non-null float64\n",
      "WOHNDAUER_2008                    684502 non-null float64\n",
      "ANZ_HAUSHALTE_AKTIV               682041 non-null float64\n",
      "ANZ_HH_TITEL                      683945 non-null float64\n",
      "KONSUMNAEHE                       684466 non-null float64\n",
      "MIN_GEBAEUDEJAHR                  684502 non-null float64\n",
      "OST_WEST_KZ                       684502 non-null int64\n",
      "WOHNLAGE                          684502 non-null float64\n",
      "CAMEO_INTL_2015                   681863 non-null object\n",
      "KBA05_ANTG1                       684502 non-null float64\n",
      "KBA05_ANTG2                       684502 non-null float64\n",
      "KBA05_ANTG3                       684502 non-null float64\n",
      "KBA05_ANTG4                       684502 non-null float64\n",
      "KBA05_GBZ                         684502 non-null float64\n",
      "BALLRAUM                          684099 non-null float64\n",
      "EWDICHTE                          684099 non-null float64\n",
      "INNENSTADT                        684099 non-null float64\n",
      "GEBAEUDETYP_RASTER                684500 non-null float64\n",
      "KKK                               646176 non-null float64\n",
      "MOBI_REGIO                        684502 non-null float64\n",
      "ONLINE_AFFINITAET                 684502 non-null float64\n",
      "REGIOTYP                          646176 non-null float64\n",
      "KBA13_ANZAHL_PKW                  683949 non-null float64\n",
      "PLZ8_ANTG1                        684502 non-null float64\n",
      "PLZ8_ANTG2                        684502 non-null float64\n",
      "PLZ8_ANTG3                        684502 non-null float64\n",
      "PLZ8_ANTG4                        684502 non-null float64\n",
      "PLZ8_BAUMAX                       684502 non-null float64\n",
      "PLZ8_HHZ                          684502 non-null float64\n",
      "PLZ8_GBZ                          684502 non-null float64\n",
      "ARBEIT                            681074 non-null float64\n",
      "ORTSGR_KLS9                       681144 non-null float64\n",
      "RELAT_AB                          681074 non-null float64\n",
      "PRAEGENDE_JUGENDJAHRE_DECADE      677706 non-null float64\n",
      "PRAEGENDE_JUGENDJAHRE_MOVEMENT    677706 non-null float64\n",
      "CAMEO_INTL_2015_WEALTH            681863 non-null float64\n",
      "CAMEO_INTL_2015_LIFE_STAGE        681863 non-null float64\n",
      "dtypes: float64(45), int64(23), object(1)\n",
      "memory usage: 365.6+ MB\n"
     ]
    }
   ],
   "source": [
    "# Verifying changes\n",
    "azdias_clean.info()"
   ]
  },
  {
   "cell_type": "markdown",
   "metadata": {},
   "source": [
    "#### Discussion 1.2.2: Engineer Mixed-Type Features\n",
    "\n",
    "For both PRAEGENDE_JUGENDJAHRE and CAMEO_INTL_2015 features I created 2 new features. PRAEGENDE_JUGENDJAHRE was broken out into PRAEGENDE_JUGENDJAHRE_MOVEMENT and PRAEGENDE_JUGENDJAHRE_DECADE. CAMEO_INTL_2015 was broken out into CAMEO_INTL_2015_WEALTh and CAMEO_INTL_2015_LIFE_STAGE. Original features were then dropped form the data set."
   ]
  },
  {
   "cell_type": "markdown",
   "metadata": {},
   "source": [
    "#### Step 1.2.3: Complete Feature Selection\n",
    "\n",
    "In order to finish this step up, you need to make sure that your data frame now only has the columns that you want to keep. To summarize, the dataframe should consist of the following:\n",
    "- All numeric, interval, and ordinal type columns from the original dataset.\n",
    "- Binary categorical features (all numerically-encoded).\n",
    "- Engineered features from other multi-level categorical features and mixed features.\n",
    "\n",
    "Make sure that for any new columns that you have engineered, that you've excluded the original columns from the final dataset. Otherwise, their values will interfere with the analysis later on the project. For example, you should not keep \"PRAEGENDE_JUGENDJAHRE\", since its values won't be useful for the algorithm: only the values derived from it in the engineered features you created should be retained. As a reminder, your data should only be from **the subset with few or no missing values**."
   ]
  },
  {
   "cell_type": "code",
   "execution_count": 44,
   "metadata": {},
   "outputs": [],
   "source": [
    "# Do whatever you need to in order to ensure that the dataframe only contains\n",
    "# the columns that should be passed to the algorithm functions.\n",
    "mixed_features = feat_info_clean[feat_info_clean[\"type\"]==\"mixed\"][\"attribute\"]\n",
    "for feature in mixed_features:\n",
    "    azdias_clean.drop(feature, axis=1, inplace=True)"
   ]
  },
  {
   "cell_type": "code",
   "execution_count": 45,
   "metadata": {},
   "outputs": [
    {
     "data": {
      "text/html": [
       "<div>\n",
       "<style scoped>\n",
       "    .dataframe tbody tr th:only-of-type {\n",
       "        vertical-align: middle;\n",
       "    }\n",
       "\n",
       "    .dataframe tbody tr th {\n",
       "        vertical-align: top;\n",
       "    }\n",
       "\n",
       "    .dataframe thead th {\n",
       "        text-align: right;\n",
       "    }\n",
       "</style>\n",
       "<table border=\"1\" class=\"dataframe\">\n",
       "  <thead>\n",
       "    <tr style=\"text-align: right;\">\n",
       "      <th></th>\n",
       "      <th>ALTERSKATEGORIE_GROB</th>\n",
       "      <th>ANREDE_KZ</th>\n",
       "      <th>FINANZ_MINIMALIST</th>\n",
       "      <th>FINANZ_SPARER</th>\n",
       "      <th>FINANZ_VORSORGER</th>\n",
       "      <th>FINANZ_ANLEGER</th>\n",
       "      <th>FINANZ_UNAUFFAELLIGER</th>\n",
       "      <th>FINANZ_HAUSBAUER</th>\n",
       "      <th>GREEN_AVANTGARDE</th>\n",
       "      <th>HEALTH_TYP</th>\n",
       "      <th>...</th>\n",
       "      <th>PLZ8_ANTG4</th>\n",
       "      <th>PLZ8_HHZ</th>\n",
       "      <th>PLZ8_GBZ</th>\n",
       "      <th>ARBEIT</th>\n",
       "      <th>ORTSGR_KLS9</th>\n",
       "      <th>RELAT_AB</th>\n",
       "      <th>PRAEGENDE_JUGENDJAHRE_DECADE</th>\n",
       "      <th>PRAEGENDE_JUGENDJAHRE_MOVEMENT</th>\n",
       "      <th>CAMEO_INTL_2015_WEALTH</th>\n",
       "      <th>CAMEO_INTL_2015_LIFE_STAGE</th>\n",
       "    </tr>\n",
       "  </thead>\n",
       "  <tbody>\n",
       "    <tr>\n",
       "      <th>1</th>\n",
       "      <td>1.0</td>\n",
       "      <td>2</td>\n",
       "      <td>1</td>\n",
       "      <td>5</td>\n",
       "      <td>2</td>\n",
       "      <td>5</td>\n",
       "      <td>4</td>\n",
       "      <td>5</td>\n",
       "      <td>0</td>\n",
       "      <td>3.0</td>\n",
       "      <td>...</td>\n",
       "      <td>1.0</td>\n",
       "      <td>5.0</td>\n",
       "      <td>4.0</td>\n",
       "      <td>3.0</td>\n",
       "      <td>5.0</td>\n",
       "      <td>4.0</td>\n",
       "      <td>6.0</td>\n",
       "      <td>1.0</td>\n",
       "      <td>5.0</td>\n",
       "      <td>1.0</td>\n",
       "    </tr>\n",
       "    <tr>\n",
       "      <th>2</th>\n",
       "      <td>3.0</td>\n",
       "      <td>2</td>\n",
       "      <td>1</td>\n",
       "      <td>4</td>\n",
       "      <td>1</td>\n",
       "      <td>2</td>\n",
       "      <td>3</td>\n",
       "      <td>5</td>\n",
       "      <td>1</td>\n",
       "      <td>3.0</td>\n",
       "      <td>...</td>\n",
       "      <td>0.0</td>\n",
       "      <td>4.0</td>\n",
       "      <td>4.0</td>\n",
       "      <td>3.0</td>\n",
       "      <td>5.0</td>\n",
       "      <td>2.0</td>\n",
       "      <td>6.0</td>\n",
       "      <td>0.0</td>\n",
       "      <td>2.0</td>\n",
       "      <td>4.0</td>\n",
       "    </tr>\n",
       "    <tr>\n",
       "      <th>4</th>\n",
       "      <td>3.0</td>\n",
       "      <td>1</td>\n",
       "      <td>4</td>\n",
       "      <td>3</td>\n",
       "      <td>4</td>\n",
       "      <td>1</td>\n",
       "      <td>3</td>\n",
       "      <td>2</td>\n",
       "      <td>0</td>\n",
       "      <td>3.0</td>\n",
       "      <td>...</td>\n",
       "      <td>1.0</td>\n",
       "      <td>3.0</td>\n",
       "      <td>3.0</td>\n",
       "      <td>4.0</td>\n",
       "      <td>6.0</td>\n",
       "      <td>5.0</td>\n",
       "      <td>4.0</td>\n",
       "      <td>1.0</td>\n",
       "      <td>4.0</td>\n",
       "      <td>3.0</td>\n",
       "    </tr>\n",
       "    <tr>\n",
       "      <th>5</th>\n",
       "      <td>1.0</td>\n",
       "      <td>2</td>\n",
       "      <td>3</td>\n",
       "      <td>1</td>\n",
       "      <td>5</td>\n",
       "      <td>2</td>\n",
       "      <td>2</td>\n",
       "      <td>5</td>\n",
       "      <td>0</td>\n",
       "      <td>3.0</td>\n",
       "      <td>...</td>\n",
       "      <td>1.0</td>\n",
       "      <td>5.0</td>\n",
       "      <td>5.0</td>\n",
       "      <td>2.0</td>\n",
       "      <td>3.0</td>\n",
       "      <td>3.0</td>\n",
       "      <td>2.0</td>\n",
       "      <td>1.0</td>\n",
       "      <td>5.0</td>\n",
       "      <td>4.0</td>\n",
       "    </tr>\n",
       "    <tr>\n",
       "      <th>6</th>\n",
       "      <td>2.0</td>\n",
       "      <td>2</td>\n",
       "      <td>1</td>\n",
       "      <td>5</td>\n",
       "      <td>1</td>\n",
       "      <td>5</td>\n",
       "      <td>4</td>\n",
       "      <td>3</td>\n",
       "      <td>0</td>\n",
       "      <td>2.0</td>\n",
       "      <td>...</td>\n",
       "      <td>0.0</td>\n",
       "      <td>5.0</td>\n",
       "      <td>5.0</td>\n",
       "      <td>4.0</td>\n",
       "      <td>6.0</td>\n",
       "      <td>3.0</td>\n",
       "      <td>5.0</td>\n",
       "      <td>1.0</td>\n",
       "      <td>2.0</td>\n",
       "      <td>2.0</td>\n",
       "    </tr>\n",
       "  </tbody>\n",
       "</table>\n",
       "<p>5 rows × 63 columns</p>\n",
       "</div>"
      ],
      "text/plain": [
       "   ALTERSKATEGORIE_GROB  ANREDE_KZ  FINANZ_MINIMALIST  FINANZ_SPARER  \\\n",
       "1                   1.0          2                  1              5   \n",
       "2                   3.0          2                  1              4   \n",
       "4                   3.0          1                  4              3   \n",
       "5                   1.0          2                  3              1   \n",
       "6                   2.0          2                  1              5   \n",
       "\n",
       "   FINANZ_VORSORGER  FINANZ_ANLEGER  FINANZ_UNAUFFAELLIGER  FINANZ_HAUSBAUER  \\\n",
       "1                 2               5                      4                 5   \n",
       "2                 1               2                      3                 5   \n",
       "4                 4               1                      3                 2   \n",
       "5                 5               2                      2                 5   \n",
       "6                 1               5                      4                 3   \n",
       "\n",
       "   GREEN_AVANTGARDE  HEALTH_TYP             ...              PLZ8_ANTG4  \\\n",
       "1                 0         3.0             ...                     1.0   \n",
       "2                 1         3.0             ...                     0.0   \n",
       "4                 0         3.0             ...                     1.0   \n",
       "5                 0         3.0             ...                     1.0   \n",
       "6                 0         2.0             ...                     0.0   \n",
       "\n",
       "   PLZ8_HHZ  PLZ8_GBZ  ARBEIT  ORTSGR_KLS9  RELAT_AB  \\\n",
       "1       5.0       4.0     3.0          5.0       4.0   \n",
       "2       4.0       4.0     3.0          5.0       2.0   \n",
       "4       3.0       3.0     4.0          6.0       5.0   \n",
       "5       5.0       5.0     2.0          3.0       3.0   \n",
       "6       5.0       5.0     4.0          6.0       3.0   \n",
       "\n",
       "   PRAEGENDE_JUGENDJAHRE_DECADE  PRAEGENDE_JUGENDJAHRE_MOVEMENT  \\\n",
       "1                           6.0                             1.0   \n",
       "2                           6.0                             0.0   \n",
       "4                           4.0                             1.0   \n",
       "5                           2.0                             1.0   \n",
       "6                           5.0                             1.0   \n",
       "\n",
       "   CAMEO_INTL_2015_WEALTH  CAMEO_INTL_2015_LIFE_STAGE  \n",
       "1                     5.0                         1.0  \n",
       "2                     2.0                         4.0  \n",
       "4                     4.0                         3.0  \n",
       "5                     5.0                         4.0  \n",
       "6                     2.0                         2.0  \n",
       "\n",
       "[5 rows x 63 columns]"
      ]
     },
     "execution_count": 45,
     "metadata": {},
     "output_type": "execute_result"
    }
   ],
   "source": [
    "azdias_clean.head()"
   ]
  },
  {
   "cell_type": "code",
   "execution_count": 46,
   "metadata": {},
   "outputs": [
    {
     "name": "stdout",
     "output_type": "stream",
     "text": [
      "<class 'pandas.core.frame.DataFrame'>\n",
      "Int64Index: 684502 entries, 1 to 891220\n",
      "Data columns (total 63 columns):\n",
      "ALTERSKATEGORIE_GROB              684502 non-null float64\n",
      "ANREDE_KZ                         684502 non-null int64\n",
      "FINANZ_MINIMALIST                 684502 non-null int64\n",
      "FINANZ_SPARER                     684502 non-null int64\n",
      "FINANZ_VORSORGER                  684502 non-null int64\n",
      "FINANZ_ANLEGER                    684502 non-null int64\n",
      "FINANZ_UNAUFFAELLIGER             684502 non-null int64\n",
      "FINANZ_HAUSBAUER                  684502 non-null int64\n",
      "GREEN_AVANTGARDE                  684502 non-null int64\n",
      "HEALTH_TYP                        684502 non-null float64\n",
      "RETOURTYP_BK_S                    684502 non-null float64\n",
      "SEMIO_SOZ                         684502 non-null int64\n",
      "SEMIO_FAM                         684502 non-null int64\n",
      "SEMIO_REL                         684502 non-null int64\n",
      "SEMIO_MAT                         684502 non-null int64\n",
      "SEMIO_VERT                        684502 non-null int64\n",
      "SEMIO_LUST                        684502 non-null int64\n",
      "SEMIO_ERL                         684502 non-null int64\n",
      "SEMIO_KULT                        684502 non-null int64\n",
      "SEMIO_RAT                         684502 non-null int64\n",
      "SEMIO_KRIT                        684502 non-null int64\n",
      "SEMIO_DOM                         684502 non-null int64\n",
      "SEMIO_KAEM                        684502 non-null int64\n",
      "SEMIO_PFLICHT                     684502 non-null int64\n",
      "SEMIO_TRADV                       684502 non-null int64\n",
      "SOHO_KZ                           684502 non-null float64\n",
      "ANZ_PERSONEN                      684502 non-null float64\n",
      "ANZ_TITEL                         684502 non-null float64\n",
      "HH_EINKOMMEN_SCORE                684502 non-null float64\n",
      "W_KEIT_KIND_HH                    666425 non-null float64\n",
      "WOHNDAUER_2008                    684502 non-null float64\n",
      "ANZ_HAUSHALTE_AKTIV               682041 non-null float64\n",
      "ANZ_HH_TITEL                      683945 non-null float64\n",
      "KONSUMNAEHE                       684466 non-null float64\n",
      "MIN_GEBAEUDEJAHR                  684502 non-null float64\n",
      "OST_WEST_KZ                       684502 non-null int64\n",
      "KBA05_ANTG1                       684502 non-null float64\n",
      "KBA05_ANTG2                       684502 non-null float64\n",
      "KBA05_ANTG3                       684502 non-null float64\n",
      "KBA05_ANTG4                       684502 non-null float64\n",
      "KBA05_GBZ                         684502 non-null float64\n",
      "BALLRAUM                          684099 non-null float64\n",
      "EWDICHTE                          684099 non-null float64\n",
      "INNENSTADT                        684099 non-null float64\n",
      "GEBAEUDETYP_RASTER                684500 non-null float64\n",
      "KKK                               646176 non-null float64\n",
      "MOBI_REGIO                        684502 non-null float64\n",
      "ONLINE_AFFINITAET                 684502 non-null float64\n",
      "REGIOTYP                          646176 non-null float64\n",
      "KBA13_ANZAHL_PKW                  683949 non-null float64\n",
      "PLZ8_ANTG1                        684502 non-null float64\n",
      "PLZ8_ANTG2                        684502 non-null float64\n",
      "PLZ8_ANTG3                        684502 non-null float64\n",
      "PLZ8_ANTG4                        684502 non-null float64\n",
      "PLZ8_HHZ                          684502 non-null float64\n",
      "PLZ8_GBZ                          684502 non-null float64\n",
      "ARBEIT                            681074 non-null float64\n",
      "ORTSGR_KLS9                       681144 non-null float64\n",
      "RELAT_AB                          681074 non-null float64\n",
      "PRAEGENDE_JUGENDJAHRE_DECADE      677706 non-null float64\n",
      "PRAEGENDE_JUGENDJAHRE_MOVEMENT    677706 non-null float64\n",
      "CAMEO_INTL_2015_WEALTH            681863 non-null float64\n",
      "CAMEO_INTL_2015_LIFE_STAGE        681863 non-null float64\n",
      "dtypes: float64(40), int64(23)\n",
      "memory usage: 334.2 MB\n"
     ]
    }
   ],
   "source": [
    "azdias_clean.info()"
   ]
  },
  {
   "cell_type": "markdown",
   "metadata": {},
   "source": [
    "### Step 1.3: Create a Cleaning Function\n",
    "\n",
    "Even though you've finished cleaning up the general population demographics data, it's important to look ahead to the future and realize that you'll need to perform the same cleaning steps on the customer demographics data. In this substep, complete the function below to execute the main feature selection, encoding, and re-engineering steps you performed above. Then, when it comes to looking at the customer data in Step 3, you can just run this function on that DataFrame to get the trimmed dataset in a single step."
   ]
  },
  {
   "cell_type": "code",
   "execution_count": 47,
   "metadata": {},
   "outputs": [],
   "source": [
    "def clean_data(df):\n",
    "    \"\"\"\n",
    "    Perform feature trimming, re-encoding, and engineering for demographics\n",
    "    data\n",
    "    \n",
    "    INPUT: Demographics DataFrame\n",
    "    OUTPUT: Trimmed and cleaned demographics DataFrame\n",
    "    \"\"\"\n",
    "  \n",
    "    # convert missing value codes into NaNs, ...\n",
    "    values = ['-1','0','1','2','3','4','5','6','7','8','9']\n",
    "    for i in range(len(feat_info)):\n",
    "        missing_or_unknown = feat_info.iloc[i]['missing_or_unknown']\n",
    "        missing_or_unknown = missing_or_unknown.strip('[')\n",
    "        missing_or_unknown = missing_or_unknown.strip(']')\n",
    "        missing_or_unknown = missing_or_unknown.split(sep=',')\n",
    "        missing_or_unknown = [int(value) if (value!='X' and value!='XX' and value!='') else value for value in missing_or_unknown]\n",
    "        if missing_or_unknown != ['']:\n",
    "            df_clean = df.replace({feat_info.iloc[i]['attribute']: missing_or_unknown}, np.nan)\n",
    "\n",
    "            \n",
    "    for col in df.columns:\n",
    "        df_clean = df_clean.replace({col: ['XX', 'X']}, np.nan)\n",
    "        \n",
    "        \n",
    "    # remove selected columns and rows, ...\n",
    "    # drop columns with more than 20% missing values\n",
    "    columns_miss_20 = ['AGER_TYP', 'GEBURTSJAHR', 'TITEL_KZ', 'ALTER_HH', 'KK_KUNDENTYP', 'KBA05_BAUMAX']\n",
    "    df_clean = df_clean.drop(columns_miss_20, axis=1)\n",
    "    \n",
    "    \n",
    "    # drop rows with more than 3 missing values\n",
    "    df_clean = df_clean[df_clean.isnull().sum(axis=1) <= 3]\n",
    "    \n",
    "\n",
    "    # Re-encoding char, numeric and non-numeric binary features\n",
    "    value_map = {'W':0, 'O':1}\n",
    "    df_clean = df_clean.replace({'OST_WEST_KZ':value_map})\n",
    "    \n",
    "    \n",
    "    # drop multi-leve features\n",
    "    cat_features = feat_info_clean[feat_info_clean[\"type\"]==\"categorical\"][\"attribute\"]\n",
    "    multi_level_feature=[]\n",
    "    for feature in cat_features:\n",
    "        if (len(df_clean[feature].unique())>2):\n",
    "            multi_level_feature.append(feature)\n",
    "    for feature in multi_level_feature:\n",
    "        df_clean=df_clean.drop(feature, axis=1)\n",
    "        \n",
    "    # engineer mixed features\n",
    "    df_clean['PRAEGENDE_JUGENDJAHRE_DECADE'] = df_clean['PRAEGENDE_JUGENDJAHRE']\n",
    "    df_clean['PRAEGENDE_JUGENDJAHRE_MOVEMENT'] = df_clean['PRAEGENDE_JUGENDJAHRE']\n",
    "    \n",
    "    decade_dict = {1:1, 2:1, 3:2, 4:2, 5:3, 6:3, 7:3, 8:4, 9:4, 10:5, 11:5, 12:5, 13:5, 14:6, 15:6}\n",
    "    movement_dict = {1:1, 2:0, 3:1, 4:0, 5:1, 6:0, 7:0, 8:1, 9:0, 10:1, 11:0, 12:1, 13:0, 14:1, 15:0}\n",
    "    \n",
    "    df_clean['PRAEGENDE_JUGENDJAHRE_DECADE'].replace(decade_dict, inplace=True)\n",
    "    df_clean['PRAEGENDE_JUGENDJAHRE_MOVEMENT'].replace(movement_dict, inplace=True)\n",
    "    \n",
    "    df_clean['CAMEO_INTL_2015_WEALTH'] = df_clean['CAMEO_INTL_2015']\n",
    "    df_clean['CAMEO_INTL_2015_LIFE_STAGE'] = df_clean['CAMEO_INTL_2015']\n",
    "    \n",
    "    wealth_dict = {'11':1, '12':1, '13':1, '14':1, '15':1, '21':2, '22':2, '23':2, '24':2, '25':2,\n",
    "                   '31':3, '32':3, '33':3, '34':3, '35':3, '41':4, '42':4, '43':4, '44':4, '45':4,\n",
    "                   '51':5, '52':5, '53':5, '54':5, '55':5}\n",
    "    \n",
    "    life_stage_dict = {'11':1, '12':2, '13':3, '14':4, '15':5, '21':1, '22':2, '23':3, '24':4, '25':5,\n",
    "                       '31':1, '32':2, '33':3, '34':4, '35':5, '41':1, '42':2, '43':3, '44':4, '45':5,\n",
    "                       '51':1, '52':2, '53':3, '54':4, '55':5}\n",
    "    \n",
    "    df_clean['CAMEO_INTL_2015_WEALTH'].replace(wealth_dict, inplace=True)\n",
    "    df_clean['CAMEO_INTL_2015_LIFE_STAGE'].replace(life_stage_dict, inplace=True)\n",
    "    \n",
    "    mixed_features = feat_info_clean[feat_info_clean[\"type\"]==\"mixed\"][\"attribute\"]\n",
    "    for feature in mixed_features:\n",
    "        df_clean.drop(feature, axis=1, inplace=True)\n",
    "        \n",
    "        \n",
    "    # Replace NaN\n",
    "    df_clean_imputed = pd.DataFrame(fill_missing.fit_transform(df_clean))\n",
    "    df_clean_imputed.columns = df_clean.columns\n",
    "    df_clean_imputed.index = df_clean.index\n",
    "    df_clean = df_clean_imputed\n",
    "    \n",
    "    # Return the cleaned dataframe.\n",
    "    return df_clean"
   ]
  },
  {
   "cell_type": "markdown",
   "metadata": {},
   "source": [
    "## Step 2: Feature Transformation\n",
    "\n",
    "### Step 2.1: Apply Feature Scaling\n",
    "\n",
    "Before we apply dimensionality reduction techniques to the data, we need to perform feature scaling so that the principal component vectors are not influenced by the natural differences in scale for features. Starting from this part of the project, you'll want to keep an eye on the [API reference page for sklearn](http://scikit-learn.org/stable/modules/classes.html) to help you navigate to all of the classes and functions that you'll need. In this substep, you'll need to check the following:\n",
    "\n",
    "- sklearn requires that data not have missing values in order for its estimators to work properly. So, before applying the scaler to your data, make sure that you've cleaned the DataFrame of the remaining missing values. This can be as simple as just removing all data points with missing data, or applying an [Imputer](https://scikit-learn.org/0.16/modules/generated/sklearn.preprocessing.Imputer.html) to replace all missing values. You might also try a more complicated procedure where you temporarily remove missing values in order to compute the scaling parameters before re-introducing those missing values and applying imputation. Think about how much missing data you have and what possible effects each approach might have on your analysis, and justify your decision in the discussion section below.\n",
    "- For the actual scaling function, a [StandardScaler](http://scikit-learn.org/stable/modules/generated/sklearn.preprocessing.StandardScaler.html) instance is suggested, scaling each feature to mean 0 and standard deviation 1.\n",
    "- For these classes, you can make use of the `.fit_transform()` method to both fit a procedure to the data as well as apply the transformation to the data at the same time. Don't forget to keep the fit sklearn objects handy, since you'll be applying them to the customer demographics data towards the end of the project."
   ]
  },
  {
   "cell_type": "code",
   "execution_count": 48,
   "metadata": {},
   "outputs": [
    {
     "name": "stdout",
     "output_type": "stream",
     "text": [
      "NaN values in the dataset: 0\n"
     ]
    }
   ],
   "source": [
    "# Fill NaNs with mode\n",
    "fill_missing = Imputer(strategy='most_frequent')\n",
    "azdias_clean_imputed = pd.DataFrame(fill_missing.fit_transform(azdias_clean))\n",
    "print('NaN values in the dataset:', azdias_clean_imputed.isna().sum().sum())"
   ]
  },
  {
   "cell_type": "code",
   "execution_count": 49,
   "metadata": {},
   "outputs": [
    {
     "name": "stdout",
     "output_type": "stream",
     "text": [
      "<class 'pandas.core.frame.DataFrame'>\n",
      "Int64Index: 684502 entries, 1 to 891220\n",
      "Data columns (total 63 columns):\n",
      "ALTERSKATEGORIE_GROB              684502 non-null float64\n",
      "ANREDE_KZ                         684502 non-null int64\n",
      "FINANZ_MINIMALIST                 684502 non-null int64\n",
      "FINANZ_SPARER                     684502 non-null int64\n",
      "FINANZ_VORSORGER                  684502 non-null int64\n",
      "FINANZ_ANLEGER                    684502 non-null int64\n",
      "FINANZ_UNAUFFAELLIGER             684502 non-null int64\n",
      "FINANZ_HAUSBAUER                  684502 non-null int64\n",
      "GREEN_AVANTGARDE                  684502 non-null int64\n",
      "HEALTH_TYP                        684502 non-null float64\n",
      "RETOURTYP_BK_S                    684502 non-null float64\n",
      "SEMIO_SOZ                         684502 non-null int64\n",
      "SEMIO_FAM                         684502 non-null int64\n",
      "SEMIO_REL                         684502 non-null int64\n",
      "SEMIO_MAT                         684502 non-null int64\n",
      "SEMIO_VERT                        684502 non-null int64\n",
      "SEMIO_LUST                        684502 non-null int64\n",
      "SEMIO_ERL                         684502 non-null int64\n",
      "SEMIO_KULT                        684502 non-null int64\n",
      "SEMIO_RAT                         684502 non-null int64\n",
      "SEMIO_KRIT                        684502 non-null int64\n",
      "SEMIO_DOM                         684502 non-null int64\n",
      "SEMIO_KAEM                        684502 non-null int64\n",
      "SEMIO_PFLICHT                     684502 non-null int64\n",
      "SEMIO_TRADV                       684502 non-null int64\n",
      "SOHO_KZ                           684502 non-null float64\n",
      "ANZ_PERSONEN                      684502 non-null float64\n",
      "ANZ_TITEL                         684502 non-null float64\n",
      "HH_EINKOMMEN_SCORE                684502 non-null float64\n",
      "W_KEIT_KIND_HH                    666425 non-null float64\n",
      "WOHNDAUER_2008                    684502 non-null float64\n",
      "ANZ_HAUSHALTE_AKTIV               682041 non-null float64\n",
      "ANZ_HH_TITEL                      683945 non-null float64\n",
      "KONSUMNAEHE                       684466 non-null float64\n",
      "MIN_GEBAEUDEJAHR                  684502 non-null float64\n",
      "OST_WEST_KZ                       684502 non-null int64\n",
      "KBA05_ANTG1                       684502 non-null float64\n",
      "KBA05_ANTG2                       684502 non-null float64\n",
      "KBA05_ANTG3                       684502 non-null float64\n",
      "KBA05_ANTG4                       684502 non-null float64\n",
      "KBA05_GBZ                         684502 non-null float64\n",
      "BALLRAUM                          684099 non-null float64\n",
      "EWDICHTE                          684099 non-null float64\n",
      "INNENSTADT                        684099 non-null float64\n",
      "GEBAEUDETYP_RASTER                684500 non-null float64\n",
      "KKK                               646176 non-null float64\n",
      "MOBI_REGIO                        684502 non-null float64\n",
      "ONLINE_AFFINITAET                 684502 non-null float64\n",
      "REGIOTYP                          646176 non-null float64\n",
      "KBA13_ANZAHL_PKW                  683949 non-null float64\n",
      "PLZ8_ANTG1                        684502 non-null float64\n",
      "PLZ8_ANTG2                        684502 non-null float64\n",
      "PLZ8_ANTG3                        684502 non-null float64\n",
      "PLZ8_ANTG4                        684502 non-null float64\n",
      "PLZ8_HHZ                          684502 non-null float64\n",
      "PLZ8_GBZ                          684502 non-null float64\n",
      "ARBEIT                            681074 non-null float64\n",
      "ORTSGR_KLS9                       681144 non-null float64\n",
      "RELAT_AB                          681074 non-null float64\n",
      "PRAEGENDE_JUGENDJAHRE_DECADE      677706 non-null float64\n",
      "PRAEGENDE_JUGENDJAHRE_MOVEMENT    677706 non-null float64\n",
      "CAMEO_INTL_2015_WEALTH            681863 non-null float64\n",
      "CAMEO_INTL_2015_LIFE_STAGE        681863 non-null float64\n",
      "dtypes: float64(40), int64(23)\n",
      "memory usage: 334.2 MB\n"
     ]
    }
   ],
   "source": [
    "azdias_clean.info()"
   ]
  },
  {
   "cell_type": "code",
   "execution_count": 50,
   "metadata": {},
   "outputs": [],
   "source": [
    "# Preparing for data reformat after scaling\n",
    "azdias_clean_imputed.columns = azdias_clean.columns\n",
    "azdias_clean_imputed.index = azdias_clean.index"
   ]
  },
  {
   "cell_type": "code",
   "execution_count": 51,
   "metadata": {},
   "outputs": [],
   "source": [
    "# Apply feature scaling to the general population demographics data.\n",
    "scaler = StandardScaler() \n",
    "azdias_clean_scaled = scaler.fit_transform(azdias_clean_imputed)"
   ]
  },
  {
   "cell_type": "code",
   "execution_count": 52,
   "metadata": {},
   "outputs": [],
   "source": [
    "# Converting array to dataframe\n",
    "azdias_clean_scaled = pd.DataFrame(azdias_clean_scaled, columns=list(azdias_clean_imputed))"
   ]
  },
  {
   "cell_type": "code",
   "execution_count": 53,
   "metadata": {},
   "outputs": [
    {
     "data": {
      "text/html": [
       "<div>\n",
       "<style scoped>\n",
       "    .dataframe tbody tr th:only-of-type {\n",
       "        vertical-align: middle;\n",
       "    }\n",
       "\n",
       "    .dataframe tbody tr th {\n",
       "        vertical-align: top;\n",
       "    }\n",
       "\n",
       "    .dataframe thead th {\n",
       "        text-align: right;\n",
       "    }\n",
       "</style>\n",
       "<table border=\"1\" class=\"dataframe\">\n",
       "  <thead>\n",
       "    <tr style=\"text-align: right;\">\n",
       "      <th></th>\n",
       "      <th>ALTERSKATEGORIE_GROB</th>\n",
       "      <th>ANREDE_KZ</th>\n",
       "      <th>FINANZ_MINIMALIST</th>\n",
       "      <th>FINANZ_SPARER</th>\n",
       "      <th>FINANZ_VORSORGER</th>\n",
       "      <th>FINANZ_ANLEGER</th>\n",
       "      <th>FINANZ_UNAUFFAELLIGER</th>\n",
       "      <th>FINANZ_HAUSBAUER</th>\n",
       "      <th>GREEN_AVANTGARDE</th>\n",
       "      <th>HEALTH_TYP</th>\n",
       "      <th>...</th>\n",
       "      <th>PLZ8_ANTG4</th>\n",
       "      <th>PLZ8_HHZ</th>\n",
       "      <th>PLZ8_GBZ</th>\n",
       "      <th>ARBEIT</th>\n",
       "      <th>ORTSGR_KLS9</th>\n",
       "      <th>RELAT_AB</th>\n",
       "      <th>PRAEGENDE_JUGENDJAHRE_DECADE</th>\n",
       "      <th>PRAEGENDE_JUGENDJAHRE_MOVEMENT</th>\n",
       "      <th>CAMEO_INTL_2015_WEALTH</th>\n",
       "      <th>CAMEO_INTL_2015_LIFE_STAGE</th>\n",
       "    </tr>\n",
       "  </thead>\n",
       "  <tbody>\n",
       "    <tr>\n",
       "      <th>0</th>\n",
       "      <td>-1.747634</td>\n",
       "      <td>0.975423</td>\n",
       "      <td>-1.523655</td>\n",
       "      <td>1.588878</td>\n",
       "      <td>-1.050212</td>\n",
       "      <td>1.513292</td>\n",
       "      <td>1.048651</td>\n",
       "      <td>1.341142</td>\n",
       "      <td>-0.542999</td>\n",
       "      <td>1.038860</td>\n",
       "      <td>...</td>\n",
       "      <td>0.409122</td>\n",
       "      <td>1.432172</td>\n",
       "      <td>0.564740</td>\n",
       "      <td>-0.187976</td>\n",
       "      <td>-0.133875</td>\n",
       "      <td>0.678924</td>\n",
       "      <td>1.144730</td>\n",
       "      <td>0.542999</td>\n",
       "      <td>1.169744</td>\n",
       "      <td>-1.255608</td>\n",
       "    </tr>\n",
       "    <tr>\n",
       "      <th>1</th>\n",
       "      <td>0.193497</td>\n",
       "      <td>0.975423</td>\n",
       "      <td>-1.523655</td>\n",
       "      <td>0.908468</td>\n",
       "      <td>-1.771419</td>\n",
       "      <td>-0.548762</td>\n",
       "      <td>0.320698</td>\n",
       "      <td>1.341142</td>\n",
       "      <td>1.841624</td>\n",
       "      <td>1.038860</td>\n",
       "      <td>...</td>\n",
       "      <td>-0.963869</td>\n",
       "      <td>0.402503</td>\n",
       "      <td>0.564740</td>\n",
       "      <td>-0.187976</td>\n",
       "      <td>-0.133875</td>\n",
       "      <td>-0.799090</td>\n",
       "      <td>1.144730</td>\n",
       "      <td>-1.841624</td>\n",
       "      <td>-0.873113</td>\n",
       "      <td>0.753418</td>\n",
       "    </tr>\n",
       "    <tr>\n",
       "      <th>2</th>\n",
       "      <td>0.193497</td>\n",
       "      <td>-1.025197</td>\n",
       "      <td>0.677626</td>\n",
       "      <td>0.228057</td>\n",
       "      <td>0.392200</td>\n",
       "      <td>-1.236113</td>\n",
       "      <td>0.320698</td>\n",
       "      <td>-0.834925</td>\n",
       "      <td>-0.542999</td>\n",
       "      <td>1.038860</td>\n",
       "      <td>...</td>\n",
       "      <td>0.409122</td>\n",
       "      <td>-0.627167</td>\n",
       "      <td>-0.334972</td>\n",
       "      <td>0.816965</td>\n",
       "      <td>0.301888</td>\n",
       "      <td>1.417930</td>\n",
       "      <td>-0.232759</td>\n",
       "      <td>0.542999</td>\n",
       "      <td>0.488792</td>\n",
       "      <td>0.083743</td>\n",
       "    </tr>\n",
       "    <tr>\n",
       "      <th>3</th>\n",
       "      <td>-1.747634</td>\n",
       "      <td>0.975423</td>\n",
       "      <td>-0.056134</td>\n",
       "      <td>-1.132765</td>\n",
       "      <td>1.113406</td>\n",
       "      <td>-0.548762</td>\n",
       "      <td>-0.407255</td>\n",
       "      <td>1.341142</td>\n",
       "      <td>-0.542999</td>\n",
       "      <td>1.038860</td>\n",
       "      <td>...</td>\n",
       "      <td>0.409122</td>\n",
       "      <td>1.432172</td>\n",
       "      <td>1.464451</td>\n",
       "      <td>-1.192917</td>\n",
       "      <td>-1.005401</td>\n",
       "      <td>-0.060083</td>\n",
       "      <td>-1.610248</td>\n",
       "      <td>0.542999</td>\n",
       "      <td>1.169744</td>\n",
       "      <td>0.753418</td>\n",
       "    </tr>\n",
       "    <tr>\n",
       "      <th>4</th>\n",
       "      <td>-0.777068</td>\n",
       "      <td>0.975423</td>\n",
       "      <td>-1.523655</td>\n",
       "      <td>1.588878</td>\n",
       "      <td>-1.771419</td>\n",
       "      <td>1.513292</td>\n",
       "      <td>1.048651</td>\n",
       "      <td>-0.109569</td>\n",
       "      <td>-0.542999</td>\n",
       "      <td>-0.285764</td>\n",
       "      <td>...</td>\n",
       "      <td>-0.963869</td>\n",
       "      <td>1.432172</td>\n",
       "      <td>1.464451</td>\n",
       "      <td>0.816965</td>\n",
       "      <td>0.301888</td>\n",
       "      <td>-0.060083</td>\n",
       "      <td>0.455986</td>\n",
       "      <td>0.542999</td>\n",
       "      <td>-0.873113</td>\n",
       "      <td>-0.585933</td>\n",
       "    </tr>\n",
       "  </tbody>\n",
       "</table>\n",
       "<p>5 rows × 63 columns</p>\n",
       "</div>"
      ],
      "text/plain": [
       "   ALTERSKATEGORIE_GROB  ANREDE_KZ  FINANZ_MINIMALIST  FINANZ_SPARER  \\\n",
       "0             -1.747634   0.975423          -1.523655       1.588878   \n",
       "1              0.193497   0.975423          -1.523655       0.908468   \n",
       "2              0.193497  -1.025197           0.677626       0.228057   \n",
       "3             -1.747634   0.975423          -0.056134      -1.132765   \n",
       "4             -0.777068   0.975423          -1.523655       1.588878   \n",
       "\n",
       "   FINANZ_VORSORGER  FINANZ_ANLEGER  FINANZ_UNAUFFAELLIGER  FINANZ_HAUSBAUER  \\\n",
       "0         -1.050212        1.513292               1.048651          1.341142   \n",
       "1         -1.771419       -0.548762               0.320698          1.341142   \n",
       "2          0.392200       -1.236113               0.320698         -0.834925   \n",
       "3          1.113406       -0.548762              -0.407255          1.341142   \n",
       "4         -1.771419        1.513292               1.048651         -0.109569   \n",
       "\n",
       "   GREEN_AVANTGARDE  HEALTH_TYP             ...              PLZ8_ANTG4  \\\n",
       "0         -0.542999    1.038860             ...                0.409122   \n",
       "1          1.841624    1.038860             ...               -0.963869   \n",
       "2         -0.542999    1.038860             ...                0.409122   \n",
       "3         -0.542999    1.038860             ...                0.409122   \n",
       "4         -0.542999   -0.285764             ...               -0.963869   \n",
       "\n",
       "   PLZ8_HHZ  PLZ8_GBZ    ARBEIT  ORTSGR_KLS9  RELAT_AB  \\\n",
       "0  1.432172  0.564740 -0.187976    -0.133875  0.678924   \n",
       "1  0.402503  0.564740 -0.187976    -0.133875 -0.799090   \n",
       "2 -0.627167 -0.334972  0.816965     0.301888  1.417930   \n",
       "3  1.432172  1.464451 -1.192917    -1.005401 -0.060083   \n",
       "4  1.432172  1.464451  0.816965     0.301888 -0.060083   \n",
       "\n",
       "   PRAEGENDE_JUGENDJAHRE_DECADE  PRAEGENDE_JUGENDJAHRE_MOVEMENT  \\\n",
       "0                      1.144730                        0.542999   \n",
       "1                      1.144730                       -1.841624   \n",
       "2                     -0.232759                        0.542999   \n",
       "3                     -1.610248                        0.542999   \n",
       "4                      0.455986                        0.542999   \n",
       "\n",
       "   CAMEO_INTL_2015_WEALTH  CAMEO_INTL_2015_LIFE_STAGE  \n",
       "0                1.169744                   -1.255608  \n",
       "1               -0.873113                    0.753418  \n",
       "2                0.488792                    0.083743  \n",
       "3                1.169744                    0.753418  \n",
       "4               -0.873113                   -0.585933  \n",
       "\n",
       "[5 rows x 63 columns]"
      ]
     },
     "execution_count": 53,
     "metadata": {},
     "output_type": "execute_result"
    }
   ],
   "source": [
    "azdias_clean_scaled.head()"
   ]
  },
  {
   "cell_type": "code",
   "execution_count": 54,
   "metadata": {},
   "outputs": [
    {
     "name": "stdout",
     "output_type": "stream",
     "text": [
      "<class 'pandas.core.frame.DataFrame'>\n",
      "RangeIndex: 684502 entries, 0 to 684501\n",
      "Data columns (total 63 columns):\n",
      "ALTERSKATEGORIE_GROB              684502 non-null float64\n",
      "ANREDE_KZ                         684502 non-null float64\n",
      "FINANZ_MINIMALIST                 684502 non-null float64\n",
      "FINANZ_SPARER                     684502 non-null float64\n",
      "FINANZ_VORSORGER                  684502 non-null float64\n",
      "FINANZ_ANLEGER                    684502 non-null float64\n",
      "FINANZ_UNAUFFAELLIGER             684502 non-null float64\n",
      "FINANZ_HAUSBAUER                  684502 non-null float64\n",
      "GREEN_AVANTGARDE                  684502 non-null float64\n",
      "HEALTH_TYP                        684502 non-null float64\n",
      "RETOURTYP_BK_S                    684502 non-null float64\n",
      "SEMIO_SOZ                         684502 non-null float64\n",
      "SEMIO_FAM                         684502 non-null float64\n",
      "SEMIO_REL                         684502 non-null float64\n",
      "SEMIO_MAT                         684502 non-null float64\n",
      "SEMIO_VERT                        684502 non-null float64\n",
      "SEMIO_LUST                        684502 non-null float64\n",
      "SEMIO_ERL                         684502 non-null float64\n",
      "SEMIO_KULT                        684502 non-null float64\n",
      "SEMIO_RAT                         684502 non-null float64\n",
      "SEMIO_KRIT                        684502 non-null float64\n",
      "SEMIO_DOM                         684502 non-null float64\n",
      "SEMIO_KAEM                        684502 non-null float64\n",
      "SEMIO_PFLICHT                     684502 non-null float64\n",
      "SEMIO_TRADV                       684502 non-null float64\n",
      "SOHO_KZ                           684502 non-null float64\n",
      "ANZ_PERSONEN                      684502 non-null float64\n",
      "ANZ_TITEL                         684502 non-null float64\n",
      "HH_EINKOMMEN_SCORE                684502 non-null float64\n",
      "W_KEIT_KIND_HH                    684502 non-null float64\n",
      "WOHNDAUER_2008                    684502 non-null float64\n",
      "ANZ_HAUSHALTE_AKTIV               684502 non-null float64\n",
      "ANZ_HH_TITEL                      684502 non-null float64\n",
      "KONSUMNAEHE                       684502 non-null float64\n",
      "MIN_GEBAEUDEJAHR                  684502 non-null float64\n",
      "OST_WEST_KZ                       684502 non-null float64\n",
      "KBA05_ANTG1                       684502 non-null float64\n",
      "KBA05_ANTG2                       684502 non-null float64\n",
      "KBA05_ANTG3                       684502 non-null float64\n",
      "KBA05_ANTG4                       684502 non-null float64\n",
      "KBA05_GBZ                         684502 non-null float64\n",
      "BALLRAUM                          684502 non-null float64\n",
      "EWDICHTE                          684502 non-null float64\n",
      "INNENSTADT                        684502 non-null float64\n",
      "GEBAEUDETYP_RASTER                684502 non-null float64\n",
      "KKK                               684502 non-null float64\n",
      "MOBI_REGIO                        684502 non-null float64\n",
      "ONLINE_AFFINITAET                 684502 non-null float64\n",
      "REGIOTYP                          684502 non-null float64\n",
      "KBA13_ANZAHL_PKW                  684502 non-null float64\n",
      "PLZ8_ANTG1                        684502 non-null float64\n",
      "PLZ8_ANTG2                        684502 non-null float64\n",
      "PLZ8_ANTG3                        684502 non-null float64\n",
      "PLZ8_ANTG4                        684502 non-null float64\n",
      "PLZ8_HHZ                          684502 non-null float64\n",
      "PLZ8_GBZ                          684502 non-null float64\n",
      "ARBEIT                            684502 non-null float64\n",
      "ORTSGR_KLS9                       684502 non-null float64\n",
      "RELAT_AB                          684502 non-null float64\n",
      "PRAEGENDE_JUGENDJAHRE_DECADE      684502 non-null float64\n",
      "PRAEGENDE_JUGENDJAHRE_MOVEMENT    684502 non-null float64\n",
      "CAMEO_INTL_2015_WEALTH            684502 non-null float64\n",
      "CAMEO_INTL_2015_LIFE_STAGE        684502 non-null float64\n",
      "dtypes: float64(63)\n",
      "memory usage: 329.0 MB\n"
     ]
    }
   ],
   "source": [
    "azdias_clean_scaled.info()"
   ]
  },
  {
   "cell_type": "markdown",
   "metadata": {},
   "source": [
    "### Discussion 2.1: Apply Feature Scaling\n",
    "\n",
    "I imputed the dataset to transform all Nan's to the mode value. I then did a check to ensure there were no longer any NaNs in the dataset. I thne used sklearns standard scaler to scale all the values in the dataset. Lastly I use the head command to view the dataframe to ensure everything was successful"
   ]
  },
  {
   "cell_type": "markdown",
   "metadata": {},
   "source": [
    "### Step 2.2: Perform Dimensionality Reduction\n",
    "\n",
    "On your scaled data, you are now ready to apply dimensionality reduction techniques.\n",
    "\n",
    "- Use sklearn's [PCA](http://scikit-learn.org/stable/modules/generated/sklearn.decomposition.PCA.html) class to apply principal component analysis on the data, thus finding the vectors of maximal variance in the data. To start, you should not set any parameters (so all components are computed) or set a number of components that is at least half the number of features (so there's enough features to see the general trend in variability).\n",
    "- Check out the ratio of variance explained by each principal component as well as the cumulative variance explained. Try plotting the cumulative or sequential values using matplotlib's [`plot()`](https://matplotlib.org/api/_as_gen/matplotlib.pyplot.plot.html) function. Based on what you find, select a value for the number of transformed features you'll retain for the clustering part of the project.\n",
    "- Once you've made a choice for the number of components to keep, make sure you re-fit a PCA instance to perform the decided-on transformation."
   ]
  },
  {
   "cell_type": "code",
   "execution_count": 55,
   "metadata": {},
   "outputs": [
    {
     "data": {
      "text/plain": [
       "PCA(copy=True, iterated_power='auto', n_components=None, random_state=None,\n",
       "  svd_solver='auto', tol=0.0, whiten=False)"
      ]
     },
     "execution_count": 55,
     "metadata": {},
     "output_type": "execute_result"
    }
   ],
   "source": [
    "# Apply PCA to the data.\n",
    "pca = PCA()\n",
    "pca.fit(azdias_clean_scaled)"
   ]
  },
  {
   "cell_type": "code",
   "execution_count": 56,
   "metadata": {},
   "outputs": [
    {
     "data": {
      "image/png": "[encoded data removed]",
      "text/plain": [
       "<matplotlib.figure.Figure at 0x7f1c41992128>"
      ]
     },
     "metadata": {
      "needs_background": "light"
     },
     "output_type": "display_data"
    }
   ],
   "source": [
    "# Investigate the variance accounted for by each principal component.\n",
    "plt.bar(range(len(pca.explained_variance_ratio_)), pca.explained_variance_ratio_)\n",
    "plt.title(\"Variance explained by each component\")\n",
    "plt.xlabel(\"Principal component\")\n",
    "plt.ylabel(\"Ratio of variance explained\")\n",
    "plt.show()"
   ]
  },
  {
   "cell_type": "code",
   "execution_count": 57,
   "metadata": {},
   "outputs": [
    {
     "data": {
      "image/png": "[encoded data removed]",
      "text/plain": [
       "<matplotlib.figure.Figure at 0x7f1c40027a90>"
      ]
     },
     "metadata": {
      "needs_background": "light"
     },
     "output_type": "display_data"
    }
   ],
   "source": [
    "plt.plot(range(len(pca.explained_variance_ratio_)),np.cumsum(pca.explained_variance_ratio_), '-')\n",
    "plt.title(\"Cumulative Variance Explained\")\n",
    "plt.xlabel(\"Number of Components\")\n",
    "plt.ylabel(\"Ratio of variance explained\")\n",
    "plt.show()"
   ]
  },
  {
   "cell_type": "code",
   "execution_count": 58,
   "metadata": {},
   "outputs": [],
   "source": [
    "# Re-apply PCA to the data while selecting for number of components to retain.\n",
    "pca_30 = PCA(n_components=30)\n",
    "azdias_pca = pca_30.fit_transform(azdias_clean_scaled)\n"
   ]
  },
  {
   "cell_type": "markdown",
   "metadata": {},
   "source": [
    "### Discussion 2.2: Perform Dimensionality Reduction\n",
    "\n",
    "The above plots show that 30 is a good number of components to keep. It is less than half of the total number of components while explaining over 80% of the variance."
   ]
  },
  {
   "cell_type": "markdown",
   "metadata": {},
   "source": [
    "### Step 2.3: Interpret Principal Components\n",
    "\n",
    "Now that we have our transformed principal components, it's a nice idea to check out the weight of each variable on the first few components to see if they can be interpreted in some fashion.\n",
    "\n",
    "As a reminder, each principal component is a unit vector that points in the direction of highest variance (after accounting for the variance captured by earlier principal components). The further a weight is from zero, the more the principal component is in the direction of the corresponding feature. If two features have large weights of the same sign (both positive or both negative), then increases in one tend expect to be associated with increases in the other. To contrast, features with different signs can be expected to show a negative correlation: increases in one variable should result in a decrease in the other.\n",
    "\n",
    "- To investigate the features, you should map each weight to their corresponding feature name, then sort the features according to weight. The most interesting features for each principal component, then, will be those at the beginning and end of the sorted list. Use the data dictionary document to help you understand these most prominent features, their relationships, and what a positive or negative value on the principal component might indicate.\n",
    "- You should investigate and interpret feature associations from the first three principal components in this substep. To help facilitate this, you should write a function that you can call at any time to print the sorted list of feature weights, for the *i*-th principal component. This might come in handy in the next step of the project, when you interpret the tendencies of the discovered clusters."
   ]
  },
  {
   "cell_type": "code",
   "execution_count": 59,
   "metadata": {},
   "outputs": [],
   "source": [
    "def pca_weights(pca, i):\n",
    "    df = pd.DataFrame(pca.components_, columns=list(azdias_clean_scaled.columns))\n",
    "    weights = df.iloc[i].sort_values(ascending=False)\n",
    "    return weights"
   ]
  },
  {
   "cell_type": "code",
   "execution_count": 60,
   "metadata": {},
   "outputs": [
    {
     "name": "stdout",
     "output_type": "stream",
     "text": [
      "PLZ8_ANTG3                        0.220483\n",
      "PLZ8_ANTG4                        0.213952\n",
      "CAMEO_INTL_2015_WEALTH            0.201595\n",
      "HH_EINKOMMEN_SCORE                0.199843\n",
      "ORTSGR_KLS9                       0.190627\n",
      "EWDICHTE                          0.188028\n",
      "FINANZ_SPARER                     0.155393\n",
      "FINANZ_HAUSBAUER                  0.153194\n",
      "KBA05_ANTG4                       0.150323\n",
      "PLZ8_ANTG2                        0.148697\n",
      "ARBEIT                            0.139416\n",
      "KBA05_ANTG3                       0.135315\n",
      "ANZ_HAUSHALTE_AKTIV               0.134361\n",
      "RELAT_AB                          0.129729\n",
      "SEMIO_PFLICHT                     0.123057\n",
      "SEMIO_REL                         0.120800\n",
      "PRAEGENDE_JUGENDJAHRE_DECADE      0.116354\n",
      "PRAEGENDE_JUGENDJAHRE_MOVEMENT    0.111470\n",
      "SEMIO_TRADV                       0.106760\n",
      "SEMIO_RAT                         0.102745\n",
      "SEMIO_MAT                         0.090581\n",
      "SEMIO_FAM                         0.086599\n",
      "FINANZ_UNAUFFAELLIGER             0.085806\n",
      "SEMIO_KULT                        0.082907\n",
      "FINANZ_ANLEGER                    0.074341\n",
      "REGIOTYP                          0.061330\n",
      "OST_WEST_KZ                       0.056314\n",
      "SEMIO_SOZ                         0.049457\n",
      "PLZ8_HHZ                          0.040558\n",
      "KKK                               0.040439\n",
      "                                    ...   \n",
      "W_KEIT_KIND_HH                    0.028679\n",
      "SEMIO_DOM                         0.017193\n",
      "KBA05_ANTG2                       0.010934\n",
      "ANREDE_KZ                        -0.001104\n",
      "SOHO_KZ                          -0.001927\n",
      "SEMIO_KRIT                       -0.001979\n",
      "ANZ_TITEL                        -0.005230\n",
      "SEMIO_VERT                       -0.028601\n",
      "RETOURTYP_BK_S                   -0.030287\n",
      "ONLINE_AFFINITAET                -0.032959\n",
      "MIN_GEBAEUDEJAHR                 -0.050935\n",
      "WOHNDAUER_2008                   -0.067633\n",
      "KBA13_ANZAHL_PKW                 -0.076036\n",
      "ANZ_PERSONEN                     -0.080142\n",
      "SEMIO_LUST                       -0.094874\n",
      "SEMIO_ERL                        -0.095745\n",
      "GREEN_AVANTGARDE                 -0.111470\n",
      "GEBAEUDETYP_RASTER               -0.113435\n",
      "BALLRAUM                         -0.122176\n",
      "CAMEO_INTL_2015_LIFE_STAGE       -0.123534\n",
      "FINANZ_VORSORGER                 -0.124985\n",
      "ALTERSKATEGORIE_GROB             -0.135788\n",
      "INNENSTADT                       -0.159051\n",
      "KONSUMNAEHE                      -0.162431\n",
      "PLZ8_GBZ                         -0.163715\n",
      "KBA05_GBZ                        -0.213838\n",
      "PLZ8_ANTG1                       -0.220900\n",
      "FINANZ_MINIMALIST                -0.221515\n",
      "KBA05_ANTG1                      -0.222535\n",
      "MOBI_REGIO                       -0.238683\n",
      "Name: 0, Length: 63, dtype: float64\n"
     ]
    }
   ],
   "source": [
    "# Map weights for the first principal component to corresponding feature names\n",
    "# and then print the linked values, sorted by weight.\n",
    "pca_weight_0 = pca_weights(pca_30, 0)\n",
    "print (pca_weight_0)"
   ]
  },
  {
   "cell_type": "code",
   "execution_count": 61,
   "metadata": {},
   "outputs": [
    {
     "name": "stdout",
     "output_type": "stream",
     "text": [
      "ALTERSKATEGORIE_GROB              0.252786\n",
      "SEMIO_ERL                         0.228975\n",
      "FINANZ_VORSORGER                  0.221478\n",
      "SEMIO_LUST                        0.177116\n",
      "RETOURTYP_BK_S                    0.162457\n",
      "FINANZ_HAUSBAUER                  0.125574\n",
      "SEMIO_KRIT                        0.121124\n",
      "W_KEIT_KIND_HH                    0.115458\n",
      "SEMIO_KAEM                        0.114345\n",
      "PLZ8_ANTG3                        0.106336\n",
      "PLZ8_ANTG4                        0.101866\n",
      "EWDICHTE                          0.101152\n",
      "ORTSGR_KLS9                       0.100181\n",
      "ANREDE_KZ                         0.091871\n",
      "CAMEO_INTL_2015_WEALTH            0.084496\n",
      "KBA05_ANTG4                       0.078486\n",
      "ARBEIT                            0.074106\n",
      "PLZ8_ANTG2                        0.072044\n",
      "RELAT_AB                          0.071009\n",
      "SEMIO_DOM                         0.069128\n",
      "ANZ_HAUSHALTE_AKTIV               0.068891\n",
      "HH_EINKOMMEN_SCORE                0.064172\n",
      "WOHNDAUER_2008                    0.054664\n",
      "KBA05_ANTG3                       0.054179\n",
      "FINANZ_MINIMALIST                 0.051405\n",
      "ANZ_HH_TITEL                      0.032156\n",
      "OST_WEST_KZ                       0.030494\n",
      "PRAEGENDE_JUGENDJAHRE_MOVEMENT    0.023657\n",
      "REGIOTYP                          0.018193\n",
      "PLZ8_HHZ                          0.015650\n",
      "                                    ...   \n",
      "KBA05_ANTG2                      -0.007231\n",
      "CAMEO_INTL_2015_LIFE_STAGE       -0.007386\n",
      "GREEN_AVANTGARDE                 -0.023657\n",
      "KBA13_ANZAHL_PKW                 -0.039302\n",
      "MIN_GEBAEUDEJAHR                 -0.043065\n",
      "GEBAEUDETYP_RASTER               -0.048705\n",
      "HEALTH_TYP                       -0.055567\n",
      "BALLRAUM                         -0.066470\n",
      "ANZ_PERSONEN                     -0.066743\n",
      "SEMIO_VERT                       -0.072862\n",
      "KONSUMNAEHE                      -0.077095\n",
      "PLZ8_GBZ                         -0.081227\n",
      "INNENSTADT                       -0.082748\n",
      "KBA05_ANTG1                      -0.094544\n",
      "KBA05_GBZ                        -0.102958\n",
      "SEMIO_SOZ                        -0.103296\n",
      "PLZ8_ANTG1                       -0.104221\n",
      "MOBI_REGIO                       -0.105205\n",
      "SEMIO_MAT                        -0.152978\n",
      "ONLINE_AFFINITAET                -0.164204\n",
      "SEMIO_RAT                        -0.165708\n",
      "SEMIO_FAM                        -0.177458\n",
      "FINANZ_ANLEGER                   -0.200164\n",
      "SEMIO_KULT                       -0.217210\n",
      "FINANZ_UNAUFFAELLIGER            -0.220598\n",
      "SEMIO_TRADV                      -0.224336\n",
      "FINANZ_SPARER                    -0.226431\n",
      "SEMIO_PFLICHT                    -0.227427\n",
      "PRAEGENDE_JUGENDJAHRE_DECADE     -0.234507\n",
      "SEMIO_REL                        -0.257753\n",
      "Name: 1, Length: 63, dtype: float64\n"
     ]
    }
   ],
   "source": [
    "# Map weights for the second principal component to corresponding feature names\n",
    "# and then print the linked values, sorted by weight.\n",
    "pca_weight_1 = pca_weights(pca_30, 1)\n",
    "print (pca_weight_1)"
   ]
  },
  {
   "cell_type": "code",
   "execution_count": 75,
   "metadata": {},
   "outputs": [
    {
     "name": "stdout",
     "output_type": "stream",
     "text": [
      "SEMIO_VERT                        0.347773\n",
      "SEMIO_SOZ                         0.262938\n",
      "SEMIO_FAM                         0.250304\n",
      "SEMIO_KULT                        0.231744\n",
      "FINANZ_MINIMALIST                 0.157831\n",
      "RETOURTYP_BK_S                    0.117079\n",
      "FINANZ_VORSORGER                  0.100833\n",
      "W_KEIT_KIND_HH                    0.091052\n",
      "ALTERSKATEGORIE_GROB              0.085101\n",
      "SEMIO_REL                         0.078515\n",
      "SEMIO_LUST                        0.075654\n",
      "SEMIO_MAT                         0.052463\n",
      "GREEN_AVANTGARDE                  0.049558\n",
      "EWDICHTE                          0.047084\n",
      "ORTSGR_KLS9                       0.047050\n",
      "PLZ8_ANTG4                        0.045310\n",
      "PLZ8_ANTG3                        0.044767\n",
      "WOHNDAUER_2008                    0.035710\n",
      "ARBEIT                            0.032021\n",
      "RELAT_AB                          0.030806\n",
      "PLZ8_ANTG2                        0.030204\n",
      "KBA05_ANTG4                       0.028241\n",
      "ANZ_HAUSHALTE_AKTIV               0.026109\n",
      "CAMEO_INTL_2015_WEALTH            0.025213\n",
      "ANZ_HH_TITEL                      0.014301\n",
      "OST_WEST_KZ                       0.011876\n",
      "ANZ_TITEL                         0.010493\n",
      "KBA05_ANTG3                       0.007203\n",
      "PLZ8_HHZ                          0.006005\n",
      "SOHO_KZ                           0.000272\n",
      "                                    ...   \n",
      "KBA05_ANTG2                      -0.010808\n",
      "MIN_GEBAEUDEJAHR                 -0.014163\n",
      "HEALTH_TYP                       -0.015022\n",
      "KKK                              -0.017543\n",
      "KBA13_ANZAHL_PKW                 -0.021342\n",
      "HH_EINKOMMEN_SCORE               -0.023027\n",
      "KBA05_ANTG1                      -0.023133\n",
      "KBA05_GBZ                        -0.027258\n",
      "MOBI_REGIO                       -0.030069\n",
      "GEBAEUDETYP_RASTER               -0.030601\n",
      "BALLRAUM                         -0.035703\n",
      "PLZ8_GBZ                         -0.036867\n",
      "KONSUMNAEHE                      -0.038607\n",
      "INNENSTADT                       -0.043282\n",
      "PLZ8_ANTG1                       -0.045195\n",
      "FINANZ_HAUSBAUER                 -0.045211\n",
      "PRAEGENDE_JUGENDJAHRE_MOVEMENT   -0.049558\n",
      "ONLINE_AFFINITAET                -0.057251\n",
      "SEMIO_PFLICHT                    -0.078017\n",
      "SEMIO_TRADV                      -0.089090\n",
      "FINANZ_UNAUFFAELLIGER            -0.095108\n",
      "FINANZ_SPARER                    -0.104105\n",
      "PRAEGENDE_JUGENDJAHRE_DECADE     -0.108863\n",
      "SEMIO_ERL                        -0.168939\n",
      "FINANZ_ANLEGER                   -0.190054\n",
      "SEMIO_RAT                        -0.217156\n",
      "SEMIO_KRIT                       -0.268546\n",
      "SEMIO_DOM                        -0.312591\n",
      "SEMIO_KAEM                       -0.336434\n",
      "ANREDE_KZ                        -0.367824\n",
      "Name: 2, Length: 63, dtype: float64\n"
     ]
    }
   ],
   "source": [
    "# Map weights for the third principal component to corresponding feature names\n",
    "# and then print the linked values, sorted by weight.\n",
    "pca_weight_2 = pca_weights(pca_30, 2)\n",
    "print (pca_weight_2)"
   ]
  },
  {
   "cell_type": "markdown",
   "metadata": {},
   "source": [
    "### Discussion 2.3: Interpret Principal Components\n",
    "By weighting the first principal compent we can read some correlations amongst the features. PLZ8_ANTG3(0.218150) and PLZ8_ANTG4(0.212194) have a positive correlation. These features correspond to the number of 6-10 family houses and 10+ family houses. The positive correlation shows that these features tend to increase similaryly.\n",
    "\n",
    "PLZ8_ANTG3(0.218150) and HH_EINKOMMEN_SCORE(0.204670), the 2nd of which relates to household net income, shows that when the share of 6-10 family homes increases it tends to result in lower household net incomes.\n",
    "\n",
    "PLZ8_ANTG3(0.218150) and MOBI_REGIO(0.238674), the 2nd of which relates to movement patterns, have a negative correlation. This suggest that when the share of 6-10 family homes increases it tends to have higher movements."
   ]
  },
  {
   "cell_type": "markdown",
   "metadata": {},
   "source": [
    "## Step 3: Clustering\n",
    "\n",
    "### Step 3.1: Apply Clustering to General Population\n",
    "\n",
    "You've assessed and cleaned the demographics data, then scaled and transformed them. Now, it's time to see how the data clusters in the principal components space. In this substep, you will apply k-means clustering to the dataset and use the average within-cluster distances from each point to their assigned cluster's centroid to decide on a number of clusters to keep.\n",
    "\n",
    "- Use sklearn's [KMeans](http://scikit-learn.org/stable/modules/generated/sklearn.cluster.KMeans.html#sklearn.cluster.KMeans) class to perform k-means clustering on the PCA-transformed data.\n",
    "- Then, compute the average difference from each point to its assigned cluster's center. **Hint**: The KMeans object's `.score()` method might be useful here, but note that in sklearn, scores tend to be defined so that larger is better. Try applying it to a small, toy dataset, or use an internet search to help your understanding.\n",
    "- Perform the above two steps for a number of different cluster counts. You can then see how the average distance decreases with an increasing number of clusters. However, each additional cluster provides a smaller net benefit. Use this fact to select a final number of clusters in which to group the data. **Warning**: because of the large size of the dataset, it can take a long time for the algorithm to resolve. The more clusters to fit, the longer the algorithm will take. You should test for cluster counts through at least 10 clusters to get the full picture, but you shouldn't need to test for a number of clusters above about 30.\n",
    "- Once you've selected a final number of clusters to use, re-fit a KMeans instance to perform the clustering operation. Make sure that you also obtain the cluster assignments for the general demographics data, since you'll be using them in the final Step 3.3."
   ]
  },
  {
   "cell_type": "code",
   "execution_count": 63,
   "metadata": {},
   "outputs": [],
   "source": [
    "def kmeans_score(data, n_cluster):\n",
    "    kmeans = KMeans(n_clusters = n_cluster)\n",
    "    model = kmeans.fit(data)\n",
    "    score = np.abs(model.score(data))\n",
    "    return score"
   ]
  },
  {
   "cell_type": "code",
   "execution_count": 64,
   "metadata": {},
   "outputs": [],
   "source": [
    "# Over a number of different cluster counts...\n",
    "# run k-means clustering on the data and...\n",
    "# compute the average within-cluster distances.\n",
    "scores = []\n",
    "ks = list(range(1,20))\n",
    "for i in ks:\n",
    "    scores.append(kmeans_score(azdias_pca, i))    \n",
    "    "
   ]
  },
  {
   "cell_type": "code",
   "execution_count": 65,
   "metadata": {},
   "outputs": [
    {
     "data": {
      "text/plain": [
       "Text(0,0.5,'SSE')"
      ]
     },
     "execution_count": 65,
     "metadata": {},
     "output_type": "execute_result"
    },
    {
     "data": {
      "image/png": "[encoded data removed]",
      "text/plain": [
       "<matplotlib.figure.Figure at 0x7f1c418e50b8>"
      ]
     },
     "metadata": {
      "needs_background": "light"
     },
     "output_type": "display_data"
    }
   ],
   "source": [
    "# Investigate the change in within-cluster distance across number of clusters.\n",
    "plt.plot(ks, scores, linestyle='-', marker='o');\n",
    "plt.xlabel('K')\n",
    "plt.ylabel('SSE')"
   ]
  },
  {
   "cell_type": "code",
   "execution_count": 76,
   "metadata": {},
   "outputs": [],
   "source": [
    "# Re-fit the k-means model with the selected number of clusters and obtain\n",
    "# cluster predictions for the general population demographics data.\n",
    "kmeans = KMeans(n_clusters = 11)\n",
    "model_14 = kmeans.fit(azdias_pca)\n",
    "azdias_pred = model_14.predict(azdias_pca)\n"
   ]
  },
  {
   "cell_type": "markdown",
   "metadata": {},
   "source": [
    "### Discussion 3.1: Apply Clustering to General Population\n",
    "\n",
    "Based on the above plot I can see a clear elbow at around 14, therefore I chose 14 clusters to sement the data."
   ]
  },
  {
   "cell_type": "markdown",
   "metadata": {},
   "source": [
    "### Step 3.2: Apply All Steps to the Customer Data\n",
    "\n",
    "Now that you have clusters and cluster centers for the general population, it's time to see how the customer data maps on to those clusters. Take care to not confuse this for re-fitting all of the models to the customer data. Instead, you're going to use the fits from the general population to clean, transform, and cluster the customer data. In the last step of the project, you will interpret how the general population fits apply to the customer data.\n",
    "\n",
    "- Don't forget when loading in the customers data, that it is semicolon (`;`) delimited.\n",
    "- Apply the same feature wrangling, selection, and engineering steps to the customer demographics using the `clean_data()` function you created earlier. (You can assume that the customer demographics data has similar meaning behind missing data patterns as the general demographics data.)\n",
    "- Use the sklearn objects from the general demographics data, and apply their transformations to the customers data. That is, you should not be using a `.fit()` or `.fit_transform()` method to re-fit the old objects, nor should you be creating new sklearn objects! Carry the data through the feature scaling, PCA, and clustering steps, obtaining cluster assignments for all of the data in the customer demographics data."
   ]
  },
  {
   "cell_type": "code",
   "execution_count": 77,
   "metadata": {},
   "outputs": [],
   "source": [
    "# Load in the customer demographics data.\n",
    "customers = pd.read_csv('Udacity_CUSTOMERS_Subset.csv', sep=';')"
   ]
  },
  {
   "cell_type": "code",
   "execution_count": 78,
   "metadata": {},
   "outputs": [],
   "source": [
    "# Apply preprocessing, feature transformation, and clustering from the general\n",
    "# demographics onto the customer data, obtaining cluster predictions for the\n",
    "# customer demographics data.\n",
    "customers_clean = clean_data(customers)"
   ]
  },
  {
   "cell_type": "code",
   "execution_count": 79,
   "metadata": {},
   "outputs": [],
   "source": [
    "# Use scaler to transform data\n",
    "customers_clean_scaled = scaler.fit_transform(customers_clean)\n",
    "customers_clean_scaled = pd.DataFrame(customers_clean_scaled, columns=list(customers_clean))"
   ]
  },
  {
   "cell_type": "code",
   "execution_count": 80,
   "metadata": {},
   "outputs": [],
   "source": [
    "# PCA transformation\n",
    "customers_pca = pca_30.transform(customers_clean)"
   ]
  },
  {
   "cell_type": "code",
   "execution_count": 81,
   "metadata": {},
   "outputs": [],
   "source": [
    "# Predict using Kmeans model_14\n",
    "customers_pred = model_14.predict(customers_pca)"
   ]
  },
  {
   "cell_type": "markdown",
   "metadata": {},
   "source": [
    "### Step 3.3: Compare Customer Data to Demographics Data\n",
    "\n",
    "At this point, you have clustered data based on demographics of the general population of Germany, and seen how the customer data for a mail-order sales company maps onto those demographic clusters. In this final substep, you will compare the two cluster distributions to see where the strongest customer base for the company is.\n",
    "\n",
    "Consider the proportion of persons in each cluster for the general population, and the proportions for the customers. If we think the company's customer base to be universal, then the cluster assignment proportions should be fairly similar between the two. If there are only particular segments of the population that are interested in the company's products, then we should see a mismatch from one to the other. If there is a higher proportion of persons in a cluster for the customer data compared to the general population (e.g. 5% of persons are assigned to a cluster for the general population, but 15% of the customer data is closest to that cluster's centroid) then that suggests the people in that cluster to be a target audience for the company. On the other hand, the proportion of the data in a cluster being larger in the general population than the customer data (e.g. only 2% of customers closest to a population centroid that captures 6% of the data) suggests that group of persons to be outside of the target demographics.\n",
    "\n",
    "Take a look at the following points in this step:\n",
    "\n",
    "- Compute the proportion of data points in each cluster for the general population and the customer data. Visualizations will be useful here: both for the individual dataset proportions, but also to visualize the ratios in cluster representation between groups. Seaborn's [`countplot()`](https://seaborn.pydata.org/generated/seaborn.countplot.html) or [`barplot()`](https://seaborn.pydata.org/generated/seaborn.barplot.html) function could be handy.\n",
    "  - Recall the analysis you performed in step 1.1.3 of the project, where you separated out certain data points from the dataset if they had more than a specified threshold of missing values. If you found that this group was qualitatively different from the main bulk of the data, you should treat this as an additional data cluster in this analysis. Make sure that you account for the number of data points in this subset, for both the general population and customer datasets, when making your computations!\n",
    "- Which cluster or clusters are overrepresented in the customer dataset compared to the general population? Select at least one such cluster and infer what kind of people might be represented by that cluster. Use the principal component interpretations from step 2.3 or look at additional components to help you make this inference. Alternatively, you can use the `.inverse_transform()` method of the PCA and StandardScaler objects to transform centroids back to the original data space and interpret the retrieved values directly.\n",
    "- Perform a similar investigation for the underrepresented clusters. Which cluster or clusters are underrepresented in the customer dataset compared to the general population, and what kinds of people are typified by these clusters?"
   ]
  },
  {
   "cell_type": "code",
   "execution_count": 82,
   "metadata": {},
   "outputs": [
    {
     "data": {
      "image/png": "[encoded data removed]",
      "text/plain": [
       "<matplotlib.figure.Figure at 0x7f1c50f175f8>"
      ]
     },
     "metadata": {
      "needs_background": "light"
     },
     "output_type": "display_data"
    }
   ],
   "source": [
    "# Compare the proportion of data in each cluster for the customer data to the\n",
    "# proportion of data in each cluster for the general population.\n",
    "figure, axs = plt.subplots(nrows=1, ncols=2, figsize = (10,5));\n",
    "figure.subplots_adjust(hspace = 1, wspace=.3);\n",
    "\n",
    "sns.countplot(customers_pred, ax=axs[0]);\n",
    "axs[0].set_title('Customer Clusters');\n",
    "sns.countplot(azdias_pred, ax=axs[1]);\n",
    "axs[1].set_title('General Clusters');"
   ]
  },
  {
   "cell_type": "code",
   "execution_count": 73,
   "metadata": {},
   "outputs": [],
   "source": [
    "# What kinds of people are part of a cluster that is overrepresented in the\n",
    "# customer data compared to the general population?\n",
    "\n"
   ]
  },
  {
   "cell_type": "code",
   "execution_count": 74,
   "metadata": {},
   "outputs": [],
   "source": [
    "# What kinds of people are part of a cluster that is underrepresented in the\n",
    "# customer data compared to the general population?\n",
    "\n"
   ]
  },
  {
   "cell_type": "markdown",
   "metadata": {},
   "source": [
    "### Discussion 3.3: Compare Customer Data to Demographics Data\n",
    "\n",
    "(Double-click this cell and replace this text with your own text, reporting findings and conclusions from the clustering analysis. Can we describe segments of the population that are relatively popular with the mail-order company, or relatively unpopular with the company?)"
   ]
  },
  {
   "cell_type": "markdown",
   "metadata": {},
   "source": [
    "> Congratulations on making it this far in the project! Before you finish, make sure to check through the entire notebook from top to bottom to make sure that your analysis follows a logical flow and all of your findings are documented in **Discussion** cells. Once you've checked over all of your work, you should export the notebook as an HTML document to submit for evaluation. You can do this from the menu, navigating to **File -> Download as -> HTML (.html)**. You will submit both that document and this notebook for your project submission."
   ]
  },
  {
   "cell_type": "raw",
   "metadata": {},
   "source": []
  },
  {
   "cell_type": "raw",
   "metadata": {},
   "source": []
  }
 ],
 "metadata": {
  "kernelspec": {
   "display_name": "Python 3",
   "language": "python",
   "name": "python3"
  },
  "language_info": {
   "codemirror_mode": {
    "name": "ipython",
    "version": 3
   },
   "file_extension": ".py",
   "mimetype": "text/x-python",
   "name": "python",
   "nbconvert_exporter": "python",
   "pygments_lexer": "ipython3",
   "version": "3.6.3"
  }
 },
 "nbformat": 4,
 "nbformat_minor": 2
}
