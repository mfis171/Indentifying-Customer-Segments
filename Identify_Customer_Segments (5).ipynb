{
 "cells": [
  {
   "cell_type": "markdown",
   "metadata": {},
   "source": [
    "# Project: Identify Customer Segments\n",
    "\n",
    "In this project, you will apply unsupervised learning techniques to identify segments of the population that form the core customer base for a mail-order sales company in Germany. These segments can then be used to direct marketing campaigns towards audiences that will have the highest expected rate of returns. The data that you will use has been provided by our partners at Bertelsmann Arvato Analytics, and represents a real-life data science task.\n",
    "\n",
    "This notebook will help you complete this task by providing a framework within which you will perform your analysis steps. In each step of the project, you will see some text describing the subtask that you will perform, followed by one or more code cells for you to complete your work. **Feel free to add additional code and markdown cells as you go along so that you can explore everything in precise chunks.** The code cells provided in the base template will outline only the major tasks, and will usually not be enough to cover all of the minor tasks that comprise it.\n",
    "\n",
    "It should be noted that while there will be precise guidelines on how you should handle certain tasks in the project, there will also be places where an exact specification is not provided. **There will be times in the project where you will need to make and justify your own decisions on how to treat the data.** These are places where there may not be only one way to handle the data. In real-life tasks, there may be many valid ways to approach an analysis task. One of the most important things you can do is clearly document your approach so that other scientists can understand the decisions you've made.\n",
    "\n",
    "At the end of most sections, there will be a Markdown cell labeled **Discussion**. In these cells, you will report your findings for the completed section, as well as document the decisions that you made in your approach to each subtask. **Your project will be evaluated not just on the code used to complete the tasks outlined, but also your communication about your observations and conclusions at each stage.**"
   ]
  },
  {
   "cell_type": "code",
   "execution_count": 1,
   "metadata": {},
   "outputs": [
    {
     "data": {
      "text/plain": [
       "'\\nImport note: The classroom currently uses sklearn version 0.19.\\nIf you need to use an imputer, it is available in sklearn.preprocessing.Imputer,\\ninstead of sklearn.impute as in newer versions of sklearn.\\n'"
      ]
     },
     "execution_count": 1,
     "metadata": {},
     "output_type": "execute_result"
    }
   ],
   "source": [
    "# import libraries here; add more as necessary\n",
    "import numpy as np\n",
    "import pandas as pd\n",
    "import matplotlib.pyplot as plt\n",
    "import seaborn as sns\n",
    "from sklearn.preprocessing import Imputer, StandardScaler\n",
    "from sklearn.decomposition import PCA\n",
    "from sklearn.cluster import KMeans\n",
    "np.random.seed(42) \n",
    "\n",
    "# magic word for producing visualizations in notebook\n",
    "%matplotlib inline\n",
    "\n",
    "'''\n",
    "Import note: The classroom currently uses sklearn version 0.19.\n",
    "If you need to use an imputer, it is available in sklearn.preprocessing.Imputer,\n",
    "instead of sklearn.impute as in newer versions of sklearn.\n",
    "'''"
   ]
  },
  {
   "cell_type": "markdown",
   "metadata": {},
   "source": [
    "### Step 0: Load the Data\n",
    "\n",
    "There are four files associated with this project (not including this one):\n",
    "\n",
    "- `Udacity_AZDIAS_Subset.csv`: Demographics data for the general population of Germany; 891211 persons (rows) x 85 features (columns).\n",
    "- `Udacity_CUSTOMERS_Subset.csv`: Demographics data for customers of a mail-order company; 191652 persons (rows) x 85 features (columns).\n",
    "- `Data_Dictionary.md`: Detailed information file about the features in the provided datasets.\n",
    "- `AZDIAS_Feature_Summary.csv`: Summary of feature attributes for demographics data; 85 features (rows) x 4 columns\n",
    "\n",
    "Each row of the demographics files represents a single person, but also includes information outside of individuals, including information about their household, building, and neighborhood. You will use this information to cluster the general population into groups with similar demographic properties. Then, you will see how the people in the customers dataset fit into those created clusters. The hope here is that certain clusters are over-represented in the customers data, as compared to the general population; those over-represented clusters will be assumed to be part of the core userbase. This information can then be used for further applications, such as targeting for a marketing campaign.\n",
    "\n",
    "To start off with, load in the demographics data for the general population into a pandas DataFrame, and do the same for the feature attributes summary. Note for all of the `.csv` data files in this project: they're semicolon (`;`) delimited, so you'll need an additional argument in your [`read_csv()`](https://pandas.pydata.org/pandas-docs/stable/generated/pandas.read_csv.html) call to read in the data properly. Also, considering the size of the main dataset, it may take some time for it to load completely.\n",
    "\n",
    "Once the dataset is loaded, it's recommended that you take a little bit of time just browsing the general structure of the dataset and feature summary file. You'll be getting deep into the innards of the cleaning in the first major step of the project, so gaining some general familiarity can help you get your bearings."
   ]
  },
  {
   "cell_type": "code",
   "execution_count": 2,
   "metadata": {},
   "outputs": [],
   "source": [
    "azdias = pd.read_csv('Udacity_AZDIAS_Subset.csv', sep=';')"
   ]
  },
  {
   "cell_type": "code",
   "execution_count": 3,
   "metadata": {},
   "outputs": [],
   "source": [
    "feat_info = pd.read_csv('AZDIAS_Feature_Summary.csv', sep=';')"
   ]
  },
  {
   "cell_type": "code",
   "execution_count": 4,
   "metadata": {},
   "outputs": [
    {
     "name": "stdout",
     "output_type": "stream",
     "text": [
      "<class 'pandas.core.frame.DataFrame'>\n",
      "RangeIndex: 891221 entries, 0 to 891220\n",
      "Data columns (total 85 columns):\n",
      "AGER_TYP                 891221 non-null int64\n",
      "ALTERSKATEGORIE_GROB     891221 non-null int64\n",
      "ANREDE_KZ                891221 non-null int64\n",
      "CJT_GESAMTTYP            886367 non-null float64\n",
      "FINANZ_MINIMALIST        891221 non-null int64\n",
      "FINANZ_SPARER            891221 non-null int64\n",
      "FINANZ_VORSORGER         891221 non-null int64\n",
      "FINANZ_ANLEGER           891221 non-null int64\n",
      "FINANZ_UNAUFFAELLIGER    891221 non-null int64\n",
      "FINANZ_HAUSBAUER         891221 non-null int64\n",
      "FINANZTYP                891221 non-null int64\n",
      "GEBURTSJAHR              891221 non-null int64\n",
      "GFK_URLAUBERTYP          886367 non-null float64\n",
      "GREEN_AVANTGARDE         891221 non-null int64\n",
      "HEALTH_TYP               891221 non-null int64\n",
      "LP_LEBENSPHASE_FEIN      886367 non-null float64\n",
      "LP_LEBENSPHASE_GROB      886367 non-null float64\n",
      "LP_FAMILIE_FEIN          886367 non-null float64\n",
      "LP_FAMILIE_GROB          886367 non-null float64\n",
      "LP_STATUS_FEIN           886367 non-null float64\n",
      "LP_STATUS_GROB           886367 non-null float64\n",
      "NATIONALITAET_KZ         891221 non-null int64\n",
      "PRAEGENDE_JUGENDJAHRE    891221 non-null int64\n",
      "RETOURTYP_BK_S           886367 non-null float64\n",
      "SEMIO_SOZ                891221 non-null int64\n",
      "SEMIO_FAM                891221 non-null int64\n",
      "SEMIO_REL                891221 non-null int64\n",
      "SEMIO_MAT                891221 non-null int64\n",
      "SEMIO_VERT               891221 non-null int64\n",
      "SEMIO_LUST               891221 non-null int64\n",
      "SEMIO_ERL                891221 non-null int64\n",
      "SEMIO_KULT               891221 non-null int64\n",
      "SEMIO_RAT                891221 non-null int64\n",
      "SEMIO_KRIT               891221 non-null int64\n",
      "SEMIO_DOM                891221 non-null int64\n",
      "SEMIO_KAEM               891221 non-null int64\n",
      "SEMIO_PFLICHT            891221 non-null int64\n",
      "SEMIO_TRADV              891221 non-null int64\n",
      "SHOPPER_TYP              891221 non-null int64\n",
      "SOHO_KZ                  817722 non-null float64\n",
      "TITEL_KZ                 817722 non-null float64\n",
      "VERS_TYP                 891221 non-null int64\n",
      "ZABEOTYP                 891221 non-null int64\n",
      "ALTER_HH                 817722 non-null float64\n",
      "ANZ_PERSONEN             817722 non-null float64\n",
      "ANZ_TITEL                817722 non-null float64\n",
      "HH_EINKOMMEN_SCORE       872873 non-null float64\n",
      "KK_KUNDENTYP             306609 non-null float64\n",
      "W_KEIT_KIND_HH           783619 non-null float64\n",
      "WOHNDAUER_2008           817722 non-null float64\n",
      "ANZ_HAUSHALTE_AKTIV      798073 non-null float64\n",
      "ANZ_HH_TITEL             794213 non-null float64\n",
      "GEBAEUDETYP              798073 non-null float64\n",
      "KONSUMNAEHE              817252 non-null float64\n",
      "MIN_GEBAEUDEJAHR         798073 non-null float64\n",
      "OST_WEST_KZ              798073 non-null object\n",
      "WOHNLAGE                 798073 non-null float64\n",
      "CAMEO_DEUG_2015          792242 non-null object\n",
      "CAMEO_DEU_2015           792242 non-null object\n",
      "CAMEO_INTL_2015          792242 non-null object\n",
      "KBA05_ANTG1              757897 non-null float64\n",
      "KBA05_ANTG2              757897 non-null float64\n",
      "KBA05_ANTG3              757897 non-null float64\n",
      "KBA05_ANTG4              757897 non-null float64\n",
      "KBA05_BAUMAX             757897 non-null float64\n",
      "KBA05_GBZ                757897 non-null float64\n",
      "BALLRAUM                 797481 non-null float64\n",
      "EWDICHTE                 797481 non-null float64\n",
      "INNENSTADT               797481 non-null float64\n",
      "GEBAEUDETYP_RASTER       798066 non-null float64\n",
      "KKK                      770025 non-null float64\n",
      "MOBI_REGIO               757897 non-null float64\n",
      "ONLINE_AFFINITAET        886367 non-null float64\n",
      "REGIOTYP                 770025 non-null float64\n",
      "KBA13_ANZAHL_PKW         785421 non-null float64\n",
      "PLZ8_ANTG1               774706 non-null float64\n",
      "PLZ8_ANTG2               774706 non-null float64\n",
      "PLZ8_ANTG3               774706 non-null float64\n",
      "PLZ8_ANTG4               774706 non-null float64\n",
      "PLZ8_BAUMAX              774706 non-null float64\n",
      "PLZ8_HHZ                 774706 non-null float64\n",
      "PLZ8_GBZ                 774706 non-null float64\n",
      "ARBEIT                   794005 non-null float64\n",
      "ORTSGR_KLS9              794005 non-null float64\n",
      "RELAT_AB                 794005 non-null float64\n",
      "dtypes: float64(49), int64(32), object(4)\n",
      "memory usage: 578.0+ MB\n"
     ]
    }
   ],
   "source": [
    "azdias.info()"
   ]
  },
  {
   "cell_type": "code",
   "execution_count": 5,
   "metadata": {},
   "outputs": [
    {
     "data": {
      "text/html": [
       "<div>\n",
       "<style scoped>\n",
       "    .dataframe tbody tr th:only-of-type {\n",
       "        vertical-align: middle;\n",
       "    }\n",
       "\n",
       "    .dataframe tbody tr th {\n",
       "        vertical-align: top;\n",
       "    }\n",
       "\n",
       "    .dataframe thead th {\n",
       "        text-align: right;\n",
       "    }\n",
       "</style>\n",
       "<table border=\"1\" class=\"dataframe\">\n",
       "  <thead>\n",
       "    <tr style=\"text-align: right;\">\n",
       "      <th></th>\n",
       "      <th>AGER_TYP</th>\n",
       "      <th>ALTERSKATEGORIE_GROB</th>\n",
       "      <th>ANREDE_KZ</th>\n",
       "      <th>CJT_GESAMTTYP</th>\n",
       "      <th>FINANZ_MINIMALIST</th>\n",
       "      <th>FINANZ_SPARER</th>\n",
       "      <th>FINANZ_VORSORGER</th>\n",
       "      <th>FINANZ_ANLEGER</th>\n",
       "      <th>FINANZ_UNAUFFAELLIGER</th>\n",
       "      <th>FINANZ_HAUSBAUER</th>\n",
       "      <th>...</th>\n",
       "      <th>PLZ8_ANTG1</th>\n",
       "      <th>PLZ8_ANTG2</th>\n",
       "      <th>PLZ8_ANTG3</th>\n",
       "      <th>PLZ8_ANTG4</th>\n",
       "      <th>PLZ8_BAUMAX</th>\n",
       "      <th>PLZ8_HHZ</th>\n",
       "      <th>PLZ8_GBZ</th>\n",
       "      <th>ARBEIT</th>\n",
       "      <th>ORTSGR_KLS9</th>\n",
       "      <th>RELAT_AB</th>\n",
       "    </tr>\n",
       "  </thead>\n",
       "  <tbody>\n",
       "    <tr>\n",
       "      <th>0</th>\n",
       "      <td>-1</td>\n",
       "      <td>2</td>\n",
       "      <td>1</td>\n",
       "      <td>2.0</td>\n",
       "      <td>3</td>\n",
       "      <td>4</td>\n",
       "      <td>3</td>\n",
       "      <td>5</td>\n",
       "      <td>5</td>\n",
       "      <td>3</td>\n",
       "      <td>...</td>\n",
       "      <td>NaN</td>\n",
       "      <td>NaN</td>\n",
       "      <td>NaN</td>\n",
       "      <td>NaN</td>\n",
       "      <td>NaN</td>\n",
       "      <td>NaN</td>\n",
       "      <td>NaN</td>\n",
       "      <td>NaN</td>\n",
       "      <td>NaN</td>\n",
       "      <td>NaN</td>\n",
       "    </tr>\n",
       "    <tr>\n",
       "      <th>1</th>\n",
       "      <td>-1</td>\n",
       "      <td>1</td>\n",
       "      <td>2</td>\n",
       "      <td>5.0</td>\n",
       "      <td>1</td>\n",
       "      <td>5</td>\n",
       "      <td>2</td>\n",
       "      <td>5</td>\n",
       "      <td>4</td>\n",
       "      <td>5</td>\n",
       "      <td>...</td>\n",
       "      <td>2.0</td>\n",
       "      <td>3.0</td>\n",
       "      <td>2.0</td>\n",
       "      <td>1.0</td>\n",
       "      <td>1.0</td>\n",
       "      <td>5.0</td>\n",
       "      <td>4.0</td>\n",
       "      <td>3.0</td>\n",
       "      <td>5.0</td>\n",
       "      <td>4.0</td>\n",
       "    </tr>\n",
       "    <tr>\n",
       "      <th>2</th>\n",
       "      <td>-1</td>\n",
       "      <td>3</td>\n",
       "      <td>2</td>\n",
       "      <td>3.0</td>\n",
       "      <td>1</td>\n",
       "      <td>4</td>\n",
       "      <td>1</td>\n",
       "      <td>2</td>\n",
       "      <td>3</td>\n",
       "      <td>5</td>\n",
       "      <td>...</td>\n",
       "      <td>3.0</td>\n",
       "      <td>3.0</td>\n",
       "      <td>1.0</td>\n",
       "      <td>0.0</td>\n",
       "      <td>1.0</td>\n",
       "      <td>4.0</td>\n",
       "      <td>4.0</td>\n",
       "      <td>3.0</td>\n",
       "      <td>5.0</td>\n",
       "      <td>2.0</td>\n",
       "    </tr>\n",
       "    <tr>\n",
       "      <th>3</th>\n",
       "      <td>2</td>\n",
       "      <td>4</td>\n",
       "      <td>2</td>\n",
       "      <td>2.0</td>\n",
       "      <td>4</td>\n",
       "      <td>2</td>\n",
       "      <td>5</td>\n",
       "      <td>2</td>\n",
       "      <td>1</td>\n",
       "      <td>2</td>\n",
       "      <td>...</td>\n",
       "      <td>2.0</td>\n",
       "      <td>2.0</td>\n",
       "      <td>2.0</td>\n",
       "      <td>0.0</td>\n",
       "      <td>1.0</td>\n",
       "      <td>3.0</td>\n",
       "      <td>4.0</td>\n",
       "      <td>2.0</td>\n",
       "      <td>3.0</td>\n",
       "      <td>3.0</td>\n",
       "    </tr>\n",
       "    <tr>\n",
       "      <th>4</th>\n",
       "      <td>-1</td>\n",
       "      <td>3</td>\n",
       "      <td>1</td>\n",
       "      <td>5.0</td>\n",
       "      <td>4</td>\n",
       "      <td>3</td>\n",
       "      <td>4</td>\n",
       "      <td>1</td>\n",
       "      <td>3</td>\n",
       "      <td>2</td>\n",
       "      <td>...</td>\n",
       "      <td>2.0</td>\n",
       "      <td>4.0</td>\n",
       "      <td>2.0</td>\n",
       "      <td>1.0</td>\n",
       "      <td>2.0</td>\n",
       "      <td>3.0</td>\n",
       "      <td>3.0</td>\n",
       "      <td>4.0</td>\n",
       "      <td>6.0</td>\n",
       "      <td>5.0</td>\n",
       "    </tr>\n",
       "  </tbody>\n",
       "</table>\n",
       "<p>5 rows × 85 columns</p>\n",
       "</div>"
      ],
      "text/plain": [
       "   AGER_TYP  ALTERSKATEGORIE_GROB  ANREDE_KZ  CJT_GESAMTTYP  \\\n",
       "0        -1                     2          1            2.0   \n",
       "1        -1                     1          2            5.0   \n",
       "2        -1                     3          2            3.0   \n",
       "3         2                     4          2            2.0   \n",
       "4        -1                     3          1            5.0   \n",
       "\n",
       "   FINANZ_MINIMALIST  FINANZ_SPARER  FINANZ_VORSORGER  FINANZ_ANLEGER  \\\n",
       "0                  3              4                 3               5   \n",
       "1                  1              5                 2               5   \n",
       "2                  1              4                 1               2   \n",
       "3                  4              2                 5               2   \n",
       "4                  4              3                 4               1   \n",
       "\n",
       "   FINANZ_UNAUFFAELLIGER  FINANZ_HAUSBAUER    ...     PLZ8_ANTG1  PLZ8_ANTG2  \\\n",
       "0                      5                 3    ...            NaN         NaN   \n",
       "1                      4                 5    ...            2.0         3.0   \n",
       "2                      3                 5    ...            3.0         3.0   \n",
       "3                      1                 2    ...            2.0         2.0   \n",
       "4                      3                 2    ...            2.0         4.0   \n",
       "\n",
       "   PLZ8_ANTG3  PLZ8_ANTG4  PLZ8_BAUMAX  PLZ8_HHZ  PLZ8_GBZ  ARBEIT  \\\n",
       "0         NaN         NaN          NaN       NaN       NaN     NaN   \n",
       "1         2.0         1.0          1.0       5.0       4.0     3.0   \n",
       "2         1.0         0.0          1.0       4.0       4.0     3.0   \n",
       "3         2.0         0.0          1.0       3.0       4.0     2.0   \n",
       "4         2.0         1.0          2.0       3.0       3.0     4.0   \n",
       "\n",
       "   ORTSGR_KLS9  RELAT_AB  \n",
       "0          NaN       NaN  \n",
       "1          5.0       4.0  \n",
       "2          5.0       2.0  \n",
       "3          3.0       3.0  \n",
       "4          6.0       5.0  \n",
       "\n",
       "[5 rows x 85 columns]"
      ]
     },
     "execution_count": 5,
     "metadata": {},
     "output_type": "execute_result"
    }
   ],
   "source": [
    "azdias.head()"
   ]
  },
  {
   "cell_type": "code",
   "execution_count": 6,
   "metadata": {},
   "outputs": [
    {
     "name": "stdout",
     "output_type": "stream",
     "text": [
      "<class 'pandas.core.frame.DataFrame'>\n",
      "RangeIndex: 85 entries, 0 to 84\n",
      "Data columns (total 4 columns):\n",
      "attribute             85 non-null object\n",
      "information_level     85 non-null object\n",
      "type                  85 non-null object\n",
      "missing_or_unknown    85 non-null object\n",
      "dtypes: object(4)\n",
      "memory usage: 2.7+ KB\n"
     ]
    }
   ],
   "source": [
    "feat_info.info()"
   ]
  },
  {
   "cell_type": "code",
   "execution_count": 7,
   "metadata": {},
   "outputs": [
    {
     "data": {
      "text/html": [
       "<div>\n",
       "<style scoped>\n",
       "    .dataframe tbody tr th:only-of-type {\n",
       "        vertical-align: middle;\n",
       "    }\n",
       "\n",
       "    .dataframe tbody tr th {\n",
       "        vertical-align: top;\n",
       "    }\n",
       "\n",
       "    .dataframe thead th {\n",
       "        text-align: right;\n",
       "    }\n",
       "</style>\n",
       "<table border=\"1\" class=\"dataframe\">\n",
       "  <thead>\n",
       "    <tr style=\"text-align: right;\">\n",
       "      <th></th>\n",
       "      <th>attribute</th>\n",
       "      <th>information_level</th>\n",
       "      <th>type</th>\n",
       "      <th>missing_or_unknown</th>\n",
       "    </tr>\n",
       "  </thead>\n",
       "  <tbody>\n",
       "    <tr>\n",
       "      <th>0</th>\n",
       "      <td>AGER_TYP</td>\n",
       "      <td>person</td>\n",
       "      <td>categorical</td>\n",
       "      <td>[-1,0]</td>\n",
       "    </tr>\n",
       "    <tr>\n",
       "      <th>1</th>\n",
       "      <td>ALTERSKATEGORIE_GROB</td>\n",
       "      <td>person</td>\n",
       "      <td>ordinal</td>\n",
       "      <td>[-1,0,9]</td>\n",
       "    </tr>\n",
       "    <tr>\n",
       "      <th>2</th>\n",
       "      <td>ANREDE_KZ</td>\n",
       "      <td>person</td>\n",
       "      <td>categorical</td>\n",
       "      <td>[-1,0]</td>\n",
       "    </tr>\n",
       "    <tr>\n",
       "      <th>3</th>\n",
       "      <td>CJT_GESAMTTYP</td>\n",
       "      <td>person</td>\n",
       "      <td>categorical</td>\n",
       "      <td>[0]</td>\n",
       "    </tr>\n",
       "    <tr>\n",
       "      <th>4</th>\n",
       "      <td>FINANZ_MINIMALIST</td>\n",
       "      <td>person</td>\n",
       "      <td>ordinal</td>\n",
       "      <td>[-1]</td>\n",
       "    </tr>\n",
       "  </tbody>\n",
       "</table>\n",
       "</div>"
      ],
      "text/plain": [
       "              attribute information_level         type missing_or_unknown\n",
       "0              AGER_TYP            person  categorical             [-1,0]\n",
       "1  ALTERSKATEGORIE_GROB            person      ordinal           [-1,0,9]\n",
       "2             ANREDE_KZ            person  categorical             [-1,0]\n",
       "3         CJT_GESAMTTYP            person  categorical                [0]\n",
       "4     FINANZ_MINIMALIST            person      ordinal               [-1]"
      ]
     },
     "execution_count": 7,
     "metadata": {},
     "output_type": "execute_result"
    }
   ],
   "source": [
    "feat_info.head()"
   ]
  },
  {
   "cell_type": "code",
   "execution_count": null,
   "metadata": {},
   "outputs": [],
   "source": []
  },
  {
   "cell_type": "markdown",
   "metadata": {},
   "source": [
    "## Step 1: Preprocessing\n",
    "\n",
    "### Step 1.1: Assess Missing Data\n",
    "\n",
    "The feature summary file contains a summary of properties for each demographics data column. You will use this file to help you make cleaning decisions during this stage of the project. First of all, you should assess the demographics data in terms of missing data. Pay attention to the following points as you perform your analysis, and take notes on what you observe. Make sure that you fill in the **Discussion** cell with your findings and decisions at the end of each step that has one!\n",
    "\n",
    "#### Step 1.1.1: Convert Missing Value Codes to NaNs\n",
    "The fourth column of the feature attributes summary (loaded in above as `feat_info`) documents the codes from the data dictionary that indicate missing or unknown data. While the file encodes this as a list (e.g. `[-1,0]`), this will get read in as a string object. You'll need to do a little bit of parsing to make use of it to identify and clean the data. Convert data that matches a 'missing' or 'unknown' value code into a numpy NaN value. You might want to see how much data takes on a 'missing' or 'unknown' code, and how much data is naturally missing, as a point of interest.\n",
    "\n",
    "**As one more reminder, you are encouraged to add additional cells to break up your analysis into manageable chunks.**"
   ]
  },
  {
   "cell_type": "code",
   "execution_count": 8,
   "metadata": {},
   "outputs": [
    {
     "name": "stdout",
     "output_type": "stream",
     "text": [
      "The sum total of naturally missing values is 4896838\n"
     ]
    }
   ],
   "source": [
    "print('The sum total of naturally missing values is {}'.format(azdias.isnull().sum().sum()))"
   ]
  },
  {
   "cell_type": "code",
   "execution_count": 9,
   "metadata": {},
   "outputs": [
    {
     "name": "stdout",
     "output_type": "stream",
     "text": [
      "The sum total of naturally missing values is 4896838\n"
     ]
    }
   ],
   "source": [
    "print('The sum total of naturally missing values is {}'.format(azdias.isnull().sum().sum()))"
   ]
  },
  {
   "cell_type": "code",
   "execution_count": 10,
   "metadata": {},
   "outputs": [],
   "source": [
    "#Code block provided by Zephyr C in Mentor Help, https://knowledge.udacity.com/questions/386302\n",
    "for indx in range(len(feat_info)):\n",
    "    missing_or_unknown = feat_info.iloc[indx]['missing_or_unknown']\n",
    "    missing_or_unknown = missing_or_unknown.strip('[')\n",
    "    missing_or_unknown = missing_or_unknown.strip(']')\n",
    "    missing_or_unknown = missing_or_unknown.split(sep=',')\n",
    "    missing_or_unknown = [int(value) if (value!='X' and value!='XX' and value!='') else value for value in missing_or_unknown]\n",
    "    if missing_or_unknown != ['']:\n",
    "        azdias = azdias.replace({feat_info.iloc[indx]['attribute']: missing_or_unknown}, np.nan)"
   ]
  },
  {
   "cell_type": "code",
   "execution_count": 11,
   "metadata": {},
   "outputs": [
    {
     "name": "stdout",
     "output_type": "stream",
     "text": [
      "The sum total of missing or unknown values in the dataset is 3477091\n"
     ]
    }
   ],
   "source": [
    "print('The sum total of missing or unknown values in the dataset is {}'.format(azdias.isnull().sum().sum()-4896838))"
   ]
  },
  {
   "cell_type": "code",
   "execution_count": 12,
   "metadata": {},
   "outputs": [
    {
     "name": "stdout",
     "output_type": "stream",
     "text": [
      "The sum total of all missing/unknown or naturally missing values is 8373929\n"
     ]
    }
   ],
   "source": [
    "print('The sum total of all missing/unknown or naturally missing values is {}'.format(azdias.isnull().sum().sum()))"
   ]
  },
  {
   "cell_type": "markdown",
   "metadata": {},
   "source": [
    "#### Step 1.1.2: Assess Missing Data in Each Column\n",
    "\n",
    "How much missing data is present in each column? There are a few columns that are outliers in terms of the proportion of values that are missing. You will want to use matplotlib's [`hist()`](https://matplotlib.org/api/_as_gen/matplotlib.pyplot.hist.html) function to visualize the distribution of missing value counts to find these columns. Identify and document these columns. While some of these columns might have justifications for keeping or re-encoding the data, for this project you should just remove them from the dataframe. (Feel free to make remarks about these outlier columns in the discussion, however!)\n",
    "\n",
    "For the remaining features, are there any patterns in which columns have, or share, missing data?"
   ]
  },
  {
   "cell_type": "code",
   "execution_count": 13,
   "metadata": {},
   "outputs": [
    {
     "data": {
      "text/plain": [
       "TITEL_KZ                 99.757636\n",
       "AGER_TYP                 76.955435\n",
       "KK_KUNDENTYP             65.596749\n",
       "KBA05_BAUMAX             53.468668\n",
       "GEBURTSJAHR              44.020282\n",
       "ALTER_HH                 34.813699\n",
       "REGIOTYP                 17.735668\n",
       "KKK                      17.735668\n",
       "W_KEIT_KIND_HH           16.605084\n",
       "KBA05_ANTG4              14.959701\n",
       "KBA05_GBZ                14.959701\n",
       "MOBI_REGIO               14.959701\n",
       "KBA05_ANTG1              14.959701\n",
       "KBA05_ANTG2              14.959701\n",
       "KBA05_ANTG3              14.959701\n",
       "PLZ8_GBZ                 13.073637\n",
       "PLZ8_HHZ                 13.073637\n",
       "PLZ8_BAUMAX              13.073637\n",
       "PLZ8_ANTG4               13.073637\n",
       "PLZ8_ANTG1               13.073637\n",
       "PLZ8_ANTG3               13.073637\n",
       "PLZ8_ANTG2               13.073637\n",
       "SHOPPER_TYP              12.476816\n",
       "VERS_TYP                 12.476816\n",
       "HEALTH_TYP               12.476816\n",
       "NATIONALITAET_KZ         12.153551\n",
       "PRAEGENDE_JUGENDJAHRE    12.136608\n",
       "KBA13_ANZAHL_PKW         11.871354\n",
       "ANZ_HAUSHALTE_AKTIV      11.176913\n",
       "CAMEO_INTL_2015          11.147852\n",
       "                           ...    \n",
       "RETOURTYP_BK_S            0.544646\n",
       "ONLINE_AFFINITAET         0.544646\n",
       "LP_STATUS_FEIN            0.544646\n",
       "LP_STATUS_GROB            0.544646\n",
       "GFK_URLAUBERTYP           0.544646\n",
       "ALTERSKATEGORIE_GROB      0.323264\n",
       "FINANZTYP                 0.000000\n",
       "GREEN_AVANTGARDE          0.000000\n",
       "FINANZ_HAUSBAUER          0.000000\n",
       "FINANZ_UNAUFFAELLIGER     0.000000\n",
       "FINANZ_ANLEGER            0.000000\n",
       "FINANZ_SPARER             0.000000\n",
       "FINANZ_MINIMALIST         0.000000\n",
       "ANREDE_KZ                 0.000000\n",
       "FINANZ_VORSORGER          0.000000\n",
       "SEMIO_FAM                 0.000000\n",
       "SEMIO_SOZ                 0.000000\n",
       "SEMIO_REL                 0.000000\n",
       "SEMIO_MAT                 0.000000\n",
       "SEMIO_VERT                0.000000\n",
       "SEMIO_LUST                0.000000\n",
       "SEMIO_ERL                 0.000000\n",
       "SEMIO_KULT                0.000000\n",
       "SEMIO_RAT                 0.000000\n",
       "SEMIO_KRIT                0.000000\n",
       "SEMIO_DOM                 0.000000\n",
       "SEMIO_KAEM                0.000000\n",
       "SEMIO_PFLICHT             0.000000\n",
       "SEMIO_TRADV               0.000000\n",
       "ZABEOTYP                  0.000000\n",
       "Length: 85, dtype: float64"
      ]
     },
     "execution_count": 13,
     "metadata": {},
     "output_type": "execute_result"
    }
   ],
   "source": [
    "missing_data_per_column = pd.isnull(azdias).sum() / len(azdias) * 100\n",
    "missing_data_per_column.sort_values(ascending=False)"
   ]
  },
  {
   "cell_type": "code",
   "execution_count": 14,
   "metadata": {},
   "outputs": [
    {
     "data": {
      "image/png": "[encoded data removed]",
      "text/plain": [
       "<matplotlib.figure.Figure at 0x7f6df12fcac8>"
      ]
     },
     "metadata": {
      "needs_background": "light"
     },
     "output_type": "display_data"
    }
   ],
   "source": [
    "plt.hist(missing_data_per_column, bins= 50);\n",
    "plt.title('Azdias Missing Data per Column');\n",
    "plt.xlabel('Percentage of Data Missing per Column');\n",
    "plt.ylabel('Count of Rows');"
   ]
  },
  {
   "cell_type": "code",
   "execution_count": 15,
   "metadata": {},
   "outputs": [],
   "source": [
    "missing_data = missing_data_per_column[missing_data_per_column >= 20]"
   ]
  },
  {
   "cell_type": "code",
   "execution_count": 16,
   "metadata": {},
   "outputs": [],
   "source": [
    "columns_to_drop = missing_data.index.tolist()"
   ]
  },
  {
   "cell_type": "code",
   "execution_count": 17,
   "metadata": {},
   "outputs": [
    {
     "name": "stdout",
     "output_type": "stream",
     "text": [
      "These are the columns missing 20% or more data that we will be dropping:['AGER_TYP', 'GEBURTSJAHR', 'TITEL_KZ', 'ALTER_HH', 'KK_KUNDENTYP', 'KBA05_BAUMAX']\n"
     ]
    }
   ],
   "source": [
    "print('These are the columns missing 20% or more data that we will be dropping:{}'.format(columns_to_drop))"
   ]
  },
  {
   "cell_type": "code",
   "execution_count": 18,
   "metadata": {},
   "outputs": [],
   "source": [
    "azdias.drop(columns=columns_to_drop, inplace = True)"
   ]
  },
  {
   "cell_type": "code",
   "execution_count": 19,
   "metadata": {},
   "outputs": [
    {
     "name": "stdout",
     "output_type": "stream",
     "text": [
      "<class 'pandas.core.frame.DataFrame'>\n",
      "RangeIndex: 891221 entries, 0 to 891220\n",
      "Data columns (total 79 columns):\n",
      "ALTERSKATEGORIE_GROB     888340 non-null float64\n",
      "ANREDE_KZ                891221 non-null int64\n",
      "CJT_GESAMTTYP            886367 non-null float64\n",
      "FINANZ_MINIMALIST        891221 non-null int64\n",
      "FINANZ_SPARER            891221 non-null int64\n",
      "FINANZ_VORSORGER         891221 non-null int64\n",
      "FINANZ_ANLEGER           891221 non-null int64\n",
      "FINANZ_UNAUFFAELLIGER    891221 non-null int64\n",
      "FINANZ_HAUSBAUER         891221 non-null int64\n",
      "FINANZTYP                891221 non-null int64\n",
      "GFK_URLAUBERTYP          886367 non-null float64\n",
      "GREEN_AVANTGARDE         891221 non-null int64\n",
      "HEALTH_TYP               780025 non-null float64\n",
      "LP_LEBENSPHASE_FEIN      793589 non-null float64\n",
      "LP_LEBENSPHASE_GROB      796649 non-null float64\n",
      "LP_FAMILIE_FEIN          813429 non-null float64\n",
      "LP_FAMILIE_GROB          813429 non-null float64\n",
      "LP_STATUS_FEIN           886367 non-null float64\n",
      "LP_STATUS_GROB           886367 non-null float64\n",
      "NATIONALITAET_KZ         782906 non-null float64\n",
      "PRAEGENDE_JUGENDJAHRE    783057 non-null float64\n",
      "RETOURTYP_BK_S           886367 non-null float64\n",
      "SEMIO_SOZ                891221 non-null int64\n",
      "SEMIO_FAM                891221 non-null int64\n",
      "SEMIO_REL                891221 non-null int64\n",
      "SEMIO_MAT                891221 non-null int64\n",
      "SEMIO_VERT               891221 non-null int64\n",
      "SEMIO_LUST               891221 non-null int64\n",
      "SEMIO_ERL                891221 non-null int64\n",
      "SEMIO_KULT               891221 non-null int64\n",
      "SEMIO_RAT                891221 non-null int64\n",
      "SEMIO_KRIT               891221 non-null int64\n",
      "SEMIO_DOM                891221 non-null int64\n",
      "SEMIO_KAEM               891221 non-null int64\n",
      "SEMIO_PFLICHT            891221 non-null int64\n",
      "SEMIO_TRADV              891221 non-null int64\n",
      "SHOPPER_TYP              780025 non-null float64\n",
      "SOHO_KZ                  817722 non-null float64\n",
      "VERS_TYP                 780025 non-null float64\n",
      "ZABEOTYP                 891221 non-null int64\n",
      "ANZ_PERSONEN             817722 non-null float64\n",
      "ANZ_TITEL                817722 non-null float64\n",
      "HH_EINKOMMEN_SCORE       872873 non-null float64\n",
      "W_KEIT_KIND_HH           743233 non-null float64\n",
      "WOHNDAUER_2008           817722 non-null float64\n",
      "ANZ_HAUSHALTE_AKTIV      791610 non-null float64\n",
      "ANZ_HH_TITEL             794213 non-null float64\n",
      "GEBAEUDETYP              798073 non-null float64\n",
      "KONSUMNAEHE              817252 non-null float64\n",
      "MIN_GEBAEUDEJAHR         798073 non-null float64\n",
      "OST_WEST_KZ              798073 non-null object\n",
      "WOHNLAGE                 798073 non-null float64\n",
      "CAMEO_DEUG_2015          791869 non-null object\n",
      "CAMEO_DEU_2015           791869 non-null object\n",
      "CAMEO_INTL_2015          791869 non-null object\n",
      "KBA05_ANTG1              757897 non-null float64\n",
      "KBA05_ANTG2              757897 non-null float64\n",
      "KBA05_ANTG3              757897 non-null float64\n",
      "KBA05_ANTG4              757897 non-null float64\n",
      "KBA05_GBZ                757897 non-null float64\n",
      "BALLRAUM                 797481 non-null float64\n",
      "EWDICHTE                 797481 non-null float64\n",
      "INNENSTADT               797481 non-null float64\n",
      "GEBAEUDETYP_RASTER       798066 non-null float64\n",
      "KKK                      733157 non-null float64\n",
      "MOBI_REGIO               757897 non-null float64\n",
      "ONLINE_AFFINITAET        886367 non-null float64\n",
      "REGIOTYP                 733157 non-null float64\n",
      "KBA13_ANZAHL_PKW         785421 non-null float64\n",
      "PLZ8_ANTG1               774706 non-null float64\n",
      "PLZ8_ANTG2               774706 non-null float64\n",
      "PLZ8_ANTG3               774706 non-null float64\n",
      "PLZ8_ANTG4               774706 non-null float64\n",
      "PLZ8_BAUMAX              774706 non-null float64\n",
      "PLZ8_HHZ                 774706 non-null float64\n",
      "PLZ8_GBZ                 774706 non-null float64\n",
      "ARBEIT                   793846 non-null float64\n",
      "ORTSGR_KLS9              793947 non-null float64\n",
      "RELAT_AB                 793846 non-null float64\n",
      "dtypes: float64(51), int64(24), object(4)\n",
      "memory usage: 537.2+ MB\n"
     ]
    }
   ],
   "source": [
    "azdias.info()"
   ]
  },
  {
   "cell_type": "markdown",
   "metadata": {},
   "source": [
    "#### Discussion 1.1.2: Assess Missing Data in Each Column\n",
    "\n",
    "After assessing how much data was missing from each column, I found 6 columns missing in excess of 34% of their data. The next closest was missing almost 18% of data, this leads me to chooseing 20% missing data as a good cutoff point. Therefor I dropped the 6 columns that were missing more then 20% of their data. "
   ]
  },
  {
   "cell_type": "markdown",
   "metadata": {},
   "source": [
    "#### Step 1.1.3: Assess Missing Data in Each Row\n",
    "\n",
    "Now, you'll perform a similar assessment for the rows of the dataset. How much data is missing in each row? As with the columns, you should see some groups of points that have a very different numbers of missing values. Divide the data into two subsets: one for data points that are above some threshold for missing values, and a second subset for points below that threshold.\n",
    "\n",
    "In order to know what to do with the outlier rows, we should see if the distribution of data values on columns that are not missing data (or are missing very little data) are similar or different between the two groups. Select at least five of these columns and compare the distribution of values.\n",
    "- You can use seaborn's [`countplot()`](https://seaborn.pydata.org/generated/seaborn.countplot.html) function to create a bar chart of code frequencies and matplotlib's [`subplot()`](https://matplotlib.org/api/_as_gen/matplotlib.pyplot.subplot.html) function to put bar charts for the two subplots side by side.\n",
    "- To reduce repeated code, you might want to write a function that can perform this comparison, taking as one of its arguments a column to be compared.\n",
    "\n",
    "Depending on what you observe in your comparison, this will have implications on how you approach your conclusions later in the analysis. If the distributions of non-missing features look similar between the data with many missing values and the data with few or no missing values, then we could argue that simply dropping those points from the analysis won't present a major issue. On the other hand, if the data with many missing values looks very different from the data with few or no missing values, then we should make a note on those data as special. We'll revisit these data later on. **Either way, you should continue your analysis for now using just the subset of the data with few or no missing values.**"
   ]
  },
  {
   "cell_type": "code",
   "execution_count": 20,
   "metadata": {},
   "outputs": [
    {
     "data": {
      "image/png": "[encoded data removed]",
      "text/plain": [
       "<matplotlib.figure.Figure at 0x7f6dd9189898>"
      ]
     },
     "metadata": {
      "needs_background": "light"
     },
     "output_type": "display_data"
    }
   ],
   "source": [
    "countplt, ax = plt.subplots(figsize = (15,7))\n",
    "ax =sns.countplot(azdias.isnull().sum(axis = 1))\n",
    "ax.set_title('Missing Features per Row',fontsize = 18, fontweight='bold' )\n",
    "ax.set_xlabel('Number of Missing Features', fontsize = 15);\n",
    "ax.set_ylabel('Row Count', fontsize = 15);"
   ]
  },
  {
   "cell_type": "code",
   "execution_count": 21,
   "metadata": {},
   "outputs": [],
   "source": [
    "low_missing = azdias[azdias.isnull().sum(axis = 1) <=8]\n",
    "high_missing = azdias[azdias.isnull().sum(axis = 1) >8]"
   ]
  },
  {
   "cell_type": "code",
   "execution_count": 22,
   "metadata": {},
   "outputs": [
    {
     "name": "stdout",
     "output_type": "stream",
     "text": [
      "<class 'pandas.core.frame.DataFrame'>\n",
      "Int64Index: 771701 entries, 1 to 891220\n",
      "Data columns (total 79 columns):\n",
      "ALTERSKATEGORIE_GROB     769218 non-null float64\n",
      "ANREDE_KZ                771701 non-null int64\n",
      "CJT_GESAMTTYP            771701 non-null float64\n",
      "FINANZ_MINIMALIST        771701 non-null int64\n",
      "FINANZ_SPARER            771701 non-null int64\n",
      "FINANZ_VORSORGER         771701 non-null int64\n",
      "FINANZ_ANLEGER           771701 non-null int64\n",
      "FINANZ_UNAUFFAELLIGER    771701 non-null int64\n",
      "FINANZ_HAUSBAUER         771701 non-null int64\n",
      "FINANZTYP                771701 non-null int64\n",
      "GFK_URLAUBERTYP          771701 non-null float64\n",
      "GREEN_AVANTGARDE         771701 non-null int64\n",
      "HEALTH_TYP               739213 non-null float64\n",
      "LP_LEBENSPHASE_FEIN      730996 non-null float64\n",
      "LP_LEBENSPHASE_GROB      733594 non-null float64\n",
      "LP_FAMILIE_FEIN          748003 non-null float64\n",
      "LP_FAMILIE_GROB          748003 non-null float64\n",
      "LP_STATUS_FEIN           771701 non-null float64\n",
      "LP_STATUS_GROB           771701 non-null float64\n",
      "NATIONALITAET_KZ         741696 non-null float64\n",
      "PRAEGENDE_JUGENDJAHRE    747372 non-null float64\n",
      "RETOURTYP_BK_S           771701 non-null float64\n",
      "SEMIO_SOZ                771701 non-null int64\n",
      "SEMIO_FAM                771701 non-null int64\n",
      "SEMIO_REL                771701 non-null int64\n",
      "SEMIO_MAT                771701 non-null int64\n",
      "SEMIO_VERT               771701 non-null int64\n",
      "SEMIO_LUST               771701 non-null int64\n",
      "SEMIO_ERL                771701 non-null int64\n",
      "SEMIO_KULT               771701 non-null int64\n",
      "SEMIO_RAT                771701 non-null int64\n",
      "SEMIO_KRIT               771701 non-null int64\n",
      "SEMIO_DOM                771701 non-null int64\n",
      "SEMIO_KAEM               771701 non-null int64\n",
      "SEMIO_PFLICHT            771701 non-null int64\n",
      "SEMIO_TRADV              771701 non-null int64\n",
      "SHOPPER_TYP              739213 non-null float64\n",
      "SOHO_KZ                  771701 non-null float64\n",
      "VERS_TYP                 739213 non-null float64\n",
      "ZABEOTYP                 771701 non-null int64\n",
      "ANZ_PERSONEN             771701 non-null float64\n",
      "ANZ_TITEL                771701 non-null float64\n",
      "HH_EINKOMMEN_SCORE       771701 non-null float64\n",
      "W_KEIT_KIND_HH           717965 non-null float64\n",
      "WOHNDAUER_2008           771701 non-null float64\n",
      "ANZ_HAUSHALTE_AKTIV      766297 non-null float64\n",
      "ANZ_HH_TITEL             768680 non-null float64\n",
      "GEBAEUDETYP              771701 non-null float64\n",
      "KONSUMNAEHE              771653 non-null float64\n",
      "MIN_GEBAEUDEJAHR         771701 non-null float64\n",
      "OST_WEST_KZ              771701 non-null object\n",
      "WOHNLAGE                 771701 non-null float64\n",
      "CAMEO_DEUG_2015          768362 non-null object\n",
      "CAMEO_DEU_2015           768362 non-null object\n",
      "CAMEO_INTL_2015          768362 non-null object\n",
      "KBA05_ANTG1              748893 non-null float64\n",
      "KBA05_ANTG2              748893 non-null float64\n",
      "KBA05_ANTG3              748893 non-null float64\n",
      "KBA05_ANTG4              748893 non-null float64\n",
      "KBA05_GBZ                748893 non-null float64\n",
      "BALLRAUM                 771200 non-null float64\n",
      "EWDICHTE                 771200 non-null float64\n",
      "INNENSTADT               771200 non-null float64\n",
      "GEBAEUDETYP_RASTER       771696 non-null float64\n",
      "KKK                      719358 non-null float64\n",
      "MOBI_REGIO               748893 non-null float64\n",
      "ONLINE_AFFINITAET        771701 non-null float64\n",
      "REGIOTYP                 719358 non-null float64\n",
      "KBA13_ANZAHL_PKW         766668 non-null float64\n",
      "PLZ8_ANTG1               764477 non-null float64\n",
      "PLZ8_ANTG2               764477 non-null float64\n",
      "PLZ8_ANTG3               764477 non-null float64\n",
      "PLZ8_ANTG4               764477 non-null float64\n",
      "PLZ8_BAUMAX              764477 non-null float64\n",
      "PLZ8_HHZ                 764477 non-null float64\n",
      "PLZ8_GBZ                 764477 non-null float64\n",
      "ARBEIT                   767846 non-null float64\n",
      "ORTSGR_KLS9              767929 non-null float64\n",
      "RELAT_AB                 767846 non-null float64\n",
      "dtypes: float64(51), int64(24), object(4)\n",
      "memory usage: 471.0+ MB\n"
     ]
    }
   ],
   "source": [
    "low_missing.info()"
   ]
  },
  {
   "cell_type": "code",
   "execution_count": 23,
   "metadata": {},
   "outputs": [],
   "source": [
    "#Code provided by Jamal H from mentor help, https://knowledge.udacity.com/questions/311016\n",
    "def compare_distribution(column_name):\n",
    "    fig = plt.figure(figsize=(13,5))\n",
    "    axis1 = fig.add_subplot(121)\n",
    "    axis1.title.set_text('Low Missing Data')\n",
    "    sns.countplot(azdias.loc[low_missing.index, column_name])\n",
    "    axis2 = fig.add_subplot(122)\n",
    "    axis2.title.set_text('High Missing Data')\n",
    "    sns.countplot(azdias.loc[high_missing.index, column_name])"
   ]
  },
  {
   "cell_type": "code",
   "execution_count": 24,
   "metadata": {},
   "outputs": [],
   "source": [
    "columns_to_compare = azdias.sample(n=5,axis=1, random_state =42)"
   ]
  },
  {
   "cell_type": "code",
   "execution_count": 25,
   "metadata": {},
   "outputs": [],
   "source": [
    "column_names = []\n",
    "for col in columns_to_compare.columns:\n",
    "    column_names.append(col)"
   ]
  },
  {
   "cell_type": "code",
   "execution_count": 26,
   "metadata": {},
   "outputs": [
    {
     "data": {
      "image/png": "[encoded data removed]",
      "text/plain": [
       "<matplotlib.figure.Figure at 0x7f6dd916f668>"
      ]
     },
     "metadata": {
      "needs_background": "light"
     },
     "output_type": "display_data"
    },
    {
     "data": {
      "image/png": "[encoded data removed]",
      "text/plain": [
       "<matplotlib.figure.Figure at 0x7f6dcf47fdd8>"
      ]
     },
     "metadata": {
      "needs_background": "light"
     },
     "output_type": "display_data"
    },
    {
     "data": {
      "image/png": "[encoded data removed]",
      "text/plain": [
       "<matplotlib.figure.Figure at 0x7f6dcf40ed30>"
      ]
     },
     "metadata": {
      "needs_background": "light"
     },
     "output_type": "display_data"
    },
    {
     "data": {
      "image/png": "[encoded data removed]",
      "text/plain": [
       "<matplotlib.figure.Figure at 0x7f6dcf3ae898>"
      ]
     },
     "metadata": {
      "needs_background": "light"
     },
     "output_type": "display_data"
    },
    {
     "data": {
      "image/png": "[encoded data removed]",
      "text/plain": [
       "<matplotlib.figure.Figure at 0x7f6dcf2d10b8>"
      ]
     },
     "metadata": {
      "needs_background": "light"
     },
     "output_type": "display_data"
    }
   ],
   "source": [
    "for column_name in column_names:\n",
    "    compare_distribution(column_name)"
   ]
  },
  {
   "cell_type": "markdown",
   "metadata": {},
   "source": [
    "#### Discussion 1.1.3: Assess Missing Data in Each Row\n",
    "\n",
    "Comparing 5 random columns from the subset with 8 or less missing features to the subset with more than 8 missing features we can see that for SEMIO_RAT, SEMIO_SOZ, SEMIO_KRIT, and LP_STATUS_GROB the distribution of data is very different between the 2 data sets. On the other hand for ALTERSKATEGORIE_GROB column, the distribution of data is very similar between the 2 different subsets of data."
   ]
  },
  {
   "cell_type": "markdown",
   "metadata": {},
   "source": [
    "### Step 1.2: Select and Re-Encode Features\n",
    "\n",
    "Checking for missing data isn't the only way in which you can prepare a dataset for analysis. Since the unsupervised learning techniques to be used will only work on data that is encoded numerically, you need to make a few encoding changes or additional assumptions to be able to make progress. In addition, while almost all of the values in the dataset are encoded using numbers, not all of them represent numeric values. Check the third column of the feature summary (`feat_info`) for a summary of types of measurement.\n",
    "- For numeric and interval data, these features can be kept without changes.\n",
    "- Most of the variables in the dataset are ordinal in nature. While ordinal values may technically be non-linear in spacing, make the simplifying assumption that the ordinal variables can be treated as being interval in nature (that is, kept without any changes).\n",
    "- Special handling may be necessary for the remaining two variable types: categorical, and 'mixed'.\n",
    "\n",
    "In the first two parts of this sub-step, you will perform an investigation of the categorical and mixed-type features and make a decision on each of them, whether you will keep, drop, or re-encode each. Then, in the last part, you will create a new data frame with only the selected and engineered columns.\n",
    "\n",
    "Data wrangling is often the trickiest part of the data analysis process, and there's a lot of it to be done here. But stick with it: once you're done with this step, you'll be ready to get to the machine learning parts of the project!"
   ]
  },
  {
   "cell_type": "markdown",
   "metadata": {},
   "source": [
    "#### Step 1.2.1: Re-Encode Categorical Features\n",
    "\n",
    "For categorical data, you would ordinarily need to encode the levels as dummy variables. Depending on the number of categories, perform one of the following:\n",
    "- For binary (two-level) categoricals that take numeric values, you can keep them without needing to do anything.\n",
    "- There is one binary variable that takes on non-numeric values. For this one, you need to re-encode the values as numbers or create a dummy variable.\n",
    "- For multi-level categoricals (three or more values), you can choose to encode the values using multiple dummy variables (e.g. via [OneHotEncoder](http://scikit-learn.org/stable/modules/generated/sklearn.preprocessing.OneHotEncoder.html)), or (to keep things straightforward) just drop them from the analysis. As always, document your choices in the Discussion section."
   ]
  },
  {
   "cell_type": "code",
   "execution_count": 27,
   "metadata": {},
   "outputs": [],
   "source": [
    "#Code provided by Jamal H from mentor help, https://knowledge.udacity.com/questions/327597\n",
    "#To know and separate which feature is binary and those that are multi-level, you can loop through the cat_features\n",
    "#and check if the length of a feature in azdias is equal to 2, then it should be binary (save in a list) and if the\n",
    "#length is greater than 2, it should be saved as a multi-level feature.\n",
    "cat_features = feat_info[feat_info[\"type\"]==\"categorical\"]"
   ]
  },
  {
   "cell_type": "code",
   "execution_count": 28,
   "metadata": {},
   "outputs": [],
   "source": [
    "binary_feat = []\n",
    "multi_level_feat = []\n",
    "\n",
    "for feat in list(cat_features['attribute']):\n",
    "    try:\n",
    "        if len(low_missing[feat].value_counts()) > 2:\n",
    "            multi_level_feat.append(feat)\n",
    "        else:\n",
    "            binary_feat.append(feat)\n",
    "    except:\n",
    "        pass"
   ]
  },
  {
   "cell_type": "code",
   "execution_count": 29,
   "metadata": {},
   "outputs": [
    {
     "data": {
      "text/plain": [
       "['ANREDE_KZ', 'GREEN_AVANTGARDE', 'SOHO_KZ', 'VERS_TYP', 'OST_WEST_KZ']"
      ]
     },
     "execution_count": 29,
     "metadata": {},
     "output_type": "execute_result"
    }
   ],
   "source": [
    "binary_feat"
   ]
  },
  {
   "cell_type": "markdown",
   "metadata": {},
   "source": [
    "I checked these 5 columns against the data dictionary. OST_WEST_KZ is the non-numerical binary feature and will need re-encoded\n",
    "\n",
    "### 3.6. OST_WEST_KZ\n",
    "Building location via former East / West Germany (GDR / FRG)\n",
    "- -1: unknown\n",
    "-  O: East (GDR)\n",
    "-  W: West (FRG)"
   ]
  },
  {
   "cell_type": "code",
   "execution_count": 30,
   "metadata": {},
   "outputs": [],
   "source": [
    "#Code provided by Jamal H from mentor help, https://knowledge.udacity.com/questions/307174\n",
    "new_values = {'W': 0, 'O': 1}\n",
    "low_missing = low_missing.replace({'OST_WEST_KZ':new_values})"
   ]
  },
  {
   "cell_type": "code",
   "execution_count": 31,
   "metadata": {},
   "outputs": [
    {
     "data": {
      "text/plain": [
       "1         0\n",
       "2         0\n",
       "3         0\n",
       "4         0\n",
       "5         0\n",
       "6         0\n",
       "7         0\n",
       "8         0\n",
       "9         0\n",
       "10        0\n",
       "12        0\n",
       "13        0\n",
       "15        0\n",
       "16        0\n",
       "18        0\n",
       "19        0\n",
       "21        0\n",
       "22        0\n",
       "23        0\n",
       "25        0\n",
       "27        0\n",
       "28        0\n",
       "29        0\n",
       "31        0\n",
       "32        0\n",
       "33        0\n",
       "34        0\n",
       "36        0\n",
       "37        0\n",
       "38        0\n",
       "         ..\n",
       "891190    0\n",
       "891191    0\n",
       "891192    0\n",
       "891193    0\n",
       "891194    0\n",
       "891195    0\n",
       "891196    0\n",
       "891197    0\n",
       "891198    0\n",
       "891199    0\n",
       "891200    0\n",
       "891201    0\n",
       "891202    0\n",
       "891204    0\n",
       "891205    0\n",
       "891206    0\n",
       "891207    0\n",
       "891208    0\n",
       "891209    0\n",
       "891210    0\n",
       "891211    0\n",
       "891212    0\n",
       "891213    0\n",
       "891214    0\n",
       "891215    0\n",
       "891216    0\n",
       "891217    0\n",
       "891218    0\n",
       "891219    0\n",
       "891220    0\n",
       "Name: OST_WEST_KZ, Length: 771701, dtype: int64"
      ]
     },
     "execution_count": 31,
     "metadata": {},
     "output_type": "execute_result"
    }
   ],
   "source": [
    "low_missing['OST_WEST_KZ']"
   ]
  },
  {
   "cell_type": "code",
   "execution_count": 32,
   "metadata": {},
   "outputs": [
    {
     "data": {
      "text/plain": [
       "['CJT_GESAMTTYP',\n",
       " 'FINANZTYP',\n",
       " 'GFK_URLAUBERTYP',\n",
       " 'LP_FAMILIE_FEIN',\n",
       " 'LP_FAMILIE_GROB',\n",
       " 'LP_STATUS_FEIN',\n",
       " 'LP_STATUS_GROB',\n",
       " 'NATIONALITAET_KZ',\n",
       " 'SHOPPER_TYP',\n",
       " 'ZABEOTYP',\n",
       " 'GEBAEUDETYP',\n",
       " 'CAMEO_DEUG_2015',\n",
       " 'CAMEO_DEU_2015']"
      ]
     },
     "execution_count": 32,
     "metadata": {},
     "output_type": "execute_result"
    }
   ],
   "source": [
    "multi_level_feat"
   ]
  },
  {
   "cell_type": "code",
   "execution_count": 33,
   "metadata": {},
   "outputs": [],
   "source": [
    "azdias_clean = low_missing.drop(multi_level_feat, axis=1)"
   ]
  },
  {
   "cell_type": "code",
   "execution_count": 34,
   "metadata": {},
   "outputs": [
    {
     "name": "stdout",
     "output_type": "stream",
     "text": [
      "<class 'pandas.core.frame.DataFrame'>\n",
      "Int64Index: 771701 entries, 1 to 891220\n",
      "Data columns (total 66 columns):\n",
      "ALTERSKATEGORIE_GROB     769218 non-null float64\n",
      "ANREDE_KZ                771701 non-null int64\n",
      "FINANZ_MINIMALIST        771701 non-null int64\n",
      "FINANZ_SPARER            771701 non-null int64\n",
      "FINANZ_VORSORGER         771701 non-null int64\n",
      "FINANZ_ANLEGER           771701 non-null int64\n",
      "FINANZ_UNAUFFAELLIGER    771701 non-null int64\n",
      "FINANZ_HAUSBAUER         771701 non-null int64\n",
      "GREEN_AVANTGARDE         771701 non-null int64\n",
      "HEALTH_TYP               739213 non-null float64\n",
      "LP_LEBENSPHASE_FEIN      730996 non-null float64\n",
      "LP_LEBENSPHASE_GROB      733594 non-null float64\n",
      "PRAEGENDE_JUGENDJAHRE    747372 non-null float64\n",
      "RETOURTYP_BK_S           771701 non-null float64\n",
      "SEMIO_SOZ                771701 non-null int64\n",
      "SEMIO_FAM                771701 non-null int64\n",
      "SEMIO_REL                771701 non-null int64\n",
      "SEMIO_MAT                771701 non-null int64\n",
      "SEMIO_VERT               771701 non-null int64\n",
      "SEMIO_LUST               771701 non-null int64\n",
      "SEMIO_ERL                771701 non-null int64\n",
      "SEMIO_KULT               771701 non-null int64\n",
      "SEMIO_RAT                771701 non-null int64\n",
      "SEMIO_KRIT               771701 non-null int64\n",
      "SEMIO_DOM                771701 non-null int64\n",
      "SEMIO_KAEM               771701 non-null int64\n",
      "SEMIO_PFLICHT            771701 non-null int64\n",
      "SEMIO_TRADV              771701 non-null int64\n",
      "SOHO_KZ                  771701 non-null float64\n",
      "VERS_TYP                 739213 non-null float64\n",
      "ANZ_PERSONEN             771701 non-null float64\n",
      "ANZ_TITEL                771701 non-null float64\n",
      "HH_EINKOMMEN_SCORE       771701 non-null float64\n",
      "W_KEIT_KIND_HH           717965 non-null float64\n",
      "WOHNDAUER_2008           771701 non-null float64\n",
      "ANZ_HAUSHALTE_AKTIV      766297 non-null float64\n",
      "ANZ_HH_TITEL             768680 non-null float64\n",
      "KONSUMNAEHE              771653 non-null float64\n",
      "MIN_GEBAEUDEJAHR         771701 non-null float64\n",
      "OST_WEST_KZ              771701 non-null int64\n",
      "WOHNLAGE                 771701 non-null float64\n",
      "CAMEO_INTL_2015          768362 non-null object\n",
      "KBA05_ANTG1              748893 non-null float64\n",
      "KBA05_ANTG2              748893 non-null float64\n",
      "KBA05_ANTG3              748893 non-null float64\n",
      "KBA05_ANTG4              748893 non-null float64\n",
      "KBA05_GBZ                748893 non-null float64\n",
      "BALLRAUM                 771200 non-null float64\n",
      "EWDICHTE                 771200 non-null float64\n",
      "INNENSTADT               771200 non-null float64\n",
      "GEBAEUDETYP_RASTER       771696 non-null float64\n",
      "KKK                      719358 non-null float64\n",
      "MOBI_REGIO               748893 non-null float64\n",
      "ONLINE_AFFINITAET        771701 non-null float64\n",
      "REGIOTYP                 719358 non-null float64\n",
      "KBA13_ANZAHL_PKW         766668 non-null float64\n",
      "PLZ8_ANTG1               764477 non-null float64\n",
      "PLZ8_ANTG2               764477 non-null float64\n",
      "PLZ8_ANTG3               764477 non-null float64\n",
      "PLZ8_ANTG4               764477 non-null float64\n",
      "PLZ8_BAUMAX              764477 non-null float64\n",
      "PLZ8_HHZ                 764477 non-null float64\n",
      "PLZ8_GBZ                 764477 non-null float64\n",
      "ARBEIT                   767846 non-null float64\n",
      "ORTSGR_KLS9              767929 non-null float64\n",
      "RELAT_AB                 767846 non-null float64\n",
      "dtypes: float64(42), int64(23), object(1)\n",
      "memory usage: 394.5+ MB\n"
     ]
    }
   ],
   "source": [
    "azdias_clean.info()"
   ]
  },
  {
   "cell_type": "markdown",
   "metadata": {},
   "source": [
    "#### Discussion 1.2.1: Re-Encode Categorical Features\n",
    "\n",
    "For binary (two-level) categoricals that take numeric values, I kept them as is.\n",
    "There is one binary variable that takes on non-numeric values. OST_WEST_KZ used non-numeric values. I used a map to changes these values to 0 and 1 making them numerical.\n",
    "There were 13 multi level features in this data set, to keep to simplicty I chose to drop these 13 columns from the data set."
   ]
  },
  {
   "cell_type": "markdown",
   "metadata": {},
   "source": [
    "#### Step 1.2.2: Engineer Mixed-Type Features\n",
    "\n",
    "There are a handful of features that are marked as \"mixed\" in the feature summary that require special treatment in order to be included in the analysis. There are two in particular that deserve attention; the handling of the rest are up to your own choices:\n",
    "- \"PRAEGENDE_JUGENDJAHRE\" combines information on three dimensions: generation by decade, movement (mainstream vs. avantgarde), and nation (east vs. west). While there aren't enough levels to disentangle east from west, you should create two new variables to capture the other two dimensions: an interval-type variable for decade, and a binary variable for movement.\n",
    "- \"CAMEO_INTL_2015\" combines information on two axes: wealth and life stage. Break up the two-digit codes by their 'tens'-place and 'ones'-place digits into two new ordinal variables (which, for the purposes of this project, is equivalent to just treating them as their raw numeric values).\n",
    "- If you decide to keep or engineer new features around the other mixed-type features, make sure you note your steps in the Discussion section.\n",
    "\n",
    "Be sure to check `Data_Dictionary.md` for the details needed to finish these tasks."
   ]
  },
  {
   "cell_type": "markdown",
   "metadata": {},
   "source": [
    "### 1.18. PRAEGENDE_JUGENDJAHRE\n",
    "Dominating movement of person's youth (avantgarde vs. mainstream; east vs. west)\n",
    "- -1: unknown\n",
    "-  0: unknown\n",
    "-  1: 40s - war years (Mainstream, E+W)\n",
    "-  2: 40s - reconstruction years (Avantgarde, E+W)\n",
    "-  3: 50s - economic miracle (Mainstream, E+W)\n",
    "-  4: 50s - milk bar / Individualisation (Avantgarde, E+W)\n",
    "-  5: 60s - economic miracle (Mainstream, E+W)\n",
    "-  6: 60s - generation 68 / student protestors (Avantgarde, W)\n",
    "-  7: 60s - opponents to the building of the Wall (Avantgarde, E)\n",
    "-  8: 70s - family orientation (Mainstream, E+W)\n",
    "-  9: 70s - peace movement (Avantgarde, E+W)\n",
    "- 10: 80s - Generation Golf (Mainstream, W)\n",
    "- 11: 80s - ecological awareness (Avantgarde, W)\n",
    "- 12: 80s - FDJ / communist party youth organisation (Mainstream, E)\n",
    "- 13: 80s - Swords into ploughshares (Avantgarde, E)\n",
    "- 14: 90s - digital media kids (Mainstream, E+W)\n",
    "- 15: 90s - ecological awareness (Avantgarde, E+W)"
   ]
  },
  {
   "cell_type": "code",
   "execution_count": 35,
   "metadata": {},
   "outputs": [],
   "source": [
    "#pseudo code provided by Deepansh K from mentor help, https://knowledge.udacity.com/questions/192325\n",
    "def reengineer_movement(x):\n",
    "    if x is np.nan:\n",
    "        return np.nan            \n",
    "    elif x in [1,3,5,8,10,12,14]: \n",
    "        return 1\n",
    "    else:\n",
    "        return 2"
   ]
  },
  {
   "cell_type": "code",
   "execution_count": 36,
   "metadata": {},
   "outputs": [],
   "source": [
    "def reengineer_decade(x):\n",
    "        if x is np.nan:\n",
    "            return np.nan            \n",
    "        elif x in [1, 3, 5, 8, 10, 12, 14]: \n",
    "            return 1\n",
    "        else:\n",
    "            return 2"
   ]
  },
  {
   "cell_type": "code",
   "execution_count": 37,
   "metadata": {},
   "outputs": [],
   "source": [
    "azdias_clean['PRAEGENDE_JUGENDJAHRE_MOVEMENT']= azdias_clean['PRAEGENDE_JUGENDJAHRE'].apply(reengineer_movement)"
   ]
  },
  {
   "cell_type": "code",
   "execution_count": 38,
   "metadata": {},
   "outputs": [],
   "source": [
    "azdias_clean['PRAEGENDE_JUGENDJAHRE_DECADE']= azdias_clean['PRAEGENDE_JUGENDJAHRE'].apply(reengineer_decade)"
   ]
  },
  {
   "cell_type": "markdown",
   "metadata": {},
   "source": [
    "### 4.3. CAMEO_INTL_2015\n",
    "German CAMEO: Wealth / Life Stage Typology, mapped to international code\n",
    "- -1: unknown\n",
    "- 11: Wealthy Households - Pre-Family Couples & Singles\n",
    "- 12: Wealthy Households - Young Couples With Children\n",
    "- 13: Wealthy Households - Families With School Age Children\n",
    "- 14: Wealthy Households - Older Families &  Mature Couples\n",
    "- 15: Wealthy Households - Elders In Retirement\n",
    "- 21: Prosperous Households - Pre-Family Couples & Singles\n",
    "- 22: Prosperous Households - Young Couples With Children\n",
    "- 23: Prosperous Households - Families With School Age Children\n",
    "- 24: Prosperous Households - Older Families & Mature Couples\n",
    "- 25: Prosperous Households - Elders In Retirement\n",
    "- 31: Comfortable Households - Pre-Family Couples & Singles\n",
    "- 32: Comfortable Households - Young Couples With Children\n",
    "- 33: Comfortable Households - Families With School Age Children\n",
    "- 34: Comfortable Households - Older Families & Mature Couples\n",
    "- 35: Comfortable Households - Elders In Retirement\n",
    "- 41: Less Affluent Households - Pre-Family Couples & Singles\n",
    "- 42: Less Affluent Households - Young Couples With Children\n",
    "- 43: Less Affluent Households - Families With School Age Children\n",
    "- 44: Less Affluent Households - Older Families & Mature Couples\n",
    "- 45: Less Affluent Households - Elders In Retirement\n",
    "- 51: Poorer Households - Pre-Family Couples & Singles\n",
    "- 52: Poorer Households - Young Couples With Children\n",
    "- 53: Poorer Households - Families With School Age Children\n",
    "- 54: Poorer Households - Older Families & Mature Couples\n",
    "- 55: Poorer Households - Elders In Retirement\n",
    "- XX: unknown\n"
   ]
  },
  {
   "cell_type": "code",
   "execution_count": 39,
   "metadata": {},
   "outputs": [],
   "source": [
    "def reengineer_wealth(x):\n",
    "    if x is np.nan:\n",
    "        return np.nan            \n",
    "    elif x in [11, 12, 13, 14, 15]: \n",
    "        return 1\n",
    "    elif x in [21, 22, 23, 24, 25]: \n",
    "        return 2\n",
    "    elif x in [31, 32, 33, 34, 35]:\n",
    "        return 3\n",
    "    elif x in [41, 42, 43, 44, 45]:\n",
    "        return 4 \n",
    "    else:\n",
    "        return 5"
   ]
  },
  {
   "cell_type": "code",
   "execution_count": 40,
   "metadata": {},
   "outputs": [],
   "source": [
    "def reengineer_life_stage(x):\n",
    "    if x is np.nan:\n",
    "        return np.nan            \n",
    "    elif x in [11, 21, 31, 41, 51]:\n",
    "        return 1\n",
    "    elif x in [12, 22, 32, 42, 52]:\n",
    "        return 2\n",
    "    elif x in [13, 23, 33, 43, 53]:\n",
    "        return 3\n",
    "    elif x in [14, 24, 34, 44, 54]:\n",
    "        return 4\n",
    "    else:\n",
    "        return 5"
   ]
  },
  {
   "cell_type": "code",
   "execution_count": 41,
   "metadata": {},
   "outputs": [],
   "source": [
    "azdias_clean['CAMEO_INTL_2015_WEALTH']= azdias_clean['CAMEO_INTL_2015'].apply(reengineer_wealth)"
   ]
  },
  {
   "cell_type": "code",
   "execution_count": 42,
   "metadata": {},
   "outputs": [],
   "source": [
    "azdias_clean['CAMEO_INTL_2015_LIFE_STAGE']= azdias_clean['CAMEO_INTL_2015'].apply(reengineer_life_stage)"
   ]
  },
  {
   "cell_type": "code",
   "execution_count": 43,
   "metadata": {},
   "outputs": [],
   "source": [
    "azdias_clean.drop(columns=['PRAEGENDE_JUGENDJAHRE', 'CAMEO_INTL_2015'], inplace=True)"
   ]
  },
  {
   "cell_type": "code",
   "execution_count": 44,
   "metadata": {},
   "outputs": [
    {
     "name": "stdout",
     "output_type": "stream",
     "text": [
      "<class 'pandas.core.frame.DataFrame'>\n",
      "Int64Index: 771701 entries, 1 to 891220\n",
      "Data columns (total 68 columns):\n",
      "ALTERSKATEGORIE_GROB              769218 non-null float64\n",
      "ANREDE_KZ                         771701 non-null int64\n",
      "FINANZ_MINIMALIST                 771701 non-null int64\n",
      "FINANZ_SPARER                     771701 non-null int64\n",
      "FINANZ_VORSORGER                  771701 non-null int64\n",
      "FINANZ_ANLEGER                    771701 non-null int64\n",
      "FINANZ_UNAUFFAELLIGER             771701 non-null int64\n",
      "FINANZ_HAUSBAUER                  771701 non-null int64\n",
      "GREEN_AVANTGARDE                  771701 non-null int64\n",
      "HEALTH_TYP                        739213 non-null float64\n",
      "LP_LEBENSPHASE_FEIN               730996 non-null float64\n",
      "LP_LEBENSPHASE_GROB               733594 non-null float64\n",
      "RETOURTYP_BK_S                    771701 non-null float64\n",
      "SEMIO_SOZ                         771701 non-null int64\n",
      "SEMIO_FAM                         771701 non-null int64\n",
      "SEMIO_REL                         771701 non-null int64\n",
      "SEMIO_MAT                         771701 non-null int64\n",
      "SEMIO_VERT                        771701 non-null int64\n",
      "SEMIO_LUST                        771701 non-null int64\n",
      "SEMIO_ERL                         771701 non-null int64\n",
      "SEMIO_KULT                        771701 non-null int64\n",
      "SEMIO_RAT                         771701 non-null int64\n",
      "SEMIO_KRIT                        771701 non-null int64\n",
      "SEMIO_DOM                         771701 non-null int64\n",
      "SEMIO_KAEM                        771701 non-null int64\n",
      "SEMIO_PFLICHT                     771701 non-null int64\n",
      "SEMIO_TRADV                       771701 non-null int64\n",
      "SOHO_KZ                           771701 non-null float64\n",
      "VERS_TYP                          739213 non-null float64\n",
      "ANZ_PERSONEN                      771701 non-null float64\n",
      "ANZ_TITEL                         771701 non-null float64\n",
      "HH_EINKOMMEN_SCORE                771701 non-null float64\n",
      "W_KEIT_KIND_HH                    717965 non-null float64\n",
      "WOHNDAUER_2008                    771701 non-null float64\n",
      "ANZ_HAUSHALTE_AKTIV               766297 non-null float64\n",
      "ANZ_HH_TITEL                      768680 non-null float64\n",
      "KONSUMNAEHE                       771653 non-null float64\n",
      "MIN_GEBAEUDEJAHR                  771701 non-null float64\n",
      "OST_WEST_KZ                       771701 non-null int64\n",
      "WOHNLAGE                          771701 non-null float64\n",
      "KBA05_ANTG1                       748893 non-null float64\n",
      "KBA05_ANTG2                       748893 non-null float64\n",
      "KBA05_ANTG3                       748893 non-null float64\n",
      "KBA05_ANTG4                       748893 non-null float64\n",
      "KBA05_GBZ                         748893 non-null float64\n",
      "BALLRAUM                          771200 non-null float64\n",
      "EWDICHTE                          771200 non-null float64\n",
      "INNENSTADT                        771200 non-null float64\n",
      "GEBAEUDETYP_RASTER                771696 non-null float64\n",
      "KKK                               719358 non-null float64\n",
      "MOBI_REGIO                        748893 non-null float64\n",
      "ONLINE_AFFINITAET                 771701 non-null float64\n",
      "REGIOTYP                          719358 non-null float64\n",
      "KBA13_ANZAHL_PKW                  766668 non-null float64\n",
      "PLZ8_ANTG1                        764477 non-null float64\n",
      "PLZ8_ANTG2                        764477 non-null float64\n",
      "PLZ8_ANTG3                        764477 non-null float64\n",
      "PLZ8_ANTG4                        764477 non-null float64\n",
      "PLZ8_BAUMAX                       764477 non-null float64\n",
      "PLZ8_HHZ                          764477 non-null float64\n",
      "PLZ8_GBZ                          764477 non-null float64\n",
      "ARBEIT                            767846 non-null float64\n",
      "ORTSGR_KLS9                       767929 non-null float64\n",
      "RELAT_AB                          767846 non-null float64\n",
      "PRAEGENDE_JUGENDJAHRE_MOVEMENT    771701 non-null int64\n",
      "PRAEGENDE_JUGENDJAHRE_DECADE      771701 non-null int64\n",
      "CAMEO_INTL_2015_WEALTH            768362 non-null float64\n",
      "CAMEO_INTL_2015_LIFE_STAGE        768362 non-null float64\n",
      "dtypes: float64(43), int64(25)\n",
      "memory usage: 406.2 MB\n"
     ]
    }
   ],
   "source": [
    "azdias_clean.info()"
   ]
  },
  {
   "cell_type": "markdown",
   "metadata": {},
   "source": [
    "#### Discussion 1.2.2: Engineer Mixed-Type Features\n",
    "\n"
   ]
  },
  {
   "cell_type": "markdown",
   "metadata": {},
   "source": [
    "#### Step 1.2.3: Complete Feature Selection\n",
    "\n",
    "In order to finish this step up, you need to make sure that your data frame now only has the columns that you want to keep. To summarize, the dataframe should consist of the following:\n",
    "- All numeric, interval, and ordinal type columns from the original dataset.\n",
    "- Binary categorical features (all numerically-encoded).\n",
    "- Engineered features from other multi-level categorical features and mixed features.\n",
    "\n",
    "Make sure that for any new columns that you have engineered, that you've excluded the original columns from the final dataset. Otherwise, their values will interfere with the analysis later on the project. For example, you should not keep \"PRAEGENDE_JUGENDJAHRE\", since its values won't be useful for the algorithm: only the values derived from it in the engineered features you created should be retained. As a reminder, your data should only be from **the subset with few or no missing values**."
   ]
  },
  {
   "cell_type": "markdown",
   "metadata": {},
   "source": [
    "### Step 1.3: Create a Cleaning Function\n",
    "\n",
    "Even though you've finished cleaning up the general population demographics data, it's important to look ahead to the future and realize that you'll need to perform the same cleaning steps on the customer demographics data. In this substep, complete the function below to execute the main feature selection, encoding, and re-engineering steps you performed above. Then, when it comes to looking at the customer data in Step 3, you can just run this function on that DataFrame to get the trimmed dataset in a single step."
   ]
  },
  {
   "cell_type": "code",
   "execution_count": 45,
   "metadata": {},
   "outputs": [],
   "source": [
    "def clean_data(df):\n",
    "    \"\"\"\n",
    "    Perform feature trimming, re-encoding, and engineering for demographics\n",
    "    data\n",
    "    \n",
    "    INPUT: Demographics DataFrame\n",
    "    OUTPUT: Trimmed and cleaned demographics DataFrame\n",
    "    \"\"\"\n",
    "  \n",
    "    # convert missing value codes into NaNs, ...\n",
    "    for indx in range(len(feat_info)):\n",
    "        missing_or_unknown = feat_info.iloc[indx]['missing_or_unknown']\n",
    "        missing_or_unknown = missing_or_unknown.strip('[')\n",
    "        missing_or_unknown = missing_or_unknown.strip(']')\n",
    "        missing_or_unknown = missing_or_unknown.split(sep=',')\n",
    "        missing_or_unknown = [int(value) if (value!='X' and value!='XX' and value!='') else value for value in missing_or_unknown]\n",
    "        if missing_or_unknown != ['']:\n",
    "            df = df.replace({feat_info.iloc[indx]['attribute']: missing_or_unknown}, np.nan)\n",
    "\n",
    "        \n",
    "    # remove selected columns and rows, ...\n",
    "    # drop columns with more than 20% missing values\n",
    "    df = df.drop(columns=['AGER_TYP', 'GEBURTSJAHR', 'TITEL_KZ', 'ALTER_HH', 'KK_KUNDENTYP', 'KBA05_BAUMAX'])\n",
    "    \n",
    "    # drop rows with more than 10 missing values\n",
    "    df = df[df.isnull().sum(axis = 1) <=8]\n",
    "\n",
    "    # Re-encoding char, numeric and non-numeric binary features\n",
    "    cat_features = feat_info[feat_info[\"type\"]==\"categorical\"]\n",
    "    binary_feat = []\n",
    "    multi_level_feat = []\n",
    "\n",
    "    for feat in list(cat_features['attribute']):\n",
    "        try:\n",
    "            if len(low_missing[feat].value_counts()) > 2:\n",
    "                multi_level_feat.append(feat)\n",
    "            else:\n",
    "                binary_feat.append(feat)\n",
    "        except:\n",
    "            pass\n",
    "    \n",
    "    new_values = {'W': 0, 'O': 1}\n",
    "    df = df.replace({'OST_WEST_KZ':new_values})\n",
    "    \n",
    "    # drop multi-leve features\n",
    "    df = df.drop(multi_level_feat, axis=1)\n",
    "        \n",
    "    # engineer mixed features\n",
    "    def reengineer_movement(x):\n",
    "        if x is np.nan:\n",
    "            return np.nan            \n",
    "        elif x in [1,3,5,8,10,12,14]: \n",
    "            return 1\n",
    "        else:\n",
    "            return 2\n",
    "    \n",
    "    \n",
    "    def reengineer_decade(x):\n",
    "        if x is np.nan:\n",
    "            return np.nan            \n",
    "        elif x in [1, 3, 5, 8, 10, 12, 14]: \n",
    "            return 1\n",
    "        else:\n",
    "            return 2\n",
    "        \n",
    "\n",
    "    df['PRAEGENDE_JUGENDJAHRE_MOVEMENT']= df['PRAEGENDE_JUGENDJAHRE'].apply(reengineer_movement)\n",
    "    df['PRAEGENDE_JUGENDJAHRE_DECADE']= df['PRAEGENDE_JUGENDJAHRE'].apply(reengineer_decade)\n",
    "    \n",
    "    \n",
    "    def reengineer_wealth(x):\n",
    "        if x is np.nan:\n",
    "            return np.nan            \n",
    "        elif x in [11, 12, 13, 14, 15]: \n",
    "            return 1\n",
    "        elif x in [21, 22, 23, 24, 25]: \n",
    "            return 2\n",
    "        elif x in [31, 32, 33, 34, 35]:\n",
    "            return 3\n",
    "        elif x in [41, 42, 43, 44, 45]:\n",
    "            return 4 \n",
    "        else:\n",
    "            return 5\n",
    "    \n",
    "    \n",
    "    def reengineer_life_stage(x):\n",
    "        if x is np.nan:\n",
    "            return np.nan            \n",
    "        elif x in [11, 21, 31, 41, 51]:\n",
    "            return 1\n",
    "        elif x in [12, 22, 32, 42, 52]:\n",
    "            return 2\n",
    "        elif x in [13, 23, 33, 43, 53]:\n",
    "            return 3\n",
    "        elif x in [14, 24, 34, 44, 54]:\n",
    "            return 4\n",
    "        else:\n",
    "            return 5\n",
    "    \n",
    "    \n",
    "    df['CAMEO_INTL_2015_WEALTH']= df['PRAEGENDE_JUGENDJAHRE'].apply(reengineer_wealth)\n",
    "    df['CAMEO_INTL_2015_LIFE_STAGE']= df['PRAEGENDE_JUGENDJAHRE'].apply(reengineer_life_stage)\n",
    "\n",
    "    df.drop(columns=['PRAEGENDE_JUGENDJAHRE', 'CAMEO_INTL_2015'], inplace=True)\n",
    "\n",
    "    \n",
    "    \n",
    " \n",
    "    # Return the cleaned dataframe.\n",
    "    return df"
   ]
  },
  {
   "cell_type": "markdown",
   "metadata": {},
   "source": [
    "## Step 2: Feature Transformation\n",
    "\n",
    "### Step 2.1: Apply Feature Scaling\n",
    "\n",
    "Before we apply dimensionality reduction techniques to the data, we need to perform feature scaling so that the principal component vectors are not influenced by the natural differences in scale for features. Starting from this part of the project, you'll want to keep an eye on the [API reference page for sklearn](http://scikit-learn.org/stable/modules/classes.html) to help you navigate to all of the classes and functions that you'll need. In this substep, you'll need to check the following:\n",
    "\n",
    "- sklearn requires that data not have missing values in order for its estimators to work properly. So, before applying the scaler to your data, make sure that you've cleaned the DataFrame of the remaining missing values. This can be as simple as just removing all data points with missing data, or applying an [Imputer](https://scikit-learn.org/0.16/modules/generated/sklearn.preprocessing.Imputer.html) to replace all missing values. You might also try a more complicated procedure where you temporarily remove missing values in order to compute the scaling parameters before re-introducing those missing values and applying imputation. Think about how much missing data you have and what possible effects each approach might have on your analysis, and justify your decision in the discussion section below.\n",
    "- For the actual scaling function, a [StandardScaler](http://scikit-learn.org/stable/modules/generated/sklearn.preprocessing.StandardScaler.html) instance is suggested, scaling each feature to mean 0 and standard deviation 1.\n",
    "- For these classes, you can make use of the `.fit_transform()` method to both fit a procedure to the data as well as apply the transformation to the data at the same time. Don't forget to keep the fit sklearn objects handy, since you'll be applying them to the customer demographics data towards the end of the project."
   ]
  },
  {
   "cell_type": "code",
   "execution_count": 46,
   "metadata": {},
   "outputs": [],
   "source": [
    "imputer = Imputer(strategy='most_frequent')\n",
    "azdias_imputed = pd.DataFrame(imputer.fit_transform(azdias_clean))\n",
    "azdias_imputed.columns = azdias_clean.columns"
   ]
  },
  {
   "cell_type": "code",
   "execution_count": 47,
   "metadata": {},
   "outputs": [
    {
     "name": "stdout",
     "output_type": "stream",
     "text": [
      "<class 'pandas.core.frame.DataFrame'>\n",
      "RangeIndex: 771701 entries, 0 to 771700\n",
      "Data columns (total 68 columns):\n",
      "ALTERSKATEGORIE_GROB              771701 non-null float64\n",
      "ANREDE_KZ                         771701 non-null float64\n",
      "FINANZ_MINIMALIST                 771701 non-null float64\n",
      "FINANZ_SPARER                     771701 non-null float64\n",
      "FINANZ_VORSORGER                  771701 non-null float64\n",
      "FINANZ_ANLEGER                    771701 non-null float64\n",
      "FINANZ_UNAUFFAELLIGER             771701 non-null float64\n",
      "FINANZ_HAUSBAUER                  771701 non-null float64\n",
      "GREEN_AVANTGARDE                  771701 non-null float64\n",
      "HEALTH_TYP                        771701 non-null float64\n",
      "LP_LEBENSPHASE_FEIN               771701 non-null float64\n",
      "LP_LEBENSPHASE_GROB               771701 non-null float64\n",
      "RETOURTYP_BK_S                    771701 non-null float64\n",
      "SEMIO_SOZ                         771701 non-null float64\n",
      "SEMIO_FAM                         771701 non-null float64\n",
      "SEMIO_REL                         771701 non-null float64\n",
      "SEMIO_MAT                         771701 non-null float64\n",
      "SEMIO_VERT                        771701 non-null float64\n",
      "SEMIO_LUST                        771701 non-null float64\n",
      "SEMIO_ERL                         771701 non-null float64\n",
      "SEMIO_KULT                        771701 non-null float64\n",
      "SEMIO_RAT                         771701 non-null float64\n",
      "SEMIO_KRIT                        771701 non-null float64\n",
      "SEMIO_DOM                         771701 non-null float64\n",
      "SEMIO_KAEM                        771701 non-null float64\n",
      "SEMIO_PFLICHT                     771701 non-null float64\n",
      "SEMIO_TRADV                       771701 non-null float64\n",
      "SOHO_KZ                           771701 non-null float64\n",
      "VERS_TYP                          771701 non-null float64\n",
      "ANZ_PERSONEN                      771701 non-null float64\n",
      "ANZ_TITEL                         771701 non-null float64\n",
      "HH_EINKOMMEN_SCORE                771701 non-null float64\n",
      "W_KEIT_KIND_HH                    771701 non-null float64\n",
      "WOHNDAUER_2008                    771701 non-null float64\n",
      "ANZ_HAUSHALTE_AKTIV               771701 non-null float64\n",
      "ANZ_HH_TITEL                      771701 non-null float64\n",
      "KONSUMNAEHE                       771701 non-null float64\n",
      "MIN_GEBAEUDEJAHR                  771701 non-null float64\n",
      "OST_WEST_KZ                       771701 non-null float64\n",
      "WOHNLAGE                          771701 non-null float64\n",
      "KBA05_ANTG1                       771701 non-null float64\n",
      "KBA05_ANTG2                       771701 non-null float64\n",
      "KBA05_ANTG3                       771701 non-null float64\n",
      "KBA05_ANTG4                       771701 non-null float64\n",
      "KBA05_GBZ                         771701 non-null float64\n",
      "BALLRAUM                          771701 non-null float64\n",
      "EWDICHTE                          771701 non-null float64\n",
      "INNENSTADT                        771701 non-null float64\n",
      "GEBAEUDETYP_RASTER                771701 non-null float64\n",
      "KKK                               771701 non-null float64\n",
      "MOBI_REGIO                        771701 non-null float64\n",
      "ONLINE_AFFINITAET                 771701 non-null float64\n",
      "REGIOTYP                          771701 non-null float64\n",
      "KBA13_ANZAHL_PKW                  771701 non-null float64\n",
      "PLZ8_ANTG1                        771701 non-null float64\n",
      "PLZ8_ANTG2                        771701 non-null float64\n",
      "PLZ8_ANTG3                        771701 non-null float64\n",
      "PLZ8_ANTG4                        771701 non-null float64\n",
      "PLZ8_BAUMAX                       771701 non-null float64\n",
      "PLZ8_HHZ                          771701 non-null float64\n",
      "PLZ8_GBZ                          771701 non-null float64\n",
      "ARBEIT                            771701 non-null float64\n",
      "ORTSGR_KLS9                       771701 non-null float64\n",
      "RELAT_AB                          771701 non-null float64\n",
      "PRAEGENDE_JUGENDJAHRE_MOVEMENT    771701 non-null float64\n",
      "PRAEGENDE_JUGENDJAHRE_DECADE      771701 non-null float64\n",
      "CAMEO_INTL_2015_WEALTH            771701 non-null float64\n",
      "CAMEO_INTL_2015_LIFE_STAGE        771701 non-null float64\n",
      "dtypes: float64(68)\n",
      "memory usage: 400.4 MB\n"
     ]
    }
   ],
   "source": [
    "azdias_imputed.info()"
   ]
  },
  {
   "cell_type": "code",
   "execution_count": 48,
   "metadata": {},
   "outputs": [],
   "source": [
    "scaler = StandardScaler()\n",
    "azdias_scaled = scaler.fit_transform(azdias_imputed)"
   ]
  },
  {
   "cell_type": "code",
   "execution_count": 49,
   "metadata": {},
   "outputs": [],
   "source": [
    "azdias_scaled = pd.DataFrame(azdias_scaled, columns=azdias_imputed.columns)"
   ]
  },
  {
   "cell_type": "code",
   "execution_count": 50,
   "metadata": {},
   "outputs": [
    {
     "data": {
      "text/html": [
       "<div>\n",
       "<style scoped>\n",
       "    .dataframe tbody tr th:only-of-type {\n",
       "        vertical-align: middle;\n",
       "    }\n",
       "\n",
       "    .dataframe tbody tr th {\n",
       "        vertical-align: top;\n",
       "    }\n",
       "\n",
       "    .dataframe thead th {\n",
       "        text-align: right;\n",
       "    }\n",
       "</style>\n",
       "<table border=\"1\" class=\"dataframe\">\n",
       "  <thead>\n",
       "    <tr style=\"text-align: right;\">\n",
       "      <th></th>\n",
       "      <th>ALTERSKATEGORIE_GROB</th>\n",
       "      <th>ANREDE_KZ</th>\n",
       "      <th>FINANZ_MINIMALIST</th>\n",
       "      <th>FINANZ_SPARER</th>\n",
       "      <th>FINANZ_VORSORGER</th>\n",
       "      <th>FINANZ_ANLEGER</th>\n",
       "      <th>FINANZ_UNAUFFAELLIGER</th>\n",
       "      <th>FINANZ_HAUSBAUER</th>\n",
       "      <th>GREEN_AVANTGARDE</th>\n",
       "      <th>HEALTH_TYP</th>\n",
       "      <th>...</th>\n",
       "      <th>PLZ8_BAUMAX</th>\n",
       "      <th>PLZ8_HHZ</th>\n",
       "      <th>PLZ8_GBZ</th>\n",
       "      <th>ARBEIT</th>\n",
       "      <th>ORTSGR_KLS9</th>\n",
       "      <th>RELAT_AB</th>\n",
       "      <th>PRAEGENDE_JUGENDJAHRE_MOVEMENT</th>\n",
       "      <th>PRAEGENDE_JUGENDJAHRE_DECADE</th>\n",
       "      <th>CAMEO_INTL_2015_WEALTH</th>\n",
       "      <th>CAMEO_INTL_2015_LIFE_STAGE</th>\n",
       "    </tr>\n",
       "  </thead>\n",
       "  <tbody>\n",
       "    <tr>\n",
       "      <th>0</th>\n",
       "      <td>-1.764603</td>\n",
       "      <td>0.959073</td>\n",
       "      <td>-1.488002</td>\n",
       "      <td>1.539656</td>\n",
       "      <td>-1.043931</td>\n",
       "      <td>1.468403</td>\n",
       "      <td>0.981832</td>\n",
       "      <td>1.326992</td>\n",
       "      <td>-0.531851</td>\n",
       "      <td>1.007628</td>\n",
       "      <td>...</td>\n",
       "      <td>-0.643828</td>\n",
       "      <td>1.435093</td>\n",
       "      <td>0.564057</td>\n",
       "      <td>-0.179612</td>\n",
       "      <td>-0.133963</td>\n",
       "      <td>0.678912</td>\n",
       "      <td>-0.580462</td>\n",
       "      <td>-0.580462</td>\n",
       "      <td>0.0</td>\n",
       "      <td>0.0</td>\n",
       "    </tr>\n",
       "    <tr>\n",
       "      <th>1</th>\n",
       "      <td>0.199826</td>\n",
       "      <td>0.959073</td>\n",
       "      <td>-1.488002</td>\n",
       "      <td>0.866704</td>\n",
       "      <td>-1.769993</td>\n",
       "      <td>-0.569520</td>\n",
       "      <td>0.264219</td>\n",
       "      <td>1.326992</td>\n",
       "      <td>1.880228</td>\n",
       "      <td>1.007628</td>\n",
       "      <td>...</td>\n",
       "      <td>-0.643828</td>\n",
       "      <td>0.404593</td>\n",
       "      <td>0.564057</td>\n",
       "      <td>-0.179612</td>\n",
       "      <td>-0.133963</td>\n",
       "      <td>-0.796441</td>\n",
       "      <td>1.722765</td>\n",
       "      <td>1.722765</td>\n",
       "      <td>0.0</td>\n",
       "      <td>0.0</td>\n",
       "    </tr>\n",
       "    <tr>\n",
       "      <th>2</th>\n",
       "      <td>1.182040</td>\n",
       "      <td>0.959073</td>\n",
       "      <td>0.690044</td>\n",
       "      <td>-0.479200</td>\n",
       "      <td>1.134255</td>\n",
       "      <td>-0.569520</td>\n",
       "      <td>-1.171006</td>\n",
       "      <td>-0.819321</td>\n",
       "      <td>-0.531851</td>\n",
       "      <td>-0.314912</td>\n",
       "      <td>...</td>\n",
       "      <td>-0.643828</td>\n",
       "      <td>-0.625907</td>\n",
       "      <td>0.564057</td>\n",
       "      <td>-1.183607</td>\n",
       "      <td>-1.004797</td>\n",
       "      <td>-0.058765</td>\n",
       "      <td>-0.580462</td>\n",
       "      <td>-0.580462</td>\n",
       "      <td>0.0</td>\n",
       "      <td>0.0</td>\n",
       "    </tr>\n",
       "    <tr>\n",
       "      <th>3</th>\n",
       "      <td>0.199826</td>\n",
       "      <td>-1.042673</td>\n",
       "      <td>0.690044</td>\n",
       "      <td>0.193752</td>\n",
       "      <td>0.408193</td>\n",
       "      <td>-1.248828</td>\n",
       "      <td>0.264219</td>\n",
       "      <td>-0.819321</td>\n",
       "      <td>-0.531851</td>\n",
       "      <td>1.007628</td>\n",
       "      <td>...</td>\n",
       "      <td>0.042626</td>\n",
       "      <td>-0.625907</td>\n",
       "      <td>-0.339213</td>\n",
       "      <td>0.824384</td>\n",
       "      <td>0.301453</td>\n",
       "      <td>1.416588</td>\n",
       "      <td>-0.580462</td>\n",
       "      <td>-0.580462</td>\n",
       "      <td>0.0</td>\n",
       "      <td>0.0</td>\n",
       "    </tr>\n",
       "    <tr>\n",
       "      <th>4</th>\n",
       "      <td>-1.764603</td>\n",
       "      <td>0.959073</td>\n",
       "      <td>-0.035971</td>\n",
       "      <td>-1.152152</td>\n",
       "      <td>1.134255</td>\n",
       "      <td>-0.569520</td>\n",
       "      <td>-0.453393</td>\n",
       "      <td>1.326992</td>\n",
       "      <td>-0.531851</td>\n",
       "      <td>1.007628</td>\n",
       "      <td>...</td>\n",
       "      <td>-0.643828</td>\n",
       "      <td>1.435093</td>\n",
       "      <td>1.467327</td>\n",
       "      <td>-1.183607</td>\n",
       "      <td>-1.004797</td>\n",
       "      <td>-0.058765</td>\n",
       "      <td>-0.580462</td>\n",
       "      <td>-0.580462</td>\n",
       "      <td>0.0</td>\n",
       "      <td>0.0</td>\n",
       "    </tr>\n",
       "  </tbody>\n",
       "</table>\n",
       "<p>5 rows × 68 columns</p>\n",
       "</div>"
      ],
      "text/plain": [
       "   ALTERSKATEGORIE_GROB  ANREDE_KZ  FINANZ_MINIMALIST  FINANZ_SPARER  \\\n",
       "0             -1.764603   0.959073          -1.488002       1.539656   \n",
       "1              0.199826   0.959073          -1.488002       0.866704   \n",
       "2              1.182040   0.959073           0.690044      -0.479200   \n",
       "3              0.199826  -1.042673           0.690044       0.193752   \n",
       "4             -1.764603   0.959073          -0.035971      -1.152152   \n",
       "\n",
       "   FINANZ_VORSORGER  FINANZ_ANLEGER  FINANZ_UNAUFFAELLIGER  FINANZ_HAUSBAUER  \\\n",
       "0         -1.043931        1.468403               0.981832          1.326992   \n",
       "1         -1.769993       -0.569520               0.264219          1.326992   \n",
       "2          1.134255       -0.569520              -1.171006         -0.819321   \n",
       "3          0.408193       -1.248828               0.264219         -0.819321   \n",
       "4          1.134255       -0.569520              -0.453393          1.326992   \n",
       "\n",
       "   GREEN_AVANTGARDE  HEALTH_TYP             ...              PLZ8_BAUMAX  \\\n",
       "0         -0.531851    1.007628             ...                -0.643828   \n",
       "1          1.880228    1.007628             ...                -0.643828   \n",
       "2         -0.531851   -0.314912             ...                -0.643828   \n",
       "3         -0.531851    1.007628             ...                 0.042626   \n",
       "4         -0.531851    1.007628             ...                -0.643828   \n",
       "\n",
       "   PLZ8_HHZ  PLZ8_GBZ    ARBEIT  ORTSGR_KLS9  RELAT_AB  \\\n",
       "0  1.435093  0.564057 -0.179612    -0.133963  0.678912   \n",
       "1  0.404593  0.564057 -0.179612    -0.133963 -0.796441   \n",
       "2 -0.625907  0.564057 -1.183607    -1.004797 -0.058765   \n",
       "3 -0.625907 -0.339213  0.824384     0.301453  1.416588   \n",
       "4  1.435093  1.467327 -1.183607    -1.004797 -0.058765   \n",
       "\n",
       "   PRAEGENDE_JUGENDJAHRE_MOVEMENT  PRAEGENDE_JUGENDJAHRE_DECADE  \\\n",
       "0                       -0.580462                     -0.580462   \n",
       "1                        1.722765                      1.722765   \n",
       "2                       -0.580462                     -0.580462   \n",
       "3                       -0.580462                     -0.580462   \n",
       "4                       -0.580462                     -0.580462   \n",
       "\n",
       "   CAMEO_INTL_2015_WEALTH  CAMEO_INTL_2015_LIFE_STAGE  \n",
       "0                     0.0                         0.0  \n",
       "1                     0.0                         0.0  \n",
       "2                     0.0                         0.0  \n",
       "3                     0.0                         0.0  \n",
       "4                     0.0                         0.0  \n",
       "\n",
       "[5 rows x 68 columns]"
      ]
     },
     "execution_count": 50,
     "metadata": {},
     "output_type": "execute_result"
    }
   ],
   "source": [
    "azdias_scaled.head()"
   ]
  },
  {
   "cell_type": "markdown",
   "metadata": {},
   "source": [
    "### Discussion 2.1: Apply Feature Scaling\n",
    "\n",
    "For the above section as it pertains to the missing values in the dataset, I chose to use an imputer to change the missing values to mode to ensure there will be no missing values.\n",
    "\n",
    "I then used sklearns StandardScaler function to  scale each feature to mean 0 and standard deviation of 1. "
   ]
  },
  {
   "cell_type": "markdown",
   "metadata": {},
   "source": [
    "### Step 2.2: Perform Dimensionality Reduction\n",
    "\n",
    "On your scaled data, you are now ready to apply dimensionality reduction techniques.\n",
    "\n",
    "- Use sklearn's [PCA](http://scikit-learn.org/stable/modules/generated/sklearn.decomposition.PCA.html) class to apply principal component analysis on the data, thus finding the vectors of maximal variance in the data. To start, you should not set any parameters (so all components are computed) or set a number of components that is at least half the number of features (so there's enough features to see the general trend in variability).\n",
    "- Check out the ratio of variance explained by each principal component as well as the cumulative variance explained. Try plotting the cumulative or sequential values using matplotlib's [`plot()`](https://matplotlib.org/api/_as_gen/matplotlib.pyplot.plot.html) function. Based on what you find, select a value for the number of transformed features you'll retain for the clustering part of the project.\n",
    "- Once you've made a choice for the number of components to keep, make sure you re-fit a PCA instance to perform the decided-on transformation."
   ]
  },
  {
   "cell_type": "code",
   "execution_count": 51,
   "metadata": {},
   "outputs": [],
   "source": [
    "pca = PCA()\n",
    "pca_fit = pca.fit_transform(azdias_scaled);"
   ]
  },
  {
   "cell_type": "code",
   "execution_count": 52,
   "metadata": {},
   "outputs": [
    {
     "data": {
      "image/png": "[encoded data removed]",
      "text/plain": [
       "<matplotlib.figure.Figure at 0x7f6dcf2d1ef0>"
      ]
     },
     "metadata": {
      "needs_background": "light"
     },
     "output_type": "display_data"
    }
   ],
   "source": [
    "prinicpal_component_values = np.arange(pca.n_components_) + 1\n",
    "cumulative_prinicpal_component_values = np.cumsum(pca.explained_variance_ratio_)\n",
    "plt.figure(figsize=(10,6))\n",
    "ax = plt.subplot(111)\n",
    "ax.bar(prinicpal_component_values, pca.explained_variance_ratio_)\n",
    "ax.plot(prinicpal_component_values, cumulative_prinicpal_component_values)\n",
    "plt.title('Scree Plot - Explained Variance Per Principal Component')\n",
    "plt.xlabel('Principal Component')\n",
    "plt.ylabel('Variance Explained Ratio')\n",
    "plt.axhline(y=0.9, color = 'r')\n",
    "plt.show()"
   ]
  },
  {
   "cell_type": "code",
   "execution_count": 53,
   "metadata": {},
   "outputs": [],
   "source": [
    "pca_reduction = PCA(n_components = 30, random_state =42)\n",
    "azdias_pca = pca_reduction.fit_transform(azdias_scaled)"
   ]
  },
  {
   "cell_type": "markdown",
   "metadata": {},
   "source": [
    "### Discussion 2.2: Perform Dimensionality Reduction\n",
    "\n",
    "Using the above plots to explain the variance explained ratio per prinicipal component as well as the cumulkative explained variance, we can see that 30 components seems like a good choice for this data set as it covers almost 90% of the variance while only using less than half the total number of components."
   ]
  },
  {
   "cell_type": "markdown",
   "metadata": {},
   "source": [
    "### Step 2.3: Interpret Principal Components\n",
    "\n",
    "Now that we have our transformed principal components, it's a nice idea to check out the weight of each variable on the first few components to see if they can be interpreted in some fashion.\n",
    "\n",
    "As a reminder, each principal component is a unit vector that points in the direction of highest variance (after accounting for the variance captured by earlier principal components). The further a weight is from zero, the more the principal component is in the direction of the corresponding feature. If two features have large weights of the same sign (both positive or both negative), then increases in one tend expect to be associated with increases in the other. To contrast, features with different signs can be expected to show a negative correlation: increases in one variable should result in a decrease in the other.\n",
    "\n",
    "- To investigate the features, you should map each weight to their corresponding feature name, then sort the features according to weight. The most interesting features for each principal component, then, will be those at the beginning and end of the sorted list. Use the data dictionary document to help you understand these most prominent features, their relationships, and what a positive or negative value on the principal component might indicate.\n",
    "- You should investigate and interpret feature associations from the first three principal components in this substep. To help facilitate this, you should write a function that you can call at any time to print the sorted list of feature weights, for the *i*-th principal component. This might come in handy in the next step of the project, when you interpret the tendencies of the discovered clusters."
   ]
  },
  {
   "cell_type": "code",
   "execution_count": 54,
   "metadata": {},
   "outputs": [],
   "source": [
    "def print_feat_weights(pca, component_number):\n",
    "    feature_df = pd.DataFrame(pca.components_, columns = azdias_scaled.columns)\n",
    "    weights = feature_df.iloc[component_number]\n",
    "    sorted = weights.sort_values(ascending=False)\n",
    "    return sorted"
   ]
  },
  {
   "cell_type": "code",
   "execution_count": 55,
   "metadata": {},
   "outputs": [
    {
     "data": {
      "text/plain": [
       "ALTERSKATEGORIE_GROB              0.277623\n",
       "SEMIO_ERL                         0.258871\n",
       "FINANZ_VORSORGER                  0.240519\n",
       "SEMIO_LUST                        0.192916\n",
       "RETOURTYP_BK_S                    0.160746\n",
       "SEMIO_KRIT                        0.138317\n",
       "SEMIO_KAEM                        0.132755\n",
       "ANREDE_KZ                         0.116002\n",
       "W_KEIT_KIND_HH                    0.103012\n",
       "SEMIO_DOM                         0.091798\n",
       "FINANZ_HAUSBAUER                  0.091645\n",
       "FINANZ_MINIMALIST                 0.089154\n",
       "EWDICHTE                          0.066925\n",
       "ORTSGR_KLS9                       0.065589\n",
       "WOHNDAUER_2008                    0.065144\n",
       "PLZ8_ANTG3                        0.060532\n",
       "PLZ8_ANTG4                        0.057425\n",
       "PLZ8_BAUMAX                       0.052791\n",
       "KBA05_ANTG4                       0.046535\n",
       "RELAT_AB                          0.045066\n",
       "ARBEIT                            0.044844\n",
       "PLZ8_ANTG2                        0.042259\n",
       "ANZ_HAUSHALTE_AKTIV               0.040235\n",
       "VERS_TYP                          0.028877\n",
       "ANZ_HH_TITEL                      0.025978\n",
       "KBA05_ANTG3                       0.023192\n",
       "HH_EINKOMMEN_SCORE                0.020494\n",
       "PRAEGENDE_JUGENDJAHRE_MOVEMENT    0.014938\n",
       "PRAEGENDE_JUGENDJAHRE_DECADE      0.014938\n",
       "OST_WEST_KZ                       0.014783\n",
       "                                    ...   \n",
       "KKK                              -0.010611\n",
       "LP_LEBENSPHASE_FEIN              -0.020745\n",
       "KBA13_ANZAHL_PKW                 -0.022684\n",
       "GEBAEUDETYP_RASTER               -0.026697\n",
       "LP_LEBENSPHASE_GROB              -0.029022\n",
       "KBA05_ANTG1                      -0.037593\n",
       "MIN_GEBAEUDEJAHR                 -0.038060\n",
       "MOBI_REGIO                       -0.044084\n",
       "BALLRAUM                         -0.044959\n",
       "KONSUMNAEHE                      -0.045681\n",
       "PLZ8_GBZ                         -0.046078\n",
       "WOHNLAGE                         -0.048661\n",
       "INNENSTADT                       -0.052936\n",
       "KBA05_GBZ                        -0.053474\n",
       "ANZ_PERSONEN                     -0.053754\n",
       "PLZ8_ANTG1                       -0.056911\n",
       "HEALTH_TYP                       -0.060701\n",
       "SEMIO_VERT                       -0.088131\n",
       "SEMIO_SOZ                        -0.129160\n",
       "ONLINE_AFFINITAET                -0.154064\n",
       "SEMIO_RAT                        -0.175403\n",
       "SEMIO_MAT                        -0.183463\n",
       "FINANZ_ANLEGER                   -0.204802\n",
       "SEMIO_FAM                        -0.216790\n",
       "FINANZ_UNAUFFAELLIGER            -0.228840\n",
       "SEMIO_TRADV                      -0.244984\n",
       "SEMIO_PFLICHT                    -0.247356\n",
       "FINANZ_SPARER                    -0.249032\n",
       "SEMIO_KULT                       -0.253129\n",
       "SEMIO_REL                        -0.284492\n",
       "Name: 1, Length: 68, dtype: float64"
      ]
     },
     "execution_count": 55,
     "metadata": {},
     "output_type": "execute_result"
    }
   ],
   "source": [
    "print_feat_weights(pca_reduction, 1)"
   ]
  },
  {
   "cell_type": "code",
   "execution_count": 56,
   "metadata": {},
   "outputs": [
    {
     "data": {
      "text/plain": [
       "SEMIO_VERT                        0.340871\n",
       "SEMIO_SOZ                         0.252495\n",
       "SEMIO_FAM                         0.228481\n",
       "SEMIO_KULT                        0.208119\n",
       "FINANZ_MINIMALIST                 0.171539\n",
       "RETOURTYP_BK_S                    0.124243\n",
       "FINANZ_VORSORGER                  0.120571\n",
       "ALTERSKATEGORIE_GROB              0.107134\n",
       "W_KEIT_KIND_HH                    0.086938\n",
       "SEMIO_LUST                        0.086287\n",
       "GREEN_AVANTGARDE                  0.075866\n",
       "PRAEGENDE_JUGENDJAHRE_MOVEMENT    0.066984\n",
       "PRAEGENDE_JUGENDJAHRE_DECADE      0.066984\n",
       "ORTSGR_KLS9                       0.063183\n",
       "EWDICHTE                          0.062376\n",
       "PLZ8_BAUMAX                       0.054509\n",
       "PLZ8_ANTG4                        0.052955\n",
       "PLZ8_ANTG3                        0.052823\n",
       "SEMIO_REL                         0.041790\n",
       "WOHNDAUER_2008                    0.040928\n",
       "ARBEIT                            0.039187\n",
       "RELAT_AB                          0.038282\n",
       "PLZ8_ANTG2                        0.036267\n",
       "SEMIO_MAT                         0.035193\n",
       "KBA05_ANTG4                       0.029118\n",
       "ANZ_HAUSHALTE_AKTIV               0.025276\n",
       "ANZ_HH_TITEL                      0.016825\n",
       "ANZ_TITEL                         0.013083\n",
       "LP_LEBENSPHASE_FEIN               0.011575\n",
       "OST_WEST_KZ                       0.011569\n",
       "                                    ...   \n",
       "KBA05_ANTG2                      -0.011239\n",
       "KBA05_ANTG1                      -0.015278\n",
       "REGIOTYP                         -0.018204\n",
       "MIN_GEBAEUDEJAHR                 -0.020291\n",
       "MOBI_REGIO                       -0.022972\n",
       "KBA13_ANZAHL_PKW                 -0.023756\n",
       "KBA05_GBZ                        -0.025159\n",
       "KKK                              -0.029871\n",
       "HEALTH_TYP                       -0.033849\n",
       "GEBAEUDETYP_RASTER               -0.035306\n",
       "HH_EINKOMMEN_SCORE               -0.035963\n",
       "WOHNLAGE                         -0.039284\n",
       "PLZ8_GBZ                         -0.041550\n",
       "FINANZ_HAUSBAUER                 -0.045861\n",
       "KONSUMNAEHE                      -0.046108\n",
       "BALLRAUM                         -0.047772\n",
       "PLZ8_ANTG1                       -0.051065\n",
       "INNENSTADT                       -0.055904\n",
       "ONLINE_AFFINITAET                -0.059418\n",
       "SEMIO_TRADV                      -0.104037\n",
       "SEMIO_PFLICHT                    -0.104907\n",
       "FINANZ_UNAUFFAELLIGER            -0.114170\n",
       "FINANZ_SPARER                    -0.128154\n",
       "SEMIO_ERL                        -0.150467\n",
       "FINANZ_ANLEGER                   -0.212564\n",
       "SEMIO_RAT                        -0.236111\n",
       "SEMIO_KRIT                       -0.263027\n",
       "SEMIO_DOM                        -0.302530\n",
       "SEMIO_KAEM                       -0.324256\n",
       "ANREDE_KZ                        -0.358957\n",
       "Name: 2, Length: 68, dtype: float64"
      ]
     },
     "execution_count": 56,
     "metadata": {},
     "output_type": "execute_result"
    }
   ],
   "source": [
    "print_feat_weights(pca_reduction, 2)"
   ]
  },
  {
   "cell_type": "code",
   "execution_count": 57,
   "metadata": {},
   "outputs": [
    {
     "data": {
      "text/plain": [
       "GREEN_AVANTGARDE                  0.366190\n",
       "PRAEGENDE_JUGENDJAHRE_DECADE      0.362714\n",
       "PRAEGENDE_JUGENDJAHRE_MOVEMENT    0.362714\n",
       "EWDICHTE                          0.219766\n",
       "ORTSGR_KLS9                       0.218456\n",
       "LP_LEBENSPHASE_FEIN               0.164494\n",
       "LP_LEBENSPHASE_GROB               0.163035\n",
       "ANZ_PERSONEN                      0.156793\n",
       "ONLINE_AFFINITAET                 0.147318\n",
       "SEMIO_DOM                         0.123155\n",
       "SEMIO_KAEM                        0.093700\n",
       "RELAT_AB                          0.092658\n",
       "PLZ8_HHZ                          0.092438\n",
       "FINANZ_UNAUFFAELLIGER             0.092413\n",
       "PLZ8_ANTG2                        0.088470\n",
       "PLZ8_ANTG3                        0.088078\n",
       "KBA05_ANTG1                       0.080682\n",
       "PLZ8_ANTG4                        0.073539\n",
       "SEMIO_RAT                         0.072058\n",
       "ANREDE_KZ                         0.062358\n",
       "ARBEIT                            0.061429\n",
       "PLZ8_BAUMAX                       0.060688\n",
       "SEMIO_TRADV                       0.059193\n",
       "MOBI_REGIO                        0.052372\n",
       "SEMIO_PFLICHT                     0.043527\n",
       "ANZ_TITEL                         0.041481\n",
       "KBA05_GBZ                         0.040713\n",
       "FINANZ_MINIMALIST                 0.030760\n",
       "FINANZ_SPARER                     0.029235\n",
       "WOHNDAUER_2008                    0.024317\n",
       "                                    ...   \n",
       "SOHO_KZ                           0.002617\n",
       "CAMEO_INTL_2015_LIFE_STAGE       -0.000000\n",
       "CAMEO_INTL_2015_WEALTH           -0.000000\n",
       "KBA05_ANTG2                      -0.002226\n",
       "SEMIO_LUST                       -0.002747\n",
       "SEMIO_ERL                        -0.011468\n",
       "SEMIO_SOZ                        -0.014511\n",
       "RETOURTYP_BK_S                   -0.016789\n",
       "KBA05_ANTG4                      -0.023039\n",
       "ANZ_HAUSHALTE_AKTIV              -0.025257\n",
       "SEMIO_FAM                        -0.029249\n",
       "SEMIO_KULT                       -0.034520\n",
       "MIN_GEBAEUDEJAHR                 -0.037011\n",
       "FINANZ_VORSORGER                 -0.038179\n",
       "SEMIO_VERT                       -0.044224\n",
       "PLZ8_ANTG1                       -0.044360\n",
       "ALTERSKATEGORIE_GROB             -0.053629\n",
       "KBA05_ANTG3                      -0.057286\n",
       "GEBAEUDETYP_RASTER               -0.059385\n",
       "FINANZ_ANLEGER                   -0.059464\n",
       "FINANZ_HAUSBAUER                 -0.082528\n",
       "OST_WEST_KZ                      -0.083816\n",
       "KONSUMNAEHE                      -0.114274\n",
       "W_KEIT_KIND_HH                   -0.132196\n",
       "REGIOTYP                         -0.156480\n",
       "INNENSTADT                       -0.175732\n",
       "BALLRAUM                         -0.183041\n",
       "KKK                              -0.199363\n",
       "HH_EINKOMMEN_SCORE               -0.208408\n",
       "WOHNLAGE                         -0.238730\n",
       "Name: 3, Length: 68, dtype: float64"
      ]
     },
     "execution_count": 57,
     "metadata": {},
     "output_type": "execute_result"
    }
   ],
   "source": [
    "print_feat_weights(pca_reduction, 3)"
   ]
  },
  {
   "cell_type": "markdown",
   "metadata": {},
   "source": [
    "### Discussion 2.3: Interpret Principal Components\n",
    "\n",
    "Component 1:\n",
    "For component 1 the strongest positive feature is ALTERSKATEGORIE_GROB(0.277623), the strongest negative weighted component is SEMIO_REL(-0.284492). According to the data dictionary ALTERSKATEGORIE_GROB refers to the age range of individuals in this component while SEMIO_REL refers to the religious natrure of the inidivuals in this component. From this we can infer that this component increases with increases to age range and decreases as religious affinity decreases. Additionaly since these components have opposite signs when one goes up the other goes down and vide versa.\n",
    "\n",
    "Component 2:\n",
    "For component 2 the strongest positive feature is SEMIO_VERT(0.340871) relates to those with a dreamful personality. While the 2nd strongest positive weighted feature is SEMIO_SOZ(0.252495) indicates those that have a social minded personality. Again with SEMIO_VERT being positive, this means this component will increase with increases to those with a dreamful personality. Additionally this component would decrease as those with social minded personalities decrease.\n",
    "\n",
    "Component 3:\n",
    "Component 3's strongest positive weighted feature is GREEN_AVANTGARDE(0.366190) while the strongest negative feature is WOHNLAGE(-0.238730). According to the data dictionary these features correspond to Membership in environmental sustainability as part of youth and Neighborhood quality (or rural flag) respectively. Again as these features are negatively correlated we would except as one goes up the other would go down or vice versa. We would also expect that as membership in environmental sustainability as part of youth increase so would this component as a whole. Alternatively as neighborhood quality decreases we would expect this component to decrease with it."
   ]
  },
  {
   "cell_type": "markdown",
   "metadata": {},
   "source": [
    "## Step 3: Clustering\n",
    "\n",
    "### Step 3.1: Apply Clustering to General Population\n",
    "\n",
    "You've assessed and cleaned the demographics data, then scaled and transformed them. Now, it's time to see how the data clusters in the principal components space. In this substep, you will apply k-means clustering to the dataset and use the average within-cluster distances from each point to their assigned cluster's centroid to decide on a number of clusters to keep.\n",
    "\n",
    "- Use sklearn's [KMeans](http://scikit-learn.org/stable/modules/generated/sklearn.cluster.KMeans.html#sklearn.cluster.KMeans) class to perform k-means clustering on the PCA-transformed data.\n",
    "- Then, compute the average difference from each point to its assigned cluster's center. **Hint**: The KMeans object's `.score()` method might be useful here, but note that in sklearn, scores tend to be defined so that larger is better. Try applying it to a small, toy dataset, or use an internet search to help your understanding.\n",
    "- Perform the above two steps for a number of different cluster counts. You can then see how the average distance decreases with an increasing number of clusters. However, each additional cluster provides a smaller net benefit. Use this fact to select a final number of clusters in which to group the data. **Warning**: because of the large size of the dataset, it can take a long time for the algorithm to resolve. The more clusters to fit, the longer the algorithm will take. You should test for cluster counts through at least 10 clusters to get the full picture, but you shouldn't need to test for a number of clusters above about 30.\n",
    "- Once you've selected a final number of clusters to use, re-fit a KMeans instance to perform the clustering operation. Make sure that you also obtain the cluster assignments for the general demographics data, since you'll be using them in the final Step 3.3."
   ]
  },
  {
   "cell_type": "code",
   "execution_count": 85,
   "metadata": {},
   "outputs": [],
   "source": [
    "def get_kmeans_scores(data, centroid):\n",
    "    kmeans = KMeans(n_clusters = centroid, random_state =42)\n",
    "    model = kmeans.fit(data)\n",
    "    labels = model.predict(data)\n",
    "    scores = np.abs(kmeans.score(data))\n",
    "    return scores"
   ]
  },
  {
   "cell_type": "code",
   "execution_count": 86,
   "metadata": {},
   "outputs": [],
   "source": [
    "scores = []\n",
    "centroids = list(range(1,15))\n",
    "for centroid in centroids:\n",
    "    scores.append(get_kmeans_scores(azdias_pca, centroid))    "
   ]
  },
  {
   "cell_type": "code",
   "execution_count": 87,
   "metadata": {},
   "outputs": [
    {
     "data": {
      "image/png": "[encoded data removed]",
      "text/plain": [
       "<matplotlib.figure.Figure at 0x7f41289f90b8>"
      ]
     },
     "metadata": {
      "needs_background": "light"
     },
     "output_type": "display_data"
    }
   ],
   "source": [
    "plt.plot(centroids,scores, marker = \"*\", color = 'k');\n",
    "plt.ylabel('Avergae Distance to Cluster Centers')\n",
    "plt.xlabel('Number of Clusters (k)')\n",
    "plt.title('Eblow Chart');"
   ]
  },
  {
   "cell_type": "code",
   "execution_count": 88,
   "metadata": {},
   "outputs": [],
   "source": [
    "kmeans_7 = KMeans(n_clusters=7).fit(azdias_pca)"
   ]
  },
  {
   "cell_type": "markdown",
   "metadata": {},
   "source": [
    "### Discussion 3.1: Apply Clustering to General Population\n",
    "\n",
    "The above plot does not show a pronounced elbow, so in this case we need to use a little more are than science to choose the number of clusters for this dataset. That being said 7 is often a lucky number for some, so we will choose 7 for our number of clusters."
   ]
  },
  {
   "cell_type": "markdown",
   "metadata": {},
   "source": [
    "### Step 3.2: Apply All Steps to the Customer Data\n",
    "\n",
    "Now that you have clusters and cluster centers for the general population, it's time to see how the customer data maps on to those clusters. Take care to not confuse this for re-fitting all of the models to the customer data. Instead, you're going to use the fits from the general population to clean, transform, and cluster the customer data. In the last step of the project, you will interpret how the general population fits apply to the customer data.\n",
    "\n",
    "- Don't forget when loading in the customers data, that it is semicolon (`;`) delimited.\n",
    "- Apply the same feature wrangling, selection, and engineering steps to the customer demographics using the `clean_data()` function you created earlier. (You can assume that the customer demographics data has similar meaning behind missing data patterns as the general demographics data.)\n",
    "- Use the sklearn objects from the general demographics data, and apply their transformations to the customers data. That is, you should not be using a `.fit()` or `.fit_transform()` method to re-fit the old objects, nor should you be creating new sklearn objects! Carry the data through the feature scaling, PCA, and clustering steps, obtaining cluster assignments for all of the data in the customer demographics data."
   ]
  },
  {
   "cell_type": "code",
   "execution_count": 64,
   "metadata": {},
   "outputs": [],
   "source": [
    "customers = pd.read_csv('Udacity_CUSTOMERS_Subset.csv', sep=';')"
   ]
  },
  {
   "cell_type": "code",
   "execution_count": 65,
   "metadata": {},
   "outputs": [
    {
     "data": {
      "text/html": [
       "<div>\n",
       "<style scoped>\n",
       "    .dataframe tbody tr th:only-of-type {\n",
       "        vertical-align: middle;\n",
       "    }\n",
       "\n",
       "    .dataframe tbody tr th {\n",
       "        vertical-align: top;\n",
       "    }\n",
       "\n",
       "    .dataframe thead th {\n",
       "        text-align: right;\n",
       "    }\n",
       "</style>\n",
       "<table border=\"1\" class=\"dataframe\">\n",
       "  <thead>\n",
       "    <tr style=\"text-align: right;\">\n",
       "      <th></th>\n",
       "      <th>AGER_TYP</th>\n",
       "      <th>ALTERSKATEGORIE_GROB</th>\n",
       "      <th>ANREDE_KZ</th>\n",
       "      <th>CJT_GESAMTTYP</th>\n",
       "      <th>FINANZ_MINIMALIST</th>\n",
       "      <th>FINANZ_SPARER</th>\n",
       "      <th>FINANZ_VORSORGER</th>\n",
       "      <th>FINANZ_ANLEGER</th>\n",
       "      <th>FINANZ_UNAUFFAELLIGER</th>\n",
       "      <th>FINANZ_HAUSBAUER</th>\n",
       "      <th>...</th>\n",
       "      <th>PLZ8_ANTG1</th>\n",
       "      <th>PLZ8_ANTG2</th>\n",
       "      <th>PLZ8_ANTG3</th>\n",
       "      <th>PLZ8_ANTG4</th>\n",
       "      <th>PLZ8_BAUMAX</th>\n",
       "      <th>PLZ8_HHZ</th>\n",
       "      <th>PLZ8_GBZ</th>\n",
       "      <th>ARBEIT</th>\n",
       "      <th>ORTSGR_KLS9</th>\n",
       "      <th>RELAT_AB</th>\n",
       "    </tr>\n",
       "  </thead>\n",
       "  <tbody>\n",
       "    <tr>\n",
       "      <th>0</th>\n",
       "      <td>2</td>\n",
       "      <td>4</td>\n",
       "      <td>1</td>\n",
       "      <td>5.0</td>\n",
       "      <td>5</td>\n",
       "      <td>1</td>\n",
       "      <td>5</td>\n",
       "      <td>1</td>\n",
       "      <td>2</td>\n",
       "      <td>2</td>\n",
       "      <td>...</td>\n",
       "      <td>3.0</td>\n",
       "      <td>3.0</td>\n",
       "      <td>1.0</td>\n",
       "      <td>0.0</td>\n",
       "      <td>1.0</td>\n",
       "      <td>5.0</td>\n",
       "      <td>5.0</td>\n",
       "      <td>1.0</td>\n",
       "      <td>2.0</td>\n",
       "      <td>1.0</td>\n",
       "    </tr>\n",
       "    <tr>\n",
       "      <th>1</th>\n",
       "      <td>-1</td>\n",
       "      <td>4</td>\n",
       "      <td>1</td>\n",
       "      <td>NaN</td>\n",
       "      <td>5</td>\n",
       "      <td>1</td>\n",
       "      <td>5</td>\n",
       "      <td>1</td>\n",
       "      <td>3</td>\n",
       "      <td>2</td>\n",
       "      <td>...</td>\n",
       "      <td>NaN</td>\n",
       "      <td>NaN</td>\n",
       "      <td>NaN</td>\n",
       "      <td>NaN</td>\n",
       "      <td>NaN</td>\n",
       "      <td>NaN</td>\n",
       "      <td>NaN</td>\n",
       "      <td>NaN</td>\n",
       "      <td>NaN</td>\n",
       "      <td>NaN</td>\n",
       "    </tr>\n",
       "    <tr>\n",
       "      <th>2</th>\n",
       "      <td>-1</td>\n",
       "      <td>4</td>\n",
       "      <td>2</td>\n",
       "      <td>2.0</td>\n",
       "      <td>5</td>\n",
       "      <td>1</td>\n",
       "      <td>5</td>\n",
       "      <td>1</td>\n",
       "      <td>4</td>\n",
       "      <td>4</td>\n",
       "      <td>...</td>\n",
       "      <td>2.0</td>\n",
       "      <td>3.0</td>\n",
       "      <td>3.0</td>\n",
       "      <td>1.0</td>\n",
       "      <td>3.0</td>\n",
       "      <td>3.0</td>\n",
       "      <td>2.0</td>\n",
       "      <td>3.0</td>\n",
       "      <td>5.0</td>\n",
       "      <td>3.0</td>\n",
       "    </tr>\n",
       "    <tr>\n",
       "      <th>3</th>\n",
       "      <td>1</td>\n",
       "      <td>4</td>\n",
       "      <td>1</td>\n",
       "      <td>2.0</td>\n",
       "      <td>5</td>\n",
       "      <td>1</td>\n",
       "      <td>5</td>\n",
       "      <td>2</td>\n",
       "      <td>1</td>\n",
       "      <td>2</td>\n",
       "      <td>...</td>\n",
       "      <td>3.0</td>\n",
       "      <td>2.0</td>\n",
       "      <td>1.0</td>\n",
       "      <td>0.0</td>\n",
       "      <td>1.0</td>\n",
       "      <td>3.0</td>\n",
       "      <td>4.0</td>\n",
       "      <td>1.0</td>\n",
       "      <td>3.0</td>\n",
       "      <td>1.0</td>\n",
       "    </tr>\n",
       "    <tr>\n",
       "      <th>4</th>\n",
       "      <td>-1</td>\n",
       "      <td>3</td>\n",
       "      <td>1</td>\n",
       "      <td>6.0</td>\n",
       "      <td>3</td>\n",
       "      <td>1</td>\n",
       "      <td>4</td>\n",
       "      <td>4</td>\n",
       "      <td>5</td>\n",
       "      <td>2</td>\n",
       "      <td>...</td>\n",
       "      <td>2.0</td>\n",
       "      <td>4.0</td>\n",
       "      <td>2.0</td>\n",
       "      <td>1.0</td>\n",
       "      <td>2.0</td>\n",
       "      <td>3.0</td>\n",
       "      <td>3.0</td>\n",
       "      <td>3.0</td>\n",
       "      <td>5.0</td>\n",
       "      <td>1.0</td>\n",
       "    </tr>\n",
       "  </tbody>\n",
       "</table>\n",
       "<p>5 rows × 85 columns</p>\n",
       "</div>"
      ],
      "text/plain": [
       "   AGER_TYP  ALTERSKATEGORIE_GROB  ANREDE_KZ  CJT_GESAMTTYP  \\\n",
       "0         2                     4          1            5.0   \n",
       "1        -1                     4          1            NaN   \n",
       "2        -1                     4          2            2.0   \n",
       "3         1                     4          1            2.0   \n",
       "4        -1                     3          1            6.0   \n",
       "\n",
       "   FINANZ_MINIMALIST  FINANZ_SPARER  FINANZ_VORSORGER  FINANZ_ANLEGER  \\\n",
       "0                  5              1                 5               1   \n",
       "1                  5              1                 5               1   \n",
       "2                  5              1                 5               1   \n",
       "3                  5              1                 5               2   \n",
       "4                  3              1                 4               4   \n",
       "\n",
       "   FINANZ_UNAUFFAELLIGER  FINANZ_HAUSBAUER    ...     PLZ8_ANTG1  PLZ8_ANTG2  \\\n",
       "0                      2                 2    ...            3.0         3.0   \n",
       "1                      3                 2    ...            NaN         NaN   \n",
       "2                      4                 4    ...            2.0         3.0   \n",
       "3                      1                 2    ...            3.0         2.0   \n",
       "4                      5                 2    ...            2.0         4.0   \n",
       "\n",
       "   PLZ8_ANTG3  PLZ8_ANTG4  PLZ8_BAUMAX  PLZ8_HHZ  PLZ8_GBZ  ARBEIT  \\\n",
       "0         1.0         0.0          1.0       5.0       5.0     1.0   \n",
       "1         NaN         NaN          NaN       NaN       NaN     NaN   \n",
       "2         3.0         1.0          3.0       3.0       2.0     3.0   \n",
       "3         1.0         0.0          1.0       3.0       4.0     1.0   \n",
       "4         2.0         1.0          2.0       3.0       3.0     3.0   \n",
       "\n",
       "   ORTSGR_KLS9  RELAT_AB  \n",
       "0          2.0       1.0  \n",
       "1          NaN       NaN  \n",
       "2          5.0       3.0  \n",
       "3          3.0       1.0  \n",
       "4          5.0       1.0  \n",
       "\n",
       "[5 rows x 85 columns]"
      ]
     },
     "execution_count": 65,
     "metadata": {},
     "output_type": "execute_result"
    }
   ],
   "source": [
    "customers.head()"
   ]
  },
  {
   "cell_type": "code",
   "execution_count": 66,
   "metadata": {},
   "outputs": [
    {
     "name": "stdout",
     "output_type": "stream",
     "text": [
      "<class 'pandas.core.frame.DataFrame'>\n",
      "RangeIndex: 191652 entries, 0 to 191651\n",
      "Data columns (total 85 columns):\n",
      "AGER_TYP                 191652 non-null int64\n",
      "ALTERSKATEGORIE_GROB     191652 non-null int64\n",
      "ANREDE_KZ                191652 non-null int64\n",
      "CJT_GESAMTTYP            188439 non-null float64\n",
      "FINANZ_MINIMALIST        191652 non-null int64\n",
      "FINANZ_SPARER            191652 non-null int64\n",
      "FINANZ_VORSORGER         191652 non-null int64\n",
      "FINANZ_ANLEGER           191652 non-null int64\n",
      "FINANZ_UNAUFFAELLIGER    191652 non-null int64\n",
      "FINANZ_HAUSBAUER         191652 non-null int64\n",
      "FINANZTYP                191652 non-null int64\n",
      "GEBURTSJAHR              191652 non-null int64\n",
      "GFK_URLAUBERTYP          188439 non-null float64\n",
      "GREEN_AVANTGARDE         191652 non-null int64\n",
      "HEALTH_TYP               191652 non-null int64\n",
      "LP_LEBENSPHASE_FEIN      188439 non-null float64\n",
      "LP_LEBENSPHASE_GROB      188439 non-null float64\n",
      "LP_FAMILIE_FEIN          188439 non-null float64\n",
      "LP_FAMILIE_GROB          188439 non-null float64\n",
      "LP_STATUS_FEIN           188439 non-null float64\n",
      "LP_STATUS_GROB           188439 non-null float64\n",
      "NATIONALITAET_KZ         191652 non-null int64\n",
      "PRAEGENDE_JUGENDJAHRE    191652 non-null int64\n",
      "RETOURTYP_BK_S           188439 non-null float64\n",
      "SEMIO_SOZ                191652 non-null int64\n",
      "SEMIO_FAM                191652 non-null int64\n",
      "SEMIO_REL                191652 non-null int64\n",
      "SEMIO_MAT                191652 non-null int64\n",
      "SEMIO_VERT               191652 non-null int64\n",
      "SEMIO_LUST               191652 non-null int64\n",
      "SEMIO_ERL                191652 non-null int64\n",
      "SEMIO_KULT               191652 non-null int64\n",
      "SEMIO_RAT                191652 non-null int64\n",
      "SEMIO_KRIT               191652 non-null int64\n",
      "SEMIO_DOM                191652 non-null int64\n",
      "SEMIO_KAEM               191652 non-null int64\n",
      "SEMIO_PFLICHT            191652 non-null int64\n",
      "SEMIO_TRADV              191652 non-null int64\n",
      "SHOPPER_TYP              191652 non-null int64\n",
      "SOHO_KZ                  145056 non-null float64\n",
      "TITEL_KZ                 145056 non-null float64\n",
      "VERS_TYP                 191652 non-null int64\n",
      "ZABEOTYP                 191652 non-null int64\n",
      "ALTER_HH                 145056 non-null float64\n",
      "ANZ_PERSONEN             145056 non-null float64\n",
      "ANZ_TITEL                145056 non-null float64\n",
      "HH_EINKOMMEN_SCORE       188684 non-null float64\n",
      "KK_KUNDENTYP             79715 non-null float64\n",
      "W_KEIT_KIND_HH           137910 non-null float64\n",
      "WOHNDAUER_2008           145056 non-null float64\n",
      "ANZ_HAUSHALTE_AKTIV      141725 non-null float64\n",
      "ANZ_HH_TITEL             139542 non-null float64\n",
      "GEBAEUDETYP              141725 non-null float64\n",
      "KONSUMNAEHE              145001 non-null float64\n",
      "MIN_GEBAEUDEJAHR         141725 non-null float64\n",
      "OST_WEST_KZ              141725 non-null object\n",
      "WOHNLAGE                 141725 non-null float64\n",
      "CAMEO_DEUG_2015          141224 non-null object\n",
      "CAMEO_DEU_2015           141224 non-null object\n",
      "CAMEO_INTL_2015          141224 non-null object\n",
      "KBA05_ANTG1              135672 non-null float64\n",
      "KBA05_ANTG2              135672 non-null float64\n",
      "KBA05_ANTG3              135672 non-null float64\n",
      "KBA05_ANTG4              135672 non-null float64\n",
      "KBA05_BAUMAX             135672 non-null float64\n",
      "KBA05_GBZ                135672 non-null float64\n",
      "BALLRAUM                 141693 non-null float64\n",
      "EWDICHTE                 141693 non-null float64\n",
      "INNENSTADT               141693 non-null float64\n",
      "GEBAEUDETYP_RASTER       141725 non-null float64\n",
      "KKK                      137392 non-null float64\n",
      "MOBI_REGIO               135672 non-null float64\n",
      "ONLINE_AFFINITAET        188439 non-null float64\n",
      "REGIOTYP                 137392 non-null float64\n",
      "KBA13_ANZAHL_PKW         140371 non-null float64\n",
      "PLZ8_ANTG1               138888 non-null float64\n",
      "PLZ8_ANTG2               138888 non-null float64\n",
      "PLZ8_ANTG3               138888 non-null float64\n",
      "PLZ8_ANTG4               138888 non-null float64\n",
      "PLZ8_BAUMAX              138888 non-null float64\n",
      "PLZ8_HHZ                 138888 non-null float64\n",
      "PLZ8_GBZ                 138888 non-null float64\n",
      "ARBEIT                   141176 non-null float64\n",
      "ORTSGR_KLS9              141176 non-null float64\n",
      "RELAT_AB                 141176 non-null float64\n",
      "dtypes: float64(49), int64(32), object(4)\n",
      "memory usage: 124.3+ MB\n"
     ]
    }
   ],
   "source": [
    "customers.info()"
   ]
  },
  {
   "cell_type": "code",
   "execution_count": 67,
   "metadata": {},
   "outputs": [],
   "source": [
    "customers = clean_data(customers)"
   ]
  },
  {
   "cell_type": "code",
   "execution_count": 68,
   "metadata": {},
   "outputs": [
    {
     "name": "stdout",
     "output_type": "stream",
     "text": [
      "<class 'pandas.core.frame.DataFrame'>\n",
      "RangeIndex: 771701 entries, 0 to 771700\n",
      "Data columns (total 68 columns):\n",
      "ALTERSKATEGORIE_GROB              771701 non-null float64\n",
      "ANREDE_KZ                         771701 non-null float64\n",
      "FINANZ_MINIMALIST                 771701 non-null float64\n",
      "FINANZ_SPARER                     771701 non-null float64\n",
      "FINANZ_VORSORGER                  771701 non-null float64\n",
      "FINANZ_ANLEGER                    771701 non-null float64\n",
      "FINANZ_UNAUFFAELLIGER             771701 non-null float64\n",
      "FINANZ_HAUSBAUER                  771701 non-null float64\n",
      "GREEN_AVANTGARDE                  771701 non-null float64\n",
      "HEALTH_TYP                        771701 non-null float64\n",
      "LP_LEBENSPHASE_FEIN               771701 non-null float64\n",
      "LP_LEBENSPHASE_GROB               771701 non-null float64\n",
      "RETOURTYP_BK_S                    771701 non-null float64\n",
      "SEMIO_SOZ                         771701 non-null float64\n",
      "SEMIO_FAM                         771701 non-null float64\n",
      "SEMIO_REL                         771701 non-null float64\n",
      "SEMIO_MAT                         771701 non-null float64\n",
      "SEMIO_VERT                        771701 non-null float64\n",
      "SEMIO_LUST                        771701 non-null float64\n",
      "SEMIO_ERL                         771701 non-null float64\n",
      "SEMIO_KULT                        771701 non-null float64\n",
      "SEMIO_RAT                         771701 non-null float64\n",
      "SEMIO_KRIT                        771701 non-null float64\n",
      "SEMIO_DOM                         771701 non-null float64\n",
      "SEMIO_KAEM                        771701 non-null float64\n",
      "SEMIO_PFLICHT                     771701 non-null float64\n",
      "SEMIO_TRADV                       771701 non-null float64\n",
      "SOHO_KZ                           771701 non-null float64\n",
      "VERS_TYP                          771701 non-null float64\n",
      "ANZ_PERSONEN                      771701 non-null float64\n",
      "ANZ_TITEL                         771701 non-null float64\n",
      "HH_EINKOMMEN_SCORE                771701 non-null float64\n",
      "W_KEIT_KIND_HH                    771701 non-null float64\n",
      "WOHNDAUER_2008                    771701 non-null float64\n",
      "ANZ_HAUSHALTE_AKTIV               771701 non-null float64\n",
      "ANZ_HH_TITEL                      771701 non-null float64\n",
      "KONSUMNAEHE                       771701 non-null float64\n",
      "MIN_GEBAEUDEJAHR                  771701 non-null float64\n",
      "OST_WEST_KZ                       771701 non-null float64\n",
      "WOHNLAGE                          771701 non-null float64\n",
      "KBA05_ANTG1                       771701 non-null float64\n",
      "KBA05_ANTG2                       771701 non-null float64\n",
      "KBA05_ANTG3                       771701 non-null float64\n",
      "KBA05_ANTG4                       771701 non-null float64\n",
      "KBA05_GBZ                         771701 non-null float64\n",
      "BALLRAUM                          771701 non-null float64\n",
      "EWDICHTE                          771701 non-null float64\n",
      "INNENSTADT                        771701 non-null float64\n",
      "GEBAEUDETYP_RASTER                771701 non-null float64\n",
      "KKK                               771701 non-null float64\n",
      "MOBI_REGIO                        771701 non-null float64\n",
      "ONLINE_AFFINITAET                 771701 non-null float64\n",
      "REGIOTYP                          771701 non-null float64\n",
      "KBA13_ANZAHL_PKW                  771701 non-null float64\n",
      "PLZ8_ANTG1                        771701 non-null float64\n",
      "PLZ8_ANTG2                        771701 non-null float64\n",
      "PLZ8_ANTG3                        771701 non-null float64\n",
      "PLZ8_ANTG4                        771701 non-null float64\n",
      "PLZ8_BAUMAX                       771701 non-null float64\n",
      "PLZ8_HHZ                          771701 non-null float64\n",
      "PLZ8_GBZ                          771701 non-null float64\n",
      "ARBEIT                            771701 non-null float64\n",
      "ORTSGR_KLS9                       771701 non-null float64\n",
      "RELAT_AB                          771701 non-null float64\n",
      "PRAEGENDE_JUGENDJAHRE_MOVEMENT    771701 non-null float64\n",
      "PRAEGENDE_JUGENDJAHRE_DECADE      771701 non-null float64\n",
      "CAMEO_INTL_2015_WEALTH            771701 non-null float64\n",
      "CAMEO_INTL_2015_LIFE_STAGE        771701 non-null float64\n",
      "dtypes: float64(68)\n",
      "memory usage: 400.4 MB\n"
     ]
    }
   ],
   "source": [
    "azdias_scaled.info()"
   ]
  },
  {
   "cell_type": "code",
   "execution_count": 69,
   "metadata": {},
   "outputs": [
    {
     "name": "stdout",
     "output_type": "stream",
     "text": [
      "<class 'pandas.core.frame.DataFrame'>\n",
      "Int64Index: 135799 entries, 0 to 191651\n",
      "Data columns (total 68 columns):\n",
      "ALTERSKATEGORIE_GROB              135595 non-null float64\n",
      "ANREDE_KZ                         135799 non-null int64\n",
      "FINANZ_MINIMALIST                 135799 non-null int64\n",
      "FINANZ_SPARER                     135799 non-null int64\n",
      "FINANZ_VORSORGER                  135799 non-null int64\n",
      "FINANZ_ANLEGER                    135799 non-null int64\n",
      "FINANZ_UNAUFFAELLIGER             135799 non-null int64\n",
      "FINANZ_HAUSBAUER                  135799 non-null int64\n",
      "GREEN_AVANTGARDE                  135799 non-null int64\n",
      "HEALTH_TYP                        133866 non-null float64\n",
      "LP_LEBENSPHASE_FEIN               129746 non-null float64\n",
      "LP_LEBENSPHASE_GROB               129845 non-null float64\n",
      "RETOURTYP_BK_S                    135799 non-null float64\n",
      "SEMIO_SOZ                         135799 non-null int64\n",
      "SEMIO_FAM                         135799 non-null int64\n",
      "SEMIO_REL                         135799 non-null int64\n",
      "SEMIO_MAT                         135799 non-null int64\n",
      "SEMIO_VERT                        135799 non-null int64\n",
      "SEMIO_LUST                        135799 non-null int64\n",
      "SEMIO_ERL                         135799 non-null int64\n",
      "SEMIO_KULT                        135799 non-null int64\n",
      "SEMIO_RAT                         135799 non-null int64\n",
      "SEMIO_KRIT                        135799 non-null int64\n",
      "SEMIO_DOM                         135799 non-null int64\n",
      "SEMIO_KAEM                        135799 non-null int64\n",
      "SEMIO_PFLICHT                     135799 non-null int64\n",
      "SEMIO_TRADV                       135799 non-null int64\n",
      "SOHO_KZ                           135799 non-null float64\n",
      "VERS_TYP                          133866 non-null float64\n",
      "ANZ_PERSONEN                      135799 non-null float64\n",
      "ANZ_TITEL                         135799 non-null float64\n",
      "HH_EINKOMMEN_SCORE                135799 non-null float64\n",
      "W_KEIT_KIND_HH                    128605 non-null float64\n",
      "WOHNDAUER_2008                    135799 non-null float64\n",
      "ANZ_HAUSHALTE_AKTIV               133709 non-null float64\n",
      "ANZ_HH_TITEL                      133927 non-null float64\n",
      "KONSUMNAEHE                       135794 non-null float64\n",
      "MIN_GEBAEUDEJAHR                  135799 non-null float64\n",
      "OST_WEST_KZ                       135799 non-null int64\n",
      "WOHNLAGE                          135799 non-null float64\n",
      "KBA05_ANTG1                       132130 non-null float64\n",
      "KBA05_ANTG2                       132130 non-null float64\n",
      "KBA05_ANTG3                       132130 non-null float64\n",
      "KBA05_ANTG4                       132130 non-null float64\n",
      "KBA05_GBZ                         132128 non-null float64\n",
      "BALLRAUM                          135772 non-null float64\n",
      "EWDICHTE                          135772 non-null float64\n",
      "INNENSTADT                        135772 non-null float64\n",
      "GEBAEUDETYP_RASTER                135799 non-null float64\n",
      "KKK                               127376 non-null float64\n",
      "MOBI_REGIO                        132130 non-null float64\n",
      "ONLINE_AFFINITAET                 135799 non-null float64\n",
      "REGIOTYP                          127376 non-null float64\n",
      "KBA13_ANZAHL_PKW                  135400 non-null float64\n",
      "PLZ8_ANTG1                        135059 non-null float64\n",
      "PLZ8_ANTG2                        135059 non-null float64\n",
      "PLZ8_ANTG3                        135059 non-null float64\n",
      "PLZ8_ANTG4                        135059 non-null float64\n",
      "PLZ8_BAUMAX                       135059 non-null float64\n",
      "PLZ8_HHZ                          135059 non-null float64\n",
      "PLZ8_GBZ                          135059 non-null float64\n",
      "ARBEIT                            135275 non-null float64\n",
      "ORTSGR_KLS9                       135295 non-null float64\n",
      "RELAT_AB                          135275 non-null float64\n",
      "PRAEGENDE_JUGENDJAHRE_MOVEMENT    135799 non-null int64\n",
      "PRAEGENDE_JUGENDJAHRE_DECADE      135799 non-null int64\n",
      "CAMEO_INTL_2015_WEALTH            135799 non-null int64\n",
      "CAMEO_INTL_2015_LIFE_STAGE        135799 non-null int64\n",
      "dtypes: float64(41), int64(27)\n",
      "memory usage: 71.5 MB\n"
     ]
    }
   ],
   "source": [
    "customers.info()"
   ]
  },
  {
   "cell_type": "code",
   "execution_count": 70,
   "metadata": {},
   "outputs": [],
   "source": [
    "# Replace NaN\n",
    "customers_imputed = pd.DataFrame(imputer.transform(customers))\n",
    "customers_imputed.columns = customers.columns\n",
    "#customers_imputed.index = customers.index"
   ]
  },
  {
   "cell_type": "code",
   "execution_count": 76,
   "metadata": {},
   "outputs": [],
   "source": [
    "cumstomers_scaled = scaler.transform(customers_imputed);"
   ]
  },
  {
   "cell_type": "code",
   "execution_count": 77,
   "metadata": {},
   "outputs": [],
   "source": [
    "customers_pca = pca_reduction.transform(customers_imputed);"
   ]
  },
  {
   "cell_type": "markdown",
   "metadata": {},
   "source": [
    "### Step 3.3: Compare Customer Data to Demographics Data\n",
    "\n",
    "At this point, you have clustered data based on demographics of the general population of Germany, and seen how the customer data for a mail-order sales company maps onto those demographic clusters. In this final substep, you will compare the two cluster distributions to see where the strongest customer base for the company is.\n",
    "\n",
    "Consider the proportion of persons in each cluster for the general population, and the proportions for the customers. If we think the company's customer base to be universal, then the cluster assignment proportions should be fairly similar between the two. If there are only particular segments of the population that are interested in the company's products, then we should see a mismatch from one to the other. If there is a higher proportion of persons in a cluster for the customer data compared to the general population (e.g. 5% of persons are assigned to a cluster for the general population, but 15% of the customer data is closest to that cluster's centroid) then that suggests the people in that cluster to be a target audience for the company. On the other hand, the proportion of the data in a cluster being larger in the general population than the customer data (e.g. only 2% of customers closest to a population centroid that captures 6% of the data) suggests that group of persons to be outside of the target demographics.\n",
    "\n",
    "Take a look at the following points in this step:\n",
    "\n",
    "- Compute the proportion of data points in each cluster for the general population and the customer data. Visualizations will be useful here: both for the individual dataset proportions, but also to visualize the ratios in cluster representation between groups. Seaborn's [`countplot()`](https://seaborn.pydata.org/generated/seaborn.countplot.html) or [`barplot()`](https://seaborn.pydata.org/generated/seaborn.barplot.html) function could be handy.\n",
    "  - Recall the analysis you performed in step 1.1.3 of the project, where you separated out certain data points from the dataset if they had more than a specified threshold of missing values. If you found that this group was qualitatively different from the main bulk of the data, you should treat this as an additional data cluster in this analysis. Make sure that you account for the number of data points in this subset, for both the general population and customer datasets, when making your computations!\n",
    "- Which cluster or clusters are overrepresented in the customer dataset compared to the general population? Select at least one such cluster and infer what kind of people might be represented by that cluster. Use the principal component interpretations from step 2.3 or look at additional components to help you make this inference. Alternatively, you can use the `.inverse_transform()` method of the PCA and StandardScaler objects to transform centroids back to the original data space and interpret the retrieved values directly.\n",
    "- Perform a similar investigation for the underrepresented clusters. Which cluster or clusters are underrepresented in the customer dataset compared to the general population, and what kinds of people are typified by these clusters?"
   ]
  },
  {
   "cell_type": "code",
   "execution_count": null,
   "metadata": {},
   "outputs": [],
   "source": []
  },
  {
   "cell_type": "markdown",
   "metadata": {},
   "source": [
    "### Discussion 3.3: Compare Customer Data to Demographics Data\n",
    "\n"
   ]
  },
  {
   "cell_type": "markdown",
   "metadata": {},
   "source": [
    "> Congratulations on making it this far in the project! Before you finish, make sure to check through the entire notebook from top to bottom to make sure that your analysis follows a logical flow and all of your findings are documented in **Discussion** cells. Once you've checked over all of your work, you should export the notebook as an HTML document to submit for evaluation. You can do this from the menu, navigating to **File -> Download as -> HTML (.html)**. You will submit both that document and this notebook for your project submission."
   ]
  },
  {
   "cell_type": "raw",
   "metadata": {},
   "source": []
  },
  {
   "cell_type": "raw",
   "metadata": {},
   "source": []
  }
 ],
 "metadata": {
  "kernelspec": {
   "display_name": "Python 3",
   "language": "python",
   "name": "python3"
  },
  "language_info": {
   "codemirror_mode": {
    "name": "ipython",
    "version": 3
   },
   "file_extension": ".py",
   "mimetype": "text/x-python",
   "name": "python",
   "nbconvert_exporter": "python",
   "pygments_lexer": "ipython3",
   "version": "3.6.3"
  }
 },
 "nbformat": 4,
 "nbformat_minor": 2
}
